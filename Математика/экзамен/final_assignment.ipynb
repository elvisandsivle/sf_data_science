{
  "cells": [
    {
      "cell_type": "markdown",
      "metadata": {
        "id": "5kJWnB5cVQKy"
      },
      "source": [
        "**Инструкция по выполнению:** Выполните задания в этом же ноутбуке, места под решение каждой задачи обозначены как **Ваш ответ**.\n",
        "\n",
        "**Как отправить задание на проверку:** Вам необходимо сохранить ваше решение в данном блокноте и отправить итоговый **файл .IPYNB** на учебной платформе.\n",
        "\n",
        "**Срок проверки преподавателем:** в течение 3 дней после завершения экзамена.\n",
        "\n",
        "### Прежде чем проверять задания:"
      ]
    },
    {
      "cell_type": "markdown",
      "source": [
        "\n",
        "1. Перезапустите **ядро (restart the kernel)**: в меню, выбрать **Ядро (Kernel)**\n",
        "→ **Перезапустить (Restart)**.\n",
        "2. Затем **Выполнить** **все ячейки (run all cells)**: в меню, выбрать **Ячейка (Cell)**\n",
        "→ **Запустить все (Run All)**.\n",
        "\n",
        "После ячеек с заданием следуют ячейки с проверкой **с помощью assert.**\n",
        "\n",
        "Если в коде есть ошибки, assert выведет уведомление об ошибке.\n",
        "\n",
        "Если в коде нет ошибок, assert отработает без вывода дополнительной информации."
      ],
      "metadata": {
        "id": "lbOLWBa5SDoG"
      }
    },
    {
      "cell_type": "markdown",
      "metadata": {
        "id": "TsEGbqx1VQK3"
      },
      "source": [
        "---"
      ]
    },
    {
      "cell_type": "markdown",
      "metadata": {
        "id": "AOgJXD9xVQK4"
      },
      "source": [
        "# Условия итогового задания.\n",
        "\n",
        "**Цель:** определить оптимальные алгоритмы и модели МО для задач классификации и регрессии.\n",
        "\n",
        "В задании необходимо:\n",
        "\n",
        "*  имплементировать предварительный анализ данных и препроцессинг;\n",
        "*  использовать 8 моделей регрессии и 7 моделей классификации;\n",
        "*  подобрать к этим моделям оптимальные параметры с помощью GridSearchCV;\n",
        "*  определить оптимальную модель и обосновать свой выбор.\n",
        "\n",
        "**Система оценивания:** за работу можно получить максимум 30 баллов.\n",
        "*  Предварительный анализ данных для задачи регрессии — 7 баллов.\n",
        "*  Подготовка датасета для задачи регрессии — 7 баллов\n",
        "*  Работа с алгоритмами регрессии — 8 баллов\n",
        "*  Работа с алгоритмами классификации —  8 баллов\n"
      ]
    },
    {
      "cell_type": "markdown",
      "metadata": {
        "deletable": false,
        "editable": false,
        "nbgrader": {
          "cell_type": "markdown",
          "checksum": "e5528d876d643d363ca475b7932ff7cd",
          "grade": false,
          "grade_id": "cell-6c7280d3091524bf",
          "locked": true,
          "schema_version": 3,
          "solution": false,
          "task": false
        },
        "id": "2Q1E1OY8VQK7"
      },
      "source": [
        "При решении задания потребуются следующие библиотеки:\n",
        "- pandas\n",
        "- numpy\n",
        "- ydata_profiling\n",
        "- sklearn\n",
        "- xgboost\n",
        "- catboost\n",
        "\n",
        "Установить их можно следующим образом:\n",
        "- pip install pandas==2.0.0\n",
        "- pip install numpy==1.24.0\n",
        "- pip install ydata-profiling==4.3.1\n",
        "- pip install scikit-learn==1.2.0\n",
        "- pip install xgboost==1.7.5\n",
        "- pip install catboost==1.2"
      ]
    },
    {
      "cell_type": "markdown",
      "metadata": {
        "deletable": false,
        "editable": false,
        "nbgrader": {
          "cell_type": "markdown",
          "checksum": "edf8f4ede57b944fdd013df302c42af1",
          "grade": false,
          "grade_id": "cell-c8b0af6ebda6c586",
          "locked": true,
          "schema_version": 3,
          "solution": false,
          "task": false
        },
        "id": "NoxQhVDJVQK4"
      },
      "source": [
        "## Алгоритмы регрессии, которые можно использовать при решении"
      ]
    },
    {
      "cell_type": "markdown",
      "source": [
        "\n",
        "Scikit-learn (sklearn) и ряд других библиотек предлагают множество алгоритмов регрессии, которые можно использовать для решения задач прогнозирования численных значений. Вот некоторые из наиболее популярных алгоритмов регрессии:\n",
        "\n",
        "1. Линейная регрессия (Linear Regression): `sklearn.linear_model.LinearRegression`:\n",
        "   - Простая модель, основанная на линейной комбинации признаков.\n",
        "   - Подходит для задач с линейной зависимостью между признаками и целевой переменной.\n",
        "\n",
        "2. Регрессия LASSO (LASSO Regression): `sklearn.linear_model.Lasso`:\n",
        "   - Линейная модель, которая также выполняет регуляризацию L1 (L1 regularization).\n",
        "   - Помогает в выборе наиболее важных признаков и обеспечивает разреженность весов.\n",
        "\n",
        "3. Регрессия Ridge (Ridge Regression): `sklearn.linear_model.Ridge`:\n",
        "   - Линейная модель, которая выполняет регуляризацию L2 (L2 regularization).\n",
        "   - Помогает в уменьшении эффекта мультиколлинеарности и контролирует значения весов.\n",
        "\n",
        "4. ElasticNet регрессия (ElasticNet Regression): `sklearn.linear_model.ElasticNet`:\n",
        "   - Комбинация регрессии LASSO и регрессии Ridge.\n",
        "   - Обеспечивает баланс между отбором признаков и контролем мультиколлинеарности.\n",
        "\n",
        "5. Регрессия по методу опорных векторов (Support Vector Regression): `sklearn.svm.SVR`:\n",
        "   - Расширение метода опорных векторов для задачи регрессии.\n",
        "   - Позволяет работать с нелинейными зависимостями с помощью ядерных функций.\n",
        "\n",
        "6. Решающие деревья (Decision Trees): `sklearn.tree.DecisionTreeRegressor`:\n",
        "   - Модель, основанная на деревьях принятия решений.\n",
        "   - Позволяет обрабатывать нелинейные зависимости и автоматически выбирать наиболее важные признаки.\n",
        "\n",
        "7. Случайный лес (Random Forest): `sklearn.ensemble.RandomForestRegressor`:\n",
        "   - Ансамблевая модель, состоящая из множества решающих деревьев.\n",
        "   - Объединяет прогнозы множества деревьев для улучшения обобщающей способности.\n",
        "\n",
        "8. Градиентный бустинг (Gradient Boosting): `sklearn.ensemble.GradientBoostingRegressor`:\n",
        "   - Ансамблевая модель, которая строит ансамбль слабых моделей в итеративном режиме.\n",
        "   - Каждая новая модель исправляет ошибки предыдущих моделей, улучшая предсказания.\n",
        "\n",
        "9. AdaBoost (Adaptive Boosting): `sklearn.ensemble.AdaBoostRegressor`:\n",
        "   - Алгоритм адаптивного бустинга, который взвешивает обучающие примеры для создания модели.\n",
        "   - Фокусируется на примерах с большими ошибками для их исправления.\n",
        "\n",
        "10. XGBoost: `xgboost.XGBRegressor`:\n",
        "    - Библиотека с открытым исходным кодом, предоставляющая градиентный бустинг.\n",
        "    - Позволяет эффективно обрабатывать большие наборы данных и достигать высокой точности.\n",
        "\n",
        "11. LightGBM: `lightgbm.LGBMRegressor`:\n",
        "    - Библиотека с открытым исходным кодом, предоставляющая градиентный бустинг.\n",
        "    - Ориентирована на эффективность и скорость работы с большими объемами данных.\n",
        "\n",
        "12. CatBoost: `catboost.CatBoostRegressor`:\n",
        "    - Библиотека с открытым исходным кодом, предоставляющая градиентный бустинг.\n",
        "    - Обладает встроенной поддержкой категориальных признаков и автоматическим кодированием."
      ],
      "metadata": {
        "id": "hIlSobB_nsJo"
      }
    },
    {
      "cell_type": "markdown",
      "source": [
        "## Алгоритмы классификации, которые можно использовать использовать при решении"
      ],
      "metadata": {
        "id": "85VkXolJn0De"
      }
    },
    {
      "cell_type": "markdown",
      "source": [
        "\n",
        "1. K-ближайших соседей (K-Nearest Neighbors): `sklearn.neighbors.KNeighborsClassifier`:\n",
        "   - Алгоритм, который классифицирует объекты на основе ближайших соседей в пространстве признаков.\n",
        "   - Основывается на значении классов соседей для принятия решения о классификации.\n",
        "\n",
        "2. Логистическая регрессия (Logistic Regression): `sklearn.linear_model.LogisticRegression`:\n",
        "   - Классификационная модель, которая использует логистическую функцию для предсказания вероятности принадлежности к классам.\n",
        "   - Часто используется в задачах бинарной классификации.\n",
        "   \n",
        "3. Наивный Байес (Naive Bayes): `sklearn.naive_bayes.GaussianNB` (для непрерывных признаков) или `sklearn.naive_bayes.MultinomialNB` (для дискретных признаков):\n",
        "   - Вероятностный классификатор, основанный на применении теоремы Байеса с предположением о независимости признаков.\n",
        "   - Хорошо работает с наборами данных с большим числом признаков и предположением о независимости признаков.\n",
        "\n",
        "4. Метод опорных векторов (Support Vector Machines): `sklearn.svm.SVC`:\n",
        "   - Алгоритм, который строит гиперплоскость или набор гиперплоскостей в многомерном пространстве для классификации объектов.\n",
        "   - Может обрабатывать нелинейные зависимости с помощью ядерных функций.\n",
        "\n",
        "5. Решающие деревья (Decision Trees): `sklearn.tree.DecisionTreeClassifier`:\n",
        "   - Модель, основанная на деревьях принятия решений.\n",
        "   - Позволяет обрабатывать нелинейные зависимости и автоматически выбирать наиболее важные признаки.\n",
        "\n",
        "6. Случайный лес (Random Forest): `sklearn.ensemble.RandomForestClassifier`:\n",
        "   - Ансамблевая модель, состоящая из множества решающих деревьев.\n",
        "   - Объединяет прогнозы множества деревьев для улучшения обобщающей способности.\n",
        "\n",
        "7. Градиентный бустинг (Gradient Boosting): `sklearn.ensemble.GradientBoostingClassifier`:\n",
        "   - Ансамблевая модель, которая строит ансамбль слабых моделей в итеративном режиме.\n",
        "   - Каждая новая модель исправляет ошибки предыдущих моделей, улучшая предсказания.\n",
        "\n",
        "8. AdaBoost (Adaptive Boosting): `sklearn.ensemble.AdaBoostClassifier`:\n",
        "   - Алгоритм адаптивного бустинга, который взвешивает обучающие примеры для создания модели.\n",
        "   - Фокусируется на примерах с большими ошибками для их исправления.\n",
        "\n",
        "9. XGBoost: `xgboost.XGBClassifier`:\n",
        "   - Библиотека с открытым исходным кодом, предоставляющая градиентный бустинг для классификации.\n",
        "   - Позволяет эффективно обрабатывать большие наборы данных и достигать высокой точности.\n",
        "\n",
        "10. LightGBM: `lightgbm.LGBMClassifier`:\n",
        "    - Библиотека с открытым исходным кодом, предоставляющая градиентный бустинг для классификации.\n",
        "    - Ориентирована на эффективность и скорость работы с большими объемами данных.\n",
        "\n",
        "11. CatBoost: `catboost.CatBoostClassifier`:\n",
        "    - Библиотека с открытым исходным кодом, предоставляющая градиентный бустинг для классификации.\n",
        "    - Обладает встроенной поддержкой категориальных признаков и автоматическим кодированием.\n",
        "\n",
        "Это некоторые из алгоритмов, доступных в scikit-learn и других библиотеках. Каждый алгоритм имеет свои особенности и подходит для разных типов данных и задач. Вам следует экспериментировать с разными алгоритмами и настраивать их параметры для достижения наилучших результатов в конкретной задаче."
      ],
      "metadata": {
        "id": "BEaOacJEn35J"
      }
    },
    {
      "cell_type": "markdown",
      "metadata": {
        "deletable": false,
        "editable": false,
        "nbgrader": {
          "cell_type": "markdown",
          "checksum": "f29e49eea386276e04ce9f2f418609d6",
          "grade": false,
          "grade_id": "cell-658289d13c79100f",
          "locked": true,
          "schema_version": 3,
          "solution": false,
          "task": false
        },
        "id": "IFnqvZNyVQK7"
      },
      "source": [
        "# Задача регрессии"
      ]
    },
    {
      "cell_type": "markdown",
      "source": [
        "## Описание датасета"
      ],
      "metadata": {
        "id": "Y69FndL2M7ve"
      }
    },
    {
      "cell_type": "markdown",
      "metadata": {
        "deletable": false,
        "editable": false,
        "nbgrader": {
          "cell_type": "markdown",
          "checksum": "ef6eda1d9ec797900ddccc8c1d5cdb8c",
          "grade": false,
          "grade_id": "cell-16986542c6b77bcc",
          "locked": true,
          "schema_version": 3,
          "solution": false,
          "task": false
        },
        "id": "nkwE3SYqVQK8"
      },
      "source": [
        "Датасет Boston является одним из классических наборов данных. Он представляет собой набор данных, связанных с ценами на жилье в Бостоне, Массачусетс, США. Этот набор данных широко используется в задачах регрессии и демонстрирует взаимосвязь между различными факторами и стоимостью жилья.\n",
        "\n",
        "Описание признаков (признаки ниже представлены в формате \"название признака (тип данных)\"):\n",
        "1. CRIM (float): уровень преступности на душу населения по городам.\n",
        "2. ZN (float): доля жилой земли, зонированной для участков более 25 000 кв.фут.\n",
        "3. INDUS (float): доля нерозничных площадей на город.\n",
        "4. CHAS (integer): Данный признак является фиктивной переменной, представляющей наличие или отсутствие ограничения участка жилья рекой Charles River.\n",
        "5. NOX (float): концентрация оксидов азота (частей на 10 миллионов).\n",
        "6. RM (float): среднее количество комнат в жилом помещении.\n",
        "7. AGE (float): доля занятых владельцами единиц, построенных до 1940 года.\n",
        "8. DIS (float): взвешенные расстояния до пяти бостонских центров занятости.\n",
        "9. RAD (integer): индекс доступности к радиальным магистралям.\n",
        "10. TAX (integer): полная ставка налога на имущество на 10 000 долларов США.\n",
        "11. PTRATIO (float): соотношение учеников и учителей по городам.\n",
        "12. B (float): 1000 * (Bk - 0.63) ^ 2, где Bk - доля чернокожего населения по городам.\n",
        "13. LSTAT (float): процент более низкого статуса населения.\n",
        "14. MEDV (float): медианная стоимость домов, занимаемых владельцами, в тысячах долларов.\n",
        "\n",
        "Целевая переменная (выходной признак):\n",
        "- MEDV: медианная стоимость домов, занимаемых владельцами, в тысячах долларов.\n",
        "\n",
        "Цель состоит в том, чтобы предсказать медианную стоимость жилья на основе доступных признаков. Этот набор данных часто используется для задачи регрессии и оценки моделей машинного обучения на основе различных признаков, связанных с жильем."
      ]
    },
    {
      "cell_type": "markdown",
      "metadata": {
        "deletable": false,
        "editable": false,
        "nbgrader": {
          "cell_type": "markdown",
          "checksum": "f92e502c713adc63615bdfdbb07784e4",
          "grade": false,
          "grade_id": "cell-706ab955ae88def5",
          "locked": true,
          "points": 0,
          "schema_version": 3,
          "solution": false,
          "task": true
        },
        "id": "cTbJp9w7VQLA"
      },
      "source": [
        "## Задание 1. Предварительный анализ данных (7 баллов)\n",
        "\n",
        "Изучите отчет, сгенерированный через ydata-profiling. В нескольких словах (до 30 слов на одну особенность) выделите 3 главных интересных особенности данных (обнаружение пропущенных значений, выбросы, корреляции, интерпретация полученных результатов.)\n",
        "\n",
        "**Критерии оценивания**\n",
        "* По 2 балла — за выделение и обоснование каждой особенности.\n",
        "* 1 балл — выделенные особенности в совокупности объясняют специфику датасета.\n",
        "\n",
        "Пример:\n",
        "\n",
        "**Пропущенные значения**: Обнаружены пропущенные значения в столбце \"Возраст\" (7% пропусков) и столбце \"Доход\" (12% пропусков). Это может потребовать дополнительной обработки данных для заполнения или удаления пропущенных значений, чтобы не искажать анализ.\n",
        "\n",
        "**Выбросы**: Обнаружены выбросы в столбце \"Количество продаж\". Некоторые значения значительно превышают среднее значение, что может указывать на аномалии или ошибки в данных. Подробный анализ этих выбросов может помочь в выявлении потенциальных проблем или особых случаев в данных.\n",
        "\n",
        "**Корреляция**: Выявлена сильная положительная корреляция между столбцами \"Время проведения\" и \"Количество участников\" (коэффициент корреляции 0.85). Это может указывать на то, что чем дольше проводится мероприятие, тем больше участников оно привлекает. Эта информация может быть полезной при планировании будущих мероприятий или определении их успешности.\n"
      ]
    },
    {
      "cell_type": "markdown",
      "source": [
        "### Код для инициализации библиотек"
      ],
      "metadata": {
        "id": "MuRgOuvrMoHO"
      }
    },
    {
      "cell_type": "code",
      "execution_count": null,
      "metadata": {
        "deletable": false,
        "editable": false,
        "nbgrader": {
          "cell_type": "code",
          "checksum": "ac52cb26d292a5cd6ac260dab97f439e",
          "grade": false,
          "grade_id": "cell-8165953e47c32a9a",
          "locked": true,
          "schema_version": 3,
          "solution": false,
          "task": false
        },
        "id": "_xcBk_ASVQK9"
      },
      "outputs": [],
      "source": [
        "import pandas as pd\n",
        "import numpy as np\n",
        "import time\n",
        "from ydata_profiling import ProfileReport\n",
        "\n",
        "from sklearn.model_selection import train_test_split\n",
        "from sklearn.compose import ColumnTransformer\n",
        "from sklearn.pipeline import Pipeline\n",
        "from sklearn.preprocessing import StandardScaler, OneHotEncoder\n",
        "\n",
        "from sklearn.model_selection import GridSearchCV\n",
        "from sklearn.metrics import mean_squared_error\n",
        "from sklearn.metrics import f1_score\n",
        "\n",
        "import xgboost as xgb\n",
        "import catboost as cb\n",
        "\n",
        "import warnings\n",
        "warnings.filterwarnings(\"ignore\")"
      ]
    },
    {
      "cell_type": "code",
      "execution_count": null,
      "metadata": {
        "deletable": false,
        "editable": false,
        "nbgrader": {
          "cell_type": "code",
          "checksum": "15a9f337f12db70e02fedffa3b145eb1",
          "grade": false,
          "grade_id": "cell-db515d3b90a6f1e1",
          "locked": true,
          "schema_version": 3,
          "solution": false,
          "task": false
        },
        "id": "m8Om131TVQK_"
      },
      "outputs": [],
      "source": [
        "# Загрузка данных из CSV файла\n",
        "data = pd.read_csv(\"boston.csv\", delimiter=\",\")\n",
        "# data.head()"
      ]
    },
    {
      "cell_type": "code",
      "execution_count": null,
      "metadata": {
        "id": "c26b0vIaVQK_"
      },
      "outputs": [],
      "source": [
        "profile = ProfileReport(data, title=\"Profiling Report\")\n",
        "profile.to_notebook_iframe()"
      ]
    },
    {
      "cell_type": "markdown",
      "metadata": {
        "id": "ILCKKRkgVQLA"
      },
      "source": [
        "### Обратите внимание при анализе отчёта"
      ]
    },
    {
      "cell_type": "markdown",
      "source": [
        "\n",
        "При анализе отчета, сгенерированного в ydata-profiling, есть несколько ключевых аспектов, на которые стоит обратить внимание:\n",
        "\n",
        "1. **Общая информация.** Начните с обзора общей информации о наборе данных, такой как количество столбцов и строк, типы данных, пропущенные значения и т. д. Это поможет вам понять базовую структуру данных и выявить возможные проблемы.\n",
        "\n",
        "2. **Распределение переменных.** Изучите статистические показатели каждого столбца, такие как среднее значение, минимальное и максимальное значения, квартили и т. д. Это может помочь вам понять распределение данных и выявить аномалии. Это позволяет определить аномальные значения, выбросы или наличие сильно искаженных распределений.\n",
        "\n",
        "3. **Взаимосвязь между переменными.** Исследуйте взаимосвязь между переменными, используя графические представления, предоставленные ydata-profiling. Например, график Interactions покажет вам связи между парами переменных, что может быть полезно при поиске зависимостей или влияния одной переменной на другую.\n",
        "\n",
        "4. **Корреляция.** Оцените корреляцию между переменными. ydata-profiling включает матрицу корреляции и графическое представление корреляции, помогающие выявить взаимосвязи между переменными. Это может помочь определить наличие мультиколлинеарности или выявить важные связи между переменными.\n",
        "\n",
        "5. **Пропущенные значения.** Проанализируйте пропущенные значения в каждом столбце. ydata-profiling предоставляет информацию о количестве пропущенных значений и их процентном соотношении. Это поможет вам оценить, насколько полны ваши данные и принять решение о способе обработки пропущенных значений.\n",
        "\n",
        "6. **Выборка.** Посмотрите на первые и последние строки в выборке, чтобы иметь представление о данных."
      ],
      "metadata": {
        "id": "uuzeiaP2ZcZj"
      }
    },
    {
      "cell_type": "markdown",
      "source": [
        "## Ваш ответ"
      ],
      "metadata": {
        "id": "9lgJ03MsMdLq"
      }
    },
    {
      "cell_type": "markdown",
      "source": [
        "Начинайте здесь"
      ],
      "metadata": {
        "id": "wLdJ3m34MfBG"
      }
    },
    {
      "cell_type": "markdown",
      "metadata": {
        "deletable": false,
        "editable": false,
        "nbgrader": {
          "cell_type": "markdown",
          "checksum": "e1cbdaf2388f11b094604004c09ade4f",
          "grade": false,
          "grade_id": "cell-58021385fecdaae1",
          "locked": true,
          "schema_version": 3,
          "solution": false,
          "task": false
        },
        "id": "6qWNUPpyVQLA"
      },
      "source": [
        "## Задание 2. Подготовка данных (7 баллов)\n",
        "\n",
        "Подготовьте данные датасета к работе.\n",
        "\n",
        "**Критерии оценивания:**\n",
        "* 2 балла — определён список категориальных и числовых признаков в переменные categorical_features и numerical_features.\n",
        "* 2 балла — определены препроцессоры для них и сохранены в categorical_transformer и numerical_transformer соответственно.\n",
        "* 1 балла — препроцессоры объединены в переменную preprocessor.\n",
        "* 1 балл — создан пайплайн обучения модели и результат сохранён в переменную preprocessing_pipeline.\n",
        "* 1 балл — пайплайн обучения модели применён к тренировочной и обучающей выборке.\n",
        "\n",
        "Примечание:\n",
        "\n",
        "1. Для категориальных признаков создайте список categorical_features с одним элементом ['RAD'].\n",
        "\n",
        "2. В параметр transformers класса ColumnTransformer передаются кортежи."
      ]
    },
    {
      "cell_type": "markdown",
      "source": [
        "### Можете использовать эти примеры кода:"
      ],
      "metadata": {
        "id": "DQxggdEZHFgs"
      }
    },
    {
      "cell_type": "code",
      "source": [
        "# Разделение на признаки (X) и целевую переменную (y)\n",
        "X = data.drop('MEDV', axis=1)\n",
        "y = data['MEDV']\n",
        "\n",
        "\n",
        "# Разделение на обучающий и тестовый наборы данных\n",
        "X_train, X_test, y_train, y_test = train_test_split(X, y, test_size=0.2, random_state=42)\n",
        "\n",
        "# Определение списков категориальных и числовых признаков\n",
        "# НАЧАЛО ВАШЕГО РЕШЕНИЯ\n",
        "raise NotImplementedError() # удалить эту строку в процессе решения\n",
        "# КОНЕЦ ВАШЕГО РЕШЕНИЯ"
      ],
      "metadata": {
        "id": "B5vV_OnpHAAR"
      },
      "execution_count": null,
      "outputs": []
    },
    {
      "cell_type": "code",
      "source": [
        "assert isinstance(categorical_features, list)\n",
        "assert isinstance(numerical_features, pd.core.indexes.base.Index)"
      ],
      "metadata": {
        "id": "ZeQjCI5sHCaL"
      },
      "execution_count": null,
      "outputs": []
    },
    {
      "cell_type": "code",
      "source": [
        "# Определение препроцессора для категориальных и числовых признаков\n",
        "# НАЧАЛО ВАШЕГО РЕШЕНИЯ\n",
        "raise NotImplementedError() # удалить эту строку в процессе решения\n",
        "# КОНЕЦ ВАШЕГО РЕШЕНИЯ"
      ],
      "metadata": {
        "id": "MF0mVgteHNiw"
      },
      "execution_count": null,
      "outputs": []
    },
    {
      "cell_type": "code",
      "source": [
        "assert isinstance(categorical_transformer, OneHotEncoder)\n",
        "assert isinstance(numerical_transformer, StandardScaler)"
      ],
      "metadata": {
        "id": "szkxdmkPHPk1"
      },
      "execution_count": null,
      "outputs": []
    },
    {
      "cell_type": "code",
      "source": [
        "# Создание пайплайна для препроцессора\n",
        "# НАЧАЛО ВАШЕГО РЕШЕНИЯ\n",
        "raise NotImplementedError() # удалить эту строку в процессе решения\n",
        "# КОНЕЦ ВАШЕГО РЕШЕНИЯ"
      ],
      "metadata": {
        "id": "8dlgHV-7I5-k"
      },
      "execution_count": null,
      "outputs": []
    },
    {
      "cell_type": "code",
      "source": [
        "assert isinstance(preprocessor, ColumnTransformer)"
      ],
      "metadata": {
        "id": "aNEgbpkgIzJj"
      },
      "execution_count": null,
      "outputs": []
    },
    {
      "cell_type": "code",
      "source": [
        "# Применение препроцессора к данным\n",
        "\n",
        "# НАЧАЛО ВАШЕГО РЕШЕНИЯ\n",
        "raise NotImplementedError() # удалить эту строку в процессе решения\n",
        "# КОНЕЦ ВАШЕГО РЕШЕНИЯ"
      ],
      "metadata": {
        "id": "FIwQFyg7I8m1"
      },
      "execution_count": null,
      "outputs": []
    },
    {
      "cell_type": "code",
      "source": [
        "assert X_train.shape == (404, 22)\n",
        "assert X_test.shape == (102, 22)"
      ],
      "metadata": {
        "id": "H4oRjCxzI-Rd"
      },
      "execution_count": null,
      "outputs": []
    },
    {
      "cell_type": "markdown",
      "source": [
        "## Ваш ответ"
      ],
      "metadata": {
        "id": "wbIKBWESMSEm"
      }
    },
    {
      "cell_type": "markdown",
      "source": [
        "Начинайте здесь"
      ],
      "metadata": {
        "id": "TON3sSESMVRa"
      }
    },
    {
      "cell_type": "markdown",
      "source": [
        "## Задание 3.1 Запуск моделей регрессии (3 балла)\n",
        "\n",
        "Запустите несколько моделей регрессии. Используте класс GridSearchCV и настройте их гиперпараметры для достижения наилучшей производительности, измеряемой по среднеквадратичной ошибке (MSE)\n",
        "\n",
        "**Критерии оценивания:**\n",
        "* 1 балл — запущено 3 модели.\n",
        "* 2 балла — запущено 5 моделей.\n",
        "* 3 балла — запущено 8 моделей."
      ],
      "metadata": {
        "id": "gJ3HPxaDCDe0"
      }
    },
    {
      "cell_type": "markdown",
      "metadata": {
        "deletable": false,
        "editable": false,
        "nbgrader": {
          "cell_type": "markdown",
          "checksum": "1236351f9da72c1753aec10cce8b61b3",
          "grade": false,
          "grade_id": "cell-41e0ea15e041076e",
          "locked": true,
          "schema_version": 3,
          "solution": false,
          "task": false
        },
        "id": "r-ut1_rpVQK8"
      },
      "source": [
        "При выполнении задания мы рекомендуем использовать следующие 8 моделей регрессии и GridSearchCV для подбора параметров:\n",
        "1. Линейная регрессия (Linear Regression): `sklearn.linear_model.LinearRegression`.\n",
        "2. Регрессия по методу опорных векторов (Support Vector Regression): `sklearn.svm.SVR`.\n",
        "3. Решающие деревья (Decision Trees): `sklearn.tree.DecisionTreeRegressor`.\n",
        "4. Случайный лес (Random Forest): `sklearn.ensemble.RandomForestRegressor`.\n",
        "5. Градиентный бустинг (Gradient Boosting): `sklearn.ensemble.GradientBoostingRegressor`.\n",
        "6. AdaBoost (Adaptive Boosting): `sklearn.ensemble.AdaBoostRegressor`.\n",
        "7. XGBoost: `xgboost.XGBRegressor`.\n",
        "8. CatBoost: `catboost.CatBoostRegressor`."
      ]
    },
    {
      "cell_type": "markdown",
      "source": [
        "## Примеры кода для запуска моделей"
      ],
      "metadata": {
        "id": "lRHVJ0CCWseG"
      }
    },
    {
      "cell_type": "markdown",
      "source": [
        "### Модель линейной регрессии\n",
        "\n",
        "Сохраните в переменную model экземпляр класса LinearRegression без параметров. Пример: var = ClassExample()\n",
        "\n",
        "Сохраните в переменную grid_search экземпляр класса GridSearchCV со следующими параметрами: estimator=model param_grid=params scoring='neg_mean_squared_error' Пример: var = GridSearchCV(par1=value1, par2=value2, par3=value3)"
      ],
      "metadata": {
        "id": "UYABg9MjWwq1"
      }
    },
    {
      "cell_type": "code",
      "source": [
        "from sklearn.linear_model import LinearRegression\n",
        "\n",
        "\"\"\"\n",
        "Сохраните в переменную model экземпляр класса LinearRegression без параметров.\n",
        "Пример:\n",
        "var = ClassExample()\n",
        "\"\"\"\n",
        "# НАЧАЛО ВАШЕГО РЕШЕНИЯ\n",
        "raise NotImplementedError() # удалить эту строку в процессе решения\n",
        "# КОНЕЦ ВАШЕГО РЕШЕНИЯ\n",
        "\n",
        "# Определение параметров для GridSearchCV\n",
        "\"\"\"\n",
        "'fit_intercept' определяет, должен ли модель оценивать коэффициент смещения (пересечения) или нет.\n",
        "Если fit_intercept=True, модель будет оценивать коэффициент смещения, то есть точку, где линейная\n",
        "функция пересекает ось зависимой переменной (y-ось). Если fit_intercept=False, модель будет проходить\n",
        "через начало координат (0, 0), и коэффициент смещения будет равен нулю.\n",
        "\"\"\"\n",
        "params = {'fit_intercept': [True, False]}\n",
        "\n",
        "# Создание объекта GridSearchCV\n",
        "\"\"\"\n",
        "\n",
        "Сохраните в переменную grid_search экземпляр класса GridSearchCV со следующими параметрами:\n",
        "estimator=model\n",
        "param_grid=params\n",
        "scoring='neg_mean_squared_error'\n",
        "Пример:\n",
        "var = GridSearchCV(par1=value1, par2=value2, par3=value3)\n",
        "\"\"\"\n",
        "# НАЧАЛО ВАШЕГО РЕШЕНИЯ\n",
        "raise NotImplementedError() # удалить эту строку в процессе решения\n",
        "# КОНЕЦ ВАШЕГО РЕШЕНИЯ\n",
        "\n",
        "\n",
        "# Обучение модели на обучающих данных\n",
        "grid_search.fit(X_train, y_train)\n",
        "\n",
        "# Получение лучшей модели\n",
        "best_model = grid_search.best_estimator_\n",
        "\n",
        "# Предсказание на тестовых данных\n",
        "y_pred = best_model.predict(X_test)\n",
        "\n",
        "# Получение лучших параметров LinearRegression\n",
        "LinearRegression_best_params = grid_search.best_params_\n",
        "print(\"LinearRegression_best_params: \", LinearRegression_best_params)\n",
        "\n",
        "# Вычисление MSE\n",
        "LinearRegression_mse = mean_squared_error(y_test, y_pred)\n",
        "print(\"LinearRegression_mse: \", LinearRegression_mse)"
      ],
      "metadata": {
        "id": "nA3wzC50W4yw"
      },
      "execution_count": null,
      "outputs": []
    },
    {
      "cell_type": "code",
      "source": [
        "assert type(model) == LinearRegression\n",
        "assert type(grid_search) == GridSearchCV"
      ],
      "metadata": {
        "id": "pnpQ_wmSX0T0"
      },
      "execution_count": null,
      "outputs": []
    },
    {
      "cell_type": "markdown",
      "source": [
        "### SVR\n",
        "\n",
        "Сохраните в переменную model экземпляр класса SVR без параметров. Пример: var = ClassExample()\n",
        "\n",
        "Сохраните в переменную grid_search экземпляр класса GridSearchCV со следующими параметрами: estimator=model param_grid=params scoring='neg_mean_squared_error' Пример: var = GridSearchCV(par1=value1, par2=value2, par3=value3)"
      ],
      "metadata": {
        "id": "-qYcWaz-XG7t"
      }
    },
    {
      "cell_type": "code",
      "source": [
        "from sklearn.svm import SVR\n",
        "\n",
        "\"\"\"\n",
        "Сохраните в переменную model экземпляр класса SVR без параметров.\n",
        "Пример:\n",
        "var = ClassExample()\n",
        "\"\"\"\n",
        "# НАЧАЛО ВАШЕГО РЕШЕНИЯ\n",
        "raise NotImplementedError() # удалить эту строку в процессе решения\n",
        "# КОНЕЦ ВАШЕГО РЕШЕНИЯ\n",
        "\n",
        "# Определение параметров для GridSearchCV\n",
        "\"\"\"\n",
        "Описание параметров:\n",
        "\n",
        "1. `'C'` - параметр регуляризации (также известный как параметр сложности),\n",
        "    контролирует штраф за ошибки модели. Он определяет, насколько модель будет учитывать ошибки в данных\n",
        "    при подгонке к обучающим примерам. Значения `[0.1, 1, 10]` представляют различные величины штрафа.\n",
        "    Более высокое значение C соответствует меньшему штрафу, что позволяет модели более гибко подгоняться к\n",
        "    данным и учитывать даже сложные шаблоны. Низкое значение C, напротив, приводит к более сильному штрафу\n",
        "    и более простой модели.\n",
        "\n",
        "2. `'kernel'` - параметр, определяющий тип ядра, используемого в модели. Ядро определяет способ преобразования\n",
        "    пространства признаков, что позволяет модели обрабатывать нелинейные зависимости между признаками и целевой\n",
        "    переменной. Значения `['linear', 'rbf', 'poly']` определяют различные типы ядер:\n",
        "   - `'linear'` - линейное ядро, применяет линейное преобразование и подходит для линейно разделимых данных.\n",
        "   - `'rbf'` (радиально-базисное функциональное ядро) - нелинейное ядро, которое преобразует данные в более\n",
        "   высокие размерности, используя радиально-базисную функцию. Оно хорошо подходит для обработки нелинейных\n",
        "   зависимостей и может быть эффективным в случаях, когда данные не являются линейно разделимыми.\n",
        "   - `'poly'` (полиномиальное ядро) - преобразует данные в пространство более высокой размерности с\n",
        "   использованием полиномиальной функции. Полиномиальное ядро может обрабатывать нелинейные зависимости,\n",
        "   особенно в случаях, когда данные имеют несколько признаков.\n",
        "\n",
        "3. `'gamma'` - параметр ядра, контролирующий влияние каждого обучающего примера на формирование границы решения.\n",
        "    Значения `['scale', 'auto']` определяют различные стратегии для выбора значения гаммы:\n",
        "   - `'scale'` - значение гаммы рассчитывается как обратное среднее значение расстояний между обучающими\n",
        "       примерами.\n",
        "   - `'auto'` - значение гаммы рассчитывается как обратное численное значение признаков.\n",
        "\"\"\"\n",
        "params = {'C': [0.1, 1, 10], 'kernel': ['linear', 'rbf', 'poly'], 'gamma': ['scale', 'auto']}\n",
        "\n",
        "# Создание объекта GridSearchCV\n",
        "\"\"\"\n",
        "Сохраните в переменную grid_search экземпляр класса GridSearchCV со следующими параметрами:\n",
        "estimator=model\n",
        "param_grid=params\n",
        "scoring='neg_mean_squared_error'\n",
        "Пример:\n",
        "var = GridSearchCV(par1=value1, par2=value2, par3=value3)\n",
        "\"\"\"\n",
        "# НАЧАЛО ВАШЕГО РЕШЕНИЯ\n",
        "raise NotImplementedError() # удалить эту строку в процессе решения\n",
        "# КОНЕЦ ВАШЕГО РЕШЕНИЯ\n",
        "\n",
        "# Обучение модели на обучающих данных\n",
        "grid_search.fit(X_train, y_train)\n",
        "\n",
        "# Получение лучшей модели\n",
        "best_model = grid_search.best_estimator_\n",
        "\n",
        "# Предсказание на тестовых данных\n",
        "y_pred = best_model.predict(X_test)\n",
        "\n",
        "# Получение лучших параметров LinearRegression\n",
        "SVR_best_params = grid_search.best_params_\n",
        "print(\"SVR_best_params: \", SVR_best_params)\n",
        "\n",
        "# Вычисление MSE\n",
        "SVR_mse = mean_squared_error(y_test, y_pred)\n",
        "print(\"SVR_mse: \", SVR_mse)"
      ],
      "metadata": {
        "id": "PGRYifkiXPP3"
      },
      "execution_count": null,
      "outputs": []
    },
    {
      "cell_type": "code",
      "source": [
        "assert type(model) == SVR\n",
        "assert type(grid_search) == GridSearchCV"
      ],
      "metadata": {
        "id": "W9FQhCmMXyyz"
      },
      "execution_count": null,
      "outputs": []
    },
    {
      "cell_type": "markdown",
      "source": [
        "### Решающее дерево\n",
        "\n",
        "Сохраните в переменную model экземпляр класса DecisionTreeRegressor без параметров. Пример: var = ClassExample()\n",
        "\n",
        "Сохраните в переменную grid_search экземпляр класса GridSearchCV со следующими параметрами: estimator=model param_grid=params scoring='neg_mean_squared_error' Пример: var = GridSearchCV(par1=value1, par2=value2, par3=value3)"
      ],
      "metadata": {
        "id": "n981JLAXXa9w"
      }
    },
    {
      "cell_type": "code",
      "source": [
        "from sklearn.tree import DecisionTreeRegressor\n",
        "\n",
        "\"\"\"\n",
        "Сохраните в переменную model экземпляр класса DecisionTreeRegressor без параметров.\n",
        "Пример:\n",
        "var = ClassExample()\n",
        "\"\"\"\n",
        "# НАЧАЛО ВАШЕГО РЕШЕНИЯ\n",
        "raise NotImplementedError() # удалить эту строку в процессе решения\n",
        "# КОНЕЦ ВАШЕГО РЕШЕНИЯ\n",
        "\n",
        "# Определение параметров для GridSearchCV\n",
        "\"\"\"\n",
        "'max_depth' определяет максимальную глубину дерева решений.\n",
        "Более высокое значение max_depth позволяет модели создавать более сложные правила,\n",
        "что может привести к переобучению. Значения [None, 5, 10] представляют\n",
        "различные значения максимальной глубины дерева.\n",
        "\"\"\"\n",
        "params = {'max_depth': [None, 5, 10]}\n",
        "\n",
        "# Создание объекта GridSearchCV\n",
        "\"\"\"\n",
        "Сохраните в переменную grid_search экземпляр класса GridSearchCV со следующими параметрами:\n",
        "estimator=model\n",
        "param_grid=params\n",
        "scoring='neg_mean_squared_error'\n",
        "Пример:\n",
        "var = GridSearchCV(par1=value1, par2=value2, par3=value3)\n",
        "\"\"\"\n",
        "# НАЧАЛО ВАШЕГО РЕШЕНИЯ\n",
        "raise NotImplementedError() # удалить эту строку в процессе решения\n",
        "# КОНЕЦ ВАШЕГО РЕШЕНИЯ\n",
        "\n",
        "# Обучение модели на обучающих данных\n",
        "grid_search.fit(X_train, y_train)\n",
        "\n",
        "# Получение лучшей модели\n",
        "best_model = grid_search.best_estimator_\n",
        "\n",
        "# Предсказание на тестовых данных\n",
        "y_pred = best_model.predict(X_test)\n",
        "\n",
        "# Получение лучших параметров LinearRegression\n",
        "DecisionTreeRegressor_best_params = grid_search.best_params_\n",
        "print(\"DecisionTreeRegressor_best_params: \", DecisionTreeRegressor_best_params)\n",
        "\n",
        "# Вычисление MSE\n",
        "DecisionTreeRegressor_mse = mean_squared_error(y_test, y_pred)\n",
        "print(\"DecisionTreeRegressor_mse: \", DecisionTreeRegressor_mse)"
      ],
      "metadata": {
        "id": "wU1BwSIpXj9m"
      },
      "execution_count": null,
      "outputs": []
    },
    {
      "cell_type": "code",
      "source": [
        "assert type(model) == DecisionTreeRegressor\n",
        "assert type(grid_search) == GridSearchCV"
      ],
      "metadata": {
        "id": "gdHv_NHiXw_R"
      },
      "execution_count": null,
      "outputs": []
    },
    {
      "cell_type": "markdown",
      "source": [
        "### Случайный лес\n",
        "\n",
        "Сохраните в переменную model экземпляр класса RandomForestRegressor без параметров. Пример: var = ClassExample()\n",
        "\n",
        "Сохраните в переменную grid_search экземпляр класса GridSearchCV со следующими параметрами: estimator=model param_grid=params scoring='neg_mean_squared_error' Пример: var = GridSearchCV(par1=value1, par2=value2, par3=value3)"
      ],
      "metadata": {
        "id": "g7uZqHeEXlC7"
      }
    },
    {
      "cell_type": "code",
      "source": [
        "from sklearn.ensemble import RandomForestRegressor\n",
        "\n",
        "# Создание объекта RandomForestRegressor\n",
        "\"\"\"\n",
        "Сохраните в переменную model экземпляр класса RandomForestRegressor без параметров.\n",
        "Пример:\n",
        "var = ClassExample()\n",
        "\"\"\"\n",
        "# НАЧАЛО ВАШЕГО РЕШЕНИЯ\n",
        "raise NotImplementedError() # удалить эту строку в процессе решения\n",
        "# КОНЕЦ ВАШЕГО РЕШЕНИЯ\n",
        "\n",
        "# Определение параметров для GridSearchCV\n",
        "\"\"\"\n",
        "- `n_estimators`: Это количество деревьев в случайном лесу. Определяет, сколько деревьев будет\n",
        "использоваться для построения ансамбля. Значение по умолчанию - 100. Увеличение значения может\n",
        "улучшить производительность модели, но с увеличением числа деревьев возрастает время обучения и\n",
        "предсказания. Обычно выбирают значения в диапазоне от 100 до 1000.\n",
        "\n",
        "- `max_depth`: Максимальная глубина каждого дерева в лесу. Ограничивает количество уровней в дереве.\n",
        "Значение `None` означает, что глубина деревьев не ограничена. Значение по умолчанию - `None`.\n",
        "Установка ограничения на глубину деревьев может помочь предотвратить переобучение модели. Обычно\n",
        "выбирают значения в диапазоне от 5 до 10.\n",
        "\n",
        "- `min_samples_split`: Минимальное количество образцов, необходимое для разделения внутреннего узла.\n",
        "Определяет, сколько образцов должно быть в узле, чтобы он мог быть разделен на дочерние узлы.\n",
        "Значение по умолчанию - 2. Увеличение значения может привести к более устойчивой модели и предотвратить\n",
        "переобучение. Обычно выбирают значения в диапазоне от 2 до 10.\n",
        "\"\"\"\n",
        "params = {\n",
        "    'n_estimators': [100, 200, 300],\n",
        "    'max_depth': [None, 5, 10],\n",
        "    'min_samples_split': [2, 5, 10]\n",
        "}\n",
        "\n",
        "# Создание объекта GridSearchCV\n",
        "\"\"\"\n",
        "Сохраните в переменную grid_search экземпляр класса GridSearchCV со следующими параметрами:\n",
        "estimator=model\n",
        "param_grid=params\n",
        "scoring='neg_mean_squared_error'\n",
        "Пример:\n",
        "var = GridSearchCV(par1=value1, par2=value2, par3=value3)\n",
        "\"\"\"\n",
        "# НАЧАЛО ВАШЕГО РЕШЕНИЯ\n",
        "raise NotImplementedError() # удалить эту строку в процессе решения\n",
        "# КОНЕЦ ВАШЕГО РЕШЕНИЯ\n",
        "\n",
        "# Обучение модели на обучающих данных\n",
        "grid_search.fit(X_train, y_train)\n",
        "\n",
        "# Получение лучшей модели\n",
        "best_model = grid_search.best_estimator_\n",
        "\n",
        "# Предсказание на тестовых данных\n",
        "y_pred = best_model.predict(X_test)\n",
        "\n",
        "# Получение лучших параметров RandomForestRegressor\n",
        "RandomForestRegressor_best_params = grid_search.best_params_\n",
        "print(\"RandomForestRegressor_best_params: \", RandomForestRegressor_best_params)\n",
        "\n",
        "# Вычисление MSE\n",
        "RandomForestRegressor_mse = mean_squared_error(y_test, y_pred)\n",
        "print(\"RandomForestRegressor_mse: \", RandomForestRegressor_mse)"
      ],
      "metadata": {
        "id": "12_sPmQ5Xq1U"
      },
      "execution_count": null,
      "outputs": []
    },
    {
      "cell_type": "code",
      "source": [
        "assert type(model) == RandomForestRegressor\n",
        "assert type(grid_search) == GridSearchCV"
      ],
      "metadata": {
        "id": "d9qkWLMeXucE"
      },
      "execution_count": null,
      "outputs": []
    },
    {
      "cell_type": "markdown",
      "source": [
        "### Градиентный бустинг\n",
        "\n",
        "Сохраните в переменную model экземпляр класса GradientBoostingRegressor без параметров. Пример: var = ClassExample()\n",
        "\n",
        "Сохраните в переменную grid_search экземпляр класса GridSearchCV со следующими параметрами: estimator=model param_grid=params scoring='neg_mean_squared_error' Пример: var = GridSearchCV(par1=value1, par2=value2, par3=value3)"
      ],
      "metadata": {
        "id": "TzoSmWbsX5ej"
      }
    },
    {
      "cell_type": "code",
      "source": [
        "from sklearn.ensemble import GradientBoostingRegressor\n",
        "\n",
        "# Создание объекта GradientBoostingRegressor\n",
        "\"\"\"\n",
        "Сохраните в переменную model экземпляр класса GradientBoostingRegressor без параметров.\n",
        "Пример:\n",
        "var = ClassExample()\n",
        "\"\"\"\n",
        "# НАЧАЛО ВАШЕГО РЕШЕНИЯ\n",
        "raise NotImplementedError() # удалить эту строку в процессе решения\n",
        "# КОНЕЦ ВАШЕГО РЕШЕНИЯ\n",
        "\n",
        "# Определение параметров для GridSearchCV\n",
        "\"\"\"\n",
        "n_estimators (int): Определяет количество деревьев в ансамбле. Чем больше значение n_estimators,\n",
        "тем больше деревьев будет построено, и тем сложнее будет модель. Увеличение количества деревьев\n",
        "может улучшить производительность модели, но может также привести к увеличению времени обучения и\n",
        "потенциальному переобучению. В данном случае рассматриваются значения [100, 200, 300].\n",
        "\n",
        "learning_rate (float): Определяет скорость обучения модели. Этот параметр контролирует вклад каждого\n",
        "дерева в ансамбле. Более низкое значение learning_rate означает, что каждое дерево вносит меньший вклад\n",
        "в предсказание и, следовательно, модель будет обучаться медленнее, но может быть более устойчива к\n",
        "переобучению. В данном случае рассматриваются значения [0.1, 0.01, 0.001].\n",
        "\n",
        "max_depth (int): Определяет максимальную глубину каждого дерева в ансамбле. Глубина дерева указывает,\n",
        "сколько раз дерево будет делить данные на более мелкие группы. Увеличение глубины деревьев может\n",
        "привести к более сложным моделям, которые лучше адаптируются к обучающим данным, но могут быть более\n",
        "склонны к переобучению. В данном случае рассматриваются значения [3, 5, 10].\n",
        "\"\"\"\n",
        "params = {\n",
        "    'n_estimators': [100, 200, 300],\n",
        "    'learning_rate': [0.1, 0.01, 0.001],\n",
        "    'max_depth': [3, 5, 10]\n",
        "}\n",
        "\n",
        "# Создание объекта GridSearchCV\n",
        "\"\"\"\n",
        "Сохраните в переменную grid_search экземпляр класса GridSearchCV со следующими параметрами:\n",
        "estimator=model\n",
        "param_grid=params\n",
        "scoring='neg_mean_squared_error'\n",
        "Пример:\n",
        "var = GridSearchCV(par1=value1, par2=value2, par3=value3)\n",
        "\"\"\"\n",
        "# НАЧАЛО ВАШЕГО РЕШЕНИЯ\n",
        "raise NotImplementedError() # удалить эту строку в процессе решения\n",
        "# КОНЕЦ ВАШЕГО РЕШЕНИЯ\n",
        "\n",
        "# Обучение модели на обучающих данных\n",
        "grid_search.fit(X_train, y_train)\n",
        "\n",
        "# Получение лучшей модели\n",
        "best_model = grid_search.best_estimator_\n",
        "\n",
        "# Предсказание на тестовых данных\n",
        "y_pred = best_model.predict(X_test)\n",
        "\n",
        "# Получение лучших параметров GradientBoostingRegressor\n",
        "GradientBoostingRegressor_best_params = grid_search.best_params_\n",
        "print(\"GradientBoostingRegressor_best_params: \", GradientBoostingRegressor_best_params)\n",
        "\n",
        "# Вычисление MSE\n",
        "GradientBoostingRegressor_mse = mean_squared_error(y_test, y_pred)\n",
        "print(\"GradientBoostingRegressor_mse: \", GradientBoostingRegressor_mse)"
      ],
      "metadata": {
        "id": "88vTMfQ0X83f"
      },
      "execution_count": null,
      "outputs": []
    },
    {
      "cell_type": "code",
      "source": [
        "assert type(model) == GradientBoostingRegressor\n",
        "assert type(grid_search) == GridSearchCV"
      ],
      "metadata": {
        "id": "t0EVO4cnX-Gk"
      },
      "execution_count": null,
      "outputs": []
    },
    {
      "cell_type": "markdown",
      "source": [
        "### ADA Boost\n",
        "\n",
        "Сохраните в переменную model экземпляр класса AdaBoostRegressor без параметров. Пример: var = ClassExample()\n",
        "\n",
        "Сохраните в переменную grid_search экземпляр класса GridSearchCV со следующими параметрами: estimator=model param_grid=params scoring='neg_mean_squared_error' Пример: var = GridSearchCV(par1=value1, par2=value2, par3=value3)"
      ],
      "metadata": {
        "id": "TxM-Vu3gYAVO"
      }
    },
    {
      "cell_type": "code",
      "source": [
        "from sklearn.ensemble import AdaBoostRegressor\n",
        "\n",
        "# Создание объекта AdaBoostRegressor\n",
        "\"\"\"\n",
        "Сохраните в переменную model экземпляр класса AdaBoostRegressor без параметров.\n",
        "Пример:\n",
        "var = ClassExample()\n",
        "\"\"\"\n",
        "# НАЧАЛО ВАШЕГО РЕШЕНИЯ\n",
        "raise NotImplementedError() # удалить эту строку в процессе решения\n",
        "# КОНЕЦ ВАШЕГО РЕШЕНИЯ\n",
        "\n",
        "\n",
        "# Определение параметров для GridSearchCV\n",
        "\"\"\"\n",
        "n_estimators: Этот параметр определяет количество базовых моделей (регрессоров), которые будут\n",
        "использоваться в ансамбле AdaBoost. Базовая модель представляет собой слабый регрессор, например,\n",
        "решающее дерево с ограниченной глубиной. Увеличение значения n_estimators может улучшить\n",
        "производительность модели, но может также привести к более длительному времени обучения.\n",
        "Обычно рекомендуется выбирать достаточно большое значение n_estimators, чтобы дать модели\n",
        "достаточно базовых моделей для обучения, но при этом избегать переобучения.\n",
        "\n",
        "learning_rate: Этот параметр контролирует вклад каждой базовой модели в окончательное предсказание.\n",
        "Меньшее значение learning_rate означает, что каждая базовая модель вносит меньший вклад, что может\n",
        "помочь улучшить обобщающую способность модели и уменьшить переобучение. Однако слишком низкое значение\n",
        "learning_rate может привести к несоответствию модели с данными и, как следствие, к понижению\n",
        "производительности. Обычно рекомендуется начинать с небольшого значения learning_rate и,\n",
        "при необходимости, увеличивать его.\n",
        "\"\"\"\n",
        "params = {\n",
        "    'n_estimators': [50, 100, 200],\n",
        "    'learning_rate': [0.1, 0.01, 0.001]\n",
        "}\n",
        "\n",
        "# Создание объекта GridSearchCV\n",
        "\"\"\"\n",
        "Сохраните в переменную grid_search экземпляр класса GridSearchCV со следующими параметрами:\n",
        "estimator=model\n",
        "param_grid=params\n",
        "scoring='neg_mean_squared_error'\n",
        "Пример:\n",
        "var = GridSearchCV(par1=value1, par2=value2, par3=value3)\n",
        "\"\"\"\n",
        "# НАЧАЛО ВАШЕГО РЕШЕНИЯ\n",
        "raise NotImplementedError() # удалить эту строку в процессе решения\n",
        "# КОНЕЦ ВАШЕГО РЕШЕНИЯ\n",
        "\n",
        "# Обучение модели на обучающих данных\n",
        "grid_search.fit(X_train, y_train)\n",
        "\n",
        "# Получение лучшей модели\n",
        "best_model = grid_search.best_estimator_\n",
        "\n",
        "# Предсказание на тестовых данных\n",
        "y_pred = best_model.predict(X_test)\n",
        "\n",
        "# Получение лучших параметров AdaBoostRegressor\n",
        "AdaBoostRegressor_best_params = grid_search.best_params_\n",
        "print(\"AdaBoostRegressor_best_params: \", AdaBoostRegressor_best_params)\n",
        "\n",
        "# Вычисление MSE\n",
        "AdaBoostRegressor_mse = mean_squared_error(y_test, y_pred)\n",
        "print(\"AdaBoostRegressor_mse: \", AdaBoostRegressor_mse)"
      ],
      "metadata": {
        "id": "KdGcXYVhYFAO"
      },
      "execution_count": null,
      "outputs": []
    },
    {
      "cell_type": "code",
      "source": [
        "assert type(model) == AdaBoostRegressor\n",
        "assert type(grid_search) == GridSearchCV"
      ],
      "metadata": {
        "id": "BiUKHslfYGXe"
      },
      "execution_count": null,
      "outputs": []
    },
    {
      "cell_type": "markdown",
      "source": [
        "### Экстремальный бустинг\n",
        "\n",
        "Сохраните в переменную model экземпляр класса XGBRegressor без параметров. Пример: var = ClassExample()\n",
        "\n",
        "Сохраните в переменную grid_search экземпляр класса GridSearchCV со следующими параметрами: estimator=model param_grid=params scoring='neg_mean_squared_error' Пример: var = GridSearchCV(par1=value1, par2=value2, par3=value3)"
      ],
      "metadata": {
        "id": "3X2xzE3zYImP"
      }
    },
    {
      "cell_type": "code",
      "source": [
        "from xgboost import XGBRegressor\n",
        "\n",
        "# Создание объекта XGBRegressor\n",
        "\"\"\"\n",
        "Сохраните в переменную model экземпляр класса XGBRegressor без параметров.\n",
        "Пример:\n",
        "var = ClassExample()\n",
        "\"\"\"\n",
        "# НАЧАЛО ВАШЕГО РЕШЕНИЯ\n",
        "raise NotImplementedError() # удалить эту строку в процессе решения\n",
        "# КОНЕЦ ВАШЕГО РЕШЕНИЯ\n",
        "\n",
        "# Определение параметров для GridSearchCV\n",
        "\"\"\"\n",
        "'n_estimators' определяет количество деревьев в ансамбле XGBoost. Большее значение n_estimators может\n",
        "улучшить производительность модели, но при этом потребуется больше вычислительных ресурсов и время\n",
        "обучения. Рекомендуется выбирать достаточно большое значение, но избегать переобучения.\n",
        "\n",
        "'learning_rate' контролирует вклад каждого дерева в окончательное предсказание модели. Меньшее значение\n",
        "learning_rate означает меньший вклад каждого дерева, что может помочь улучшить обобщающую способность\n",
        "модели. Однако, слишком низкое значение может привести к недообучению модели.\n",
        "\n",
        "'max_depth' определяет максимальную глубину каждого дерева в ансамбле. Большая глубина может помочь\n",
        "модели захватить более сложные взаимодействия в данных, но также может привести к переобучению.\n",
        "Рекомендуется начинать с небольшой глубины и постепенно увеличивать, контролируя производительность и\n",
        "переобучение модели.\n",
        "\"\"\"\n",
        "params = {\n",
        "    'n_estimators': [100, 200, 300],\n",
        "    'learning_rate': [0.1, 0.01, 0.001],\n",
        "    'max_depth': [3, 5, 10]\n",
        "}\n",
        "\n",
        "# Создание объекта GridSearchCV\n",
        "\"\"\"\n",
        "Сохраните в переменную grid_search экземпляр класса GridSearchCV со следующими параметрами:\n",
        "estimator=model\n",
        "param_grid=params\n",
        "scoring='neg_mean_squared_error'\n",
        "Пример:\n",
        "var = GridSearchCV(par1=value1, par2=value2, par3=value3)\n",
        "\"\"\"\n",
        "# НАЧАЛО ВАШЕГО РЕШЕНИЯ\n",
        "raise NotImplementedError() # удалить эту строку в процессе решения\n",
        "# КОНЕЦ ВАШЕГО РЕШЕНИЯ\n",
        "\n",
        "# Обучение модели на обучающих данных\n",
        "grid_search.fit(X_train, y_train)\n",
        "\n",
        "# Получение лучшей модели\n",
        "best_model = grid_search.best_estimator_\n",
        "\n",
        "# Предсказание на тестовых данных\n",
        "y_pred = best_model.predict(X_test)\n",
        "\n",
        "# Получение лучших параметров XGBRegressor\n",
        "XGBRegressor_best_params = grid_search.best_params_\n",
        "print(\"XGBRegressor_best_params: \", XGBRegressor_best_params)\n",
        "\n",
        "# Вычисление MSE\n",
        "XGBRegressor_mse = mean_squared_error(y_test, y_pred)\n",
        "print(\"XGBRegressor_mse: \", XGBRegressor_mse)"
      ],
      "metadata": {
        "id": "RPTqOCNhYOu7"
      },
      "execution_count": null,
      "outputs": []
    },
    {
      "cell_type": "code",
      "source": [
        "assert type(model) == XGBRegressor\n",
        "assert type(grid_search) == GridSearchCV"
      ],
      "metadata": {
        "id": "cqfh3T80YP_-"
      },
      "execution_count": null,
      "outputs": []
    },
    {
      "cell_type": "markdown",
      "source": [
        "### Cat Boost\n",
        "\n",
        "Сохраните в переменную model экземпляр класса CatBoostRegressor с параметром silent=True. Пример: var = ClassExample()\n",
        "\n",
        "Сохраните в переменную grid_search экземпляр класса GridSearchCV со следующими параметрами: estimator=model param_grid=params scoring='neg_mean_squared_error' Пример: var = GridSearchCV(par1=value1, par2=value2, par3=value3)"
      ],
      "metadata": {
        "id": "UrXjkrqjYR9E"
      }
    },
    {
      "cell_type": "code",
      "source": [
        "from catboost import CatBoostRegressor\n",
        "\n",
        "# Создание объекта CatBoostRegressor\n",
        "\"\"\"\n",
        "Сохраните в переменную model экземпляр класса CatBoostRegressor с параметром silent=True.\n",
        "Пример:\n",
        "var = ClassExample()\n",
        "\"\"\"\n",
        "# НАЧАЛО ВАШЕГО РЕШЕНИЯ\n",
        "raise NotImplementedError() # удалить эту строку в процессе решения\n",
        "# КОНЕЦ ВАШЕГО РЕШЕНИЯ\n",
        "\n",
        "# Определение параметров для GridSearchCV\n",
        "\"\"\"\n",
        "\n",
        "learning_rate: Скорость обучения модели. Определяет вклад каждого дерева в композицию.\n",
        "Меньшие значения обычно требуют большего числа деревьев для достижения хорошей производительности модели.\n",
        "\n",
        "n_estimators: Количество деревьев в градиентном бустинге. Большее количество деревьев может улучшить\n",
        "производительность модели, но также может привести к переобучению, поэтому следует подбирать\n",
        "оптимальное значение.\n",
        "\n",
        "max_depth: Максимальная глубина каждого дерева в градиентном бустинге. Большая глубина может увеличить\n",
        "производительность модели, но также может привести к переобучению.\n",
        "\n",
        "subsample: Доля обучающих примеров, используемых для обучения каждого дерева в градиентном бустинге.\n",
        "Значение меньше 1.0 может помочь уменьшить переобучение.\n",
        "\n",
        "colsample_bylevel: Доля признаков, используемых для обучения каждого уровня дерева в градиентном бустинге.\n",
        "Значение меньше 1.0 может помочь уменьшить переобучение.\n",
        "\n",
        "reg_lambda: Коэффициент L2-регуляризации для весов модели. Используется для сдерживания переобучения.\n",
        "\"\"\"\n",
        "params = {\n",
        "    'learning_rate': [0.1, 0.01, 0.001],\n",
        "    'n_estimators': [50, 100, 200],\n",
        "    'max_depth': [3, 5, 10],\n",
        "    'subsample': [1.0],\n",
        "    'colsample_bylevel': [1.0],\n",
        "    'reg_lambda': [3.0]\n",
        "}\n",
        "\n",
        "# Создание объекта GridSearchCV\n",
        "\"\"\"\n",
        "Задание 1.16 (1 балл)\n",
        "Сохраните в переменную grid_search экземпляр класса GridSearchCV со следующими параметрами:\n",
        "estimator=model\n",
        "param_grid=params\n",
        "scoring='neg_mean_squared_error'\n",
        "Пример:\n",
        "var = GridSearchCV(par1=value1, par2=value2, par3=value3)\n",
        "\"\"\"\n",
        "# НАЧАЛО ВАШЕГО РЕШЕНИЯ\n",
        "raise NotImplementedError() # удалить эту строку в процессе решения\n",
        "# КОНЕЦ ВАШЕГО РЕШЕНИЯ\n",
        "\n",
        "# Обучение модели на обучающих данных\n",
        "grid_search.fit(X_train, y_train)\n",
        "\n",
        "# Получение лучшей модели\n",
        "best_model = grid_search.best_estimator_\n",
        "\n",
        "# Предсказание на тестовых данных\n",
        "y_pred = best_model.predict(X_test)\n",
        "\n",
        "# Получение лучших параметров CatBoostRegressor\n",
        "CatBoostRegressor_best_params = grid_search.best_params_\n",
        "print(\"CatBoostRegressor_best_params: \", CatBoostRegressor_best_params)\n",
        "\n",
        "# Вычисление MSE\n",
        "CatBoostRegressor_mse = mean_squared_error(y_test, y_pred)\n",
        "print(\"CatBoostRegressor_mse: \", CatBoostRegressor_mse)"
      ],
      "metadata": {
        "id": "9hnQP8KNYU7U"
      },
      "execution_count": null,
      "outputs": []
    },
    {
      "cell_type": "code",
      "source": [
        "assert type(model) == CatBoostRegressor\n",
        "assert type(grid_search) == GridSearchCV"
      ],
      "metadata": {
        "id": "GiOBLr2IYW1D"
      },
      "execution_count": null,
      "outputs": []
    },
    {
      "cell_type": "markdown",
      "source": [
        "## Ваш ответ"
      ],
      "metadata": {
        "id": "F1q_IQu3MF6a"
      }
    },
    {
      "cell_type": "markdown",
      "source": [
        "Начинайте здесь"
      ],
      "metadata": {
        "id": "QAfrv6frMLRh"
      }
    },
    {
      "cell_type": "markdown",
      "source": [
        "## Задание 3.2. Оценка моделей (5 баллов)\n",
        "\n",
        "Выведите резуальтаты работы моделей в таблицу.\n",
        "\n",
        "Выделите 1-3 модели, которые вы стали бы использовать в ситуации отсутствия бесконечных вычислительных мощностей.\n",
        "\n",
        "**Обоснуйте своё решение, опираясь на критерии:**\n",
        "\n",
        "* Особенности работы алгоритма модели (2 балла).\n",
        "* Метрики качества (2 балла).\n",
        "* Скорость работы (1 балл).\n",
        "\n"
      ],
      "metadata": {
        "id": "mFkCnK0sLNmX"
      }
    },
    {
      "cell_type": "code",
      "execution_count": null,
      "metadata": {
        "deletable": false,
        "editable": false,
        "nbgrader": {
          "cell_type": "code",
          "checksum": "77169bd05ffe9bc969c07b3d8f43ddc5",
          "grade": false,
          "grade_id": "cell-b89ed3aeeed8a45f",
          "locked": true,
          "schema_version": 3,
          "solution": false,
          "task": false
        },
        "id": "UfeefQxrVQLR"
      },
      "outputs": [],
      "source": [
        "# Вывод результатов моделей регрессии\n",
        "\n",
        "data = [\n",
        "    ['LinearRegression', f'{LinearRegression_mse}', f'{LinearRegression_best_params}'],\n",
        "    ['SVR', f'{SVR_mse}', f'{SVR_best_params}'],\n",
        "    ['DecisionTreeRegressor', f'{DecisionTreeRegressor_mse}', f'{DecisionTreeRegressor_best_params}'],\n",
        "    ['RandomForestRegressor', f'{RandomForestRegressor_mse}', f'{RandomForestRegressor_best_params}'],\n",
        "    ['GradientBoostingRegressor', f'{GradientBoostingRegressor_mse}', f'{GradientBoostingRegressor_best_params}'],\n",
        "    ['AdaBoostRegressor', f'{AdaBoostRegressor_mse}', f'{AdaBoostRegressor_best_params}'],\n",
        "    ['XGBRegressor', f'{XGBRegressor_mse}', f'{XGBRegressor_best_params}'],\n",
        "    ['CatBoostRegressor', f'{CatBoostRegressor_mse}', f'{CatBoostRegressor_best_params}']\n",
        "]\n",
        "\n",
        "\n",
        "# Создание DataFrame из данных\n",
        "df = pd.DataFrame(data, columns=['Модель', 'MSE', 'Параметры'], index=range(1, 1 + len(data)))\n",
        "pd.set_option('display.max_colwidth', None)\n",
        "# Отображение DataFrame\n",
        "df.head(len(data))"
      ]
    },
    {
      "cell_type": "markdown",
      "source": [
        "## Ваш ответ"
      ],
      "metadata": {
        "id": "JBB0aubnRcv7"
      }
    },
    {
      "cell_type": "markdown",
      "source": [
        "Начинайте здесь"
      ],
      "metadata": {
        "id": "kCtmWnoPRhBb"
      }
    },
    {
      "cell_type": "markdown",
      "metadata": {
        "deletable": false,
        "editable": false,
        "nbgrader": {
          "cell_type": "markdown",
          "checksum": "4070537cc1fb10e7d78a40e31b317932",
          "grade": false,
          "grade_id": "cell-92541b6ce59eefe6",
          "locked": true,
          "schema_version": 3,
          "solution": false,
          "task": false
        },
        "id": "lynOl3bqVQLR"
      },
      "source": [
        "# Задача классификации."
      ]
    },
    {
      "cell_type": "markdown",
      "source": [
        "## Описание датасета"
      ],
      "metadata": {
        "id": "p3_LF8u9NGLx"
      }
    },
    {
      "cell_type": "markdown",
      "metadata": {
        "deletable": false,
        "editable": false,
        "nbgrader": {
          "cell_type": "markdown",
          "checksum": "a352b0ac880abaea011b2c64a4dd8071",
          "grade": false,
          "grade_id": "cell-346b722ea4909367",
          "locked": true,
          "schema_version": 3,
          "solution": false,
          "task": false
        },
        "id": "Ovru20xgVQLR"
      },
      "source": [
        "Мы будем использовать датасет Bank Marketing. В нем содержатся данные, связанные с маркетинговыми кампаниями банка. Вот колонки, представленные в датасете Bank Marketing:\n",
        "\n",
        "1. **age**: Возраст клиента.\n",
        "\n",
        "2. **job**: Тип работы клиента.\n",
        "\n",
        "3. **marital**: Семейное положение клиента.\n",
        "\n",
        "4. **education**: Образование клиента.\n",
        "\n",
        "5. **default**: Есть ли у клиента кредитный дефолт (задолженность).\n",
        "\n",
        "6. **balance**: Баланс на счете клиента.\n",
        "\n",
        "7. **housing**: Имеет ли клиент ипотеку (жилую недвижимость).\n",
        "\n",
        "8. **loan**: Имеет ли клиент личный заем.\n",
        "\n",
        "9. **contact**: Способ связи с клиентом.\n",
        "\n",
        "10. **day**: День месяца, когда был выполнен последний контакт.\n",
        "\n",
        "11. **month**: Месяц года, когда был выполнен последний контакт.\n",
        "\n",
        "12. **duration**: Продолжительность последнего контакта в секундах.\n",
        "\n",
        "13. **campaign**: Количество контактов, выполненных во время данной кампании.\n",
        "\n",
        "14. **pdays**: Количество дней, прошедших с момента последнего контакта до предыдущей кампании.\n",
        "\n",
        "15. **previous**: Количество контактов, выполненных перед текущей кампанией.\n",
        "\n",
        "16. **poutcome**: Результат предыдущей маркетинговой кампании.\n",
        "\n",
        "17. **y**: Целевая переменная, которую необходимо предсказать. Например, это может быть информация о том, стал ли клиент подписчиком (1) или нет (0) на определенное предложение банка."
      ]
    },
    {
      "cell_type": "markdown",
      "metadata": {
        "deletable": false,
        "editable": false,
        "nbgrader": {
          "cell_type": "markdown",
          "checksum": "67b189575fa3ce37df0339861ff91c63",
          "grade": false,
          "grade_id": "cell-7b84e59798c59c9f",
          "locked": true,
          "schema_version": 3,
          "solution": false,
          "task": false
        },
        "id": "EFWKpEhCVQLS"
      },
      "source": [
        "Мы будем использовать 7 моделей классификации и GridSearchCV для подбора параметров:\n",
        "1. Логистическая регрессия (Logistic Regression): `sklearn.linear_model.LogisticRegression`.\n",
        "2. Метод опорных векторов (Support Vector Machines): `sklearn.svm.SVC`.\n",
        "3. Решающие деревья (Decision Trees): `sklearn.tree.DecisionTreeClassifier`.\n",
        "4. Случайный лес (Random Forest): `sklearn.ensemble.RandomForestClassifier`.\n",
        "5. Градиентный бустинг (Gradient Boosting): `sklearn.ensemble.GradientBoostingClassifier`.\n",
        "6. XGBoost: `xgboost.XGBClassifier`.\n",
        "7. CatBoost: `catboost.CatBoostClassifier`."
      ]
    },
    {
      "cell_type": "code",
      "execution_count": null,
      "metadata": {
        "deletable": false,
        "editable": false,
        "nbgrader": {
          "cell_type": "code",
          "checksum": "3ed7d9a7f783933a2b34c6e113ac4592",
          "grade": false,
          "grade_id": "cell-de4a44becf4c1d6f",
          "locked": true,
          "schema_version": 3,
          "solution": false,
          "task": false
        },
        "id": "4DxZKiZLVQLS"
      },
      "outputs": [],
      "source": [
        "# Загрузка данных из CSV файла\n",
        "data = pd.read_csv(\"bank-full.csv\", delimiter=\";\")\n",
        "data.head()"
      ]
    },
    {
      "cell_type": "code",
      "execution_count": null,
      "metadata": {
        "deletable": false,
        "editable": false,
        "nbgrader": {
          "cell_type": "code",
          "checksum": "c4110e7f15b50163016415761e1371d5",
          "grade": false,
          "grade_id": "cell-522272613baf84a2",
          "locked": true,
          "schema_version": 3,
          "solution": false,
          "task": false
        },
        "id": "OlV1d_-7VQLS"
      },
      "outputs": [],
      "source": [
        "# Разделение на признаки (X) и целевую переменную (y)\n",
        "X = data.drop('y', axis=1)\n",
        "y = data['y'].apply(lambda x: 1 if x==\"yes\" else 0)\n",
        "\n",
        "\n",
        "# Разделение на обучающий и тестовый наборы данных\n",
        "X_train, X_test, y_train, y_test = train_test_split(X, y, test_size=0.2, random_state=42)\n",
        "\n",
        "# Определение препроцессора для категориальных и числовых признаков\n",
        "categorical_features = ['job', 'marital', 'education', 'default', 'housing', 'loan', 'contact', 'month', 'poutcome']\n",
        "categorical_transformer = OneHotEncoder(handle_unknown='ignore')\n",
        "numerical_features = X_train.select_dtypes(include=['int64', 'float64']).columns\n",
        "numerical_transformer = StandardScaler()\n",
        "\n",
        "# Объединение препроцессоров\n",
        "preprocessor = ColumnTransformer(\n",
        "    transformers=[\n",
        "        ('cat', categorical_transformer, categorical_features),\n",
        "        ('num', numerical_transformer, numerical_features)\n",
        "    ])\n",
        "\n",
        "# Создание пайплайна для препроцессора\n",
        "preprocessing_pipeline = Pipeline(steps=[('preprocessor', preprocessor)])\n",
        "\n",
        "# Применение препроцессора к данным\n",
        "X_train = preprocessing_pipeline.fit_transform(X_train)\n",
        "X_test = preprocessing_pipeline.transform(X_test)"
      ]
    },
    {
      "cell_type": "markdown",
      "metadata": {
        "deletable": false,
        "editable": false,
        "nbgrader": {
          "cell_type": "markdown",
          "checksum": "eb7e8aa8672462b16ea2628ba6f9544f",
          "grade": false,
          "grade_id": "cell-27b527561479c9ee",
          "locked": true,
          "schema_version": 3,
          "solution": false,
          "task": false
        },
        "id": "XfOS4cKfVQLS"
      },
      "source": [
        "## Задание 4.1 Запуск моделей классификации (3 балла)\n",
        "\n",
        "Запустите несколько моделей классификации. Используйте класс GridSearchCV и настройте их гиперпараметры для достижения наилучшей производительности, измеряемой по F1-мере.\n",
        "\n",
        "**Критерии оценивания:**\n",
        "* 1 балл — запущено 3 модели.\n",
        "* 2 балла — запущено 5 моделей.\n",
        "* 3 балла — запущено 8 моделей."
      ]
    },
    {
      "cell_type": "markdown",
      "source": [
        "## Примеры кода для запуска моделей классификации"
      ],
      "metadata": {
        "id": "1BsvFfr3Pjah"
      }
    },
    {
      "cell_type": "markdown",
      "source": [
        "### Логистическая регрессия\n",
        "\n",
        "Сохраните в переменную model экземпляр класса LogisticRegression без параметров. Пример: var = ClassExample()\n",
        "\n",
        "Сохраните в переменную grid_search экземпляр класса GridSearchCV со следующими параметрами: estimator=model param_grid=params scoring='f1_macro' Пример: var = GridSearchCV(par1=value1, par2=value2, par3=value3)"
      ],
      "metadata": {
        "id": "o9jfcpuvOGxb"
      }
    },
    {
      "cell_type": "code",
      "execution_count": null,
      "metadata": {
        "deletable": false,
        "nbgrader": {
          "cell_type": "code",
          "checksum": "a9b143fe5c30e684f609a17b0f1c70c4",
          "grade": false,
          "grade_id": "cell-b36ae883d67c44b4",
          "locked": false,
          "schema_version": 3,
          "solution": true,
          "task": false
        },
        "id": "4LRGI5r6VQLT"
      },
      "outputs": [],
      "source": [
        "from sklearn.linear_model import LogisticRegression\n",
        "\n",
        "\"\"\"\n",
        "Сохраните в переменную model экземпляр класса LogisticRegression без параметров.\n",
        "Пример:\n",
        "var = ClassExample()\n",
        "\"\"\"\n",
        "# НАЧАЛО ВАШЕГО РЕШЕНИЯ\n",
        "raise NotImplementedError() # удалить эту строку в процессе решения\n",
        "# КОНЕЦ ВАШЕГО РЕШЕНИЯ\n",
        "\n",
        "# Определение параметров для GridSearchCV\n",
        "\"\"\"\n",
        "'penalty': ['l1', 'l2']\n",
        "\n",
        "Параметр 'penalty' отвечает за регуляризацию модели, то есть штраф за сложность модели. Значение 'l1'\n",
        "соответствует L1-регуляризации (Лассо), которая добавляет штраф, равный абсолютному значению коэффициентов\n",
        "модели. Значение 'l2' соответствует L2-регуляризации (гребневая регрессия), которая добавляет штраф,\n",
        "равный квадрату значений коэффициентов модели. Выбор между 'l1' и 'l2' позволяет контролировать влияние\n",
        "каждого из этих типов регуляризации на модель.\n",
        "\n",
        "'C': [0.1, 1.0, 10.0]\n",
        "Параметр 'C' определяет обратную силу регуляризации. Значение 'C' контролирует степень регуляризации:\n",
        "чем меньше значение 'C', тем сильнее применяется регуляризация, а чем больше значение 'C', тем слабее\n",
        "регуляризация. Таким образом, параметр 'C' позволяет настраивать баланс между точностью модели на\n",
        "обучающих данных и ее сложностью, предотвращая переобучение.\n",
        "\"\"\"\n",
        "\n",
        "params = {\n",
        "'penalty': ['l1', 'l2'],\n",
        "'C': [0.1, 1.0, 10.0]\n",
        "}\n",
        "\n",
        "# Создание объекта GridSearchCV\n",
        "\"\"\"\n",
        "Сохраните в переменную grid_search экземпляр класса GridSearchCV со следующими параметрами:\n",
        "estimator=model\n",
        "param_grid=params\n",
        "scoring='f1_macro'\n",
        "Пример:\n",
        "var = GridSearchCV(par1=value1, par2=value2, par3=value3)\n",
        "\"\"\"\n",
        "# НАЧАЛО ВАШЕГО РЕШЕНИЯ\n",
        "raise NotImplementedError() # удалить эту строку в процессе решения\n",
        "# КОНЕЦ ВАШЕГО РЕШЕНИЯ\n",
        "\n",
        "# Обучение модели на обучающих данных\n",
        "grid_search.fit(X_train, y_train)\n",
        "\n",
        "# Получение лучшей модели\n",
        "best_model = grid_search.best_estimator_\n",
        "\n",
        "# Предсказание на тестовых данных\n",
        "y_pred = best_model.predict(X_test)\n",
        "\n",
        "# Получение лучших параметров LogisticRegression\n",
        "LogisticRegression_best_params = grid_search.best_params_\n",
        "print(\"LogisticRegression_best_params: \", LogisticRegression_best_params)\n",
        "\n",
        "# Вычисление F1-меры\n",
        "LogisticRegression_f1 = f1_score(y_test, y_pred, average='macro')\n",
        "print(\"LogisticRegression_f1: \", LogisticRegression_f1)"
      ]
    },
    {
      "cell_type": "code",
      "execution_count": null,
      "metadata": {
        "deletable": false,
        "editable": false,
        "nbgrader": {
          "cell_type": "code",
          "checksum": "6611df9baec8ac0ce273f05df11100c7",
          "grade": true,
          "grade_id": "cell-e8f682ad6574994e",
          "locked": true,
          "points": 1,
          "schema_version": 3,
          "solution": false,
          "task": false
        },
        "id": "AHjmhaXrVQLT"
      },
      "outputs": [],
      "source": [
        "assert type(model) == LogisticRegression\n",
        "assert type(grid_search) == GridSearchCV"
      ]
    },
    {
      "cell_type": "markdown",
      "metadata": {
        "deletable": false,
        "editable": false,
        "nbgrader": {
          "cell_type": "markdown",
          "checksum": "561586df20913eb849765cc1985bec55",
          "grade": false,
          "grade_id": "cell-bad8d705ea35eefc",
          "locked": true,
          "schema_version": 3,
          "solution": false,
          "task": false
        },
        "id": "_8g0XaJxVQLT"
      },
      "source": [
        "### SVC\n",
        "Сохраните в переменную model экземпляр класса SVC без параметров.\n",
        "Пример:\n",
        "var = ClassExample()\n",
        "\n",
        "Сохраните в переменную grid_search экземпляр класса GridSearchCV со следующими параметрами:\n",
        "estimator=model\n",
        "param_grid=params\n",
        "scoring='f1_macro'\n",
        "Пример:\n",
        "var = GridSearchCV(par1=value1, par2=value2, par3=value3)"
      ]
    },
    {
      "cell_type": "code",
      "execution_count": null,
      "metadata": {
        "deletable": false,
        "nbgrader": {
          "cell_type": "code",
          "checksum": "2847c94f8bd9044cf9d2ef0c3c27cb02",
          "grade": false,
          "grade_id": "cell-07c7a82699aba882",
          "locked": false,
          "schema_version": 3,
          "solution": true,
          "task": false
        },
        "id": "CU4Xb_qCVQLT"
      },
      "outputs": [],
      "source": [
        "from sklearn.svm import SVC\n",
        "\n",
        "\"\"\"\n",
        "Сохраните в переменную model экземпляр класса SVC без параметров.\n",
        "Пример:\n",
        "var = ClassExample()\n",
        "\"\"\"\n",
        "# НАЧАЛО ВАШЕГО РЕШЕНИЯ\n",
        "raise NotImplementedError() # удалить эту строку в процессе решения\n",
        "# КОНЕЦ ВАШЕГО РЕШЕНИЯ\n",
        "\n",
        "# Определение параметров для GridSearchCV\n",
        "\"\"\"\n",
        "'kernel': ['linear', 'poly', 'rbf', 'sigmoid']\n",
        "Параметр 'kernel' определяет тип используемого ядра для построения гиперплоскости. Значение 'linear'\n",
        "означает линейное ядро, которое строит гиперплоскость с помощью линейной функции. Значение 'poly'\n",
        "означает полиномиальное ядро, которое строит гиперплоскость с помощью полиномиальной функции.\n",
        "Значение 'rbf' означает радиальное базисное ядро (RBF), которое строит гиперплоскость с помощью\n",
        "радиальной базисной функции. Значение 'sigmoid' означает сигмоидное ядро, которое строит гиперплоскость\n",
        "с помощью сигмоидной функции.\n",
        "\n",
        "'C': [0.1, 1.0, 10.0]\n",
        "Параметр 'C' определяет параметр регуляризации модели SVM. Большее значение 'C' означает меньшую\n",
        "регуляризацию, что может привести к более точной модели на обучающих данных, но также может привести\n",
        "к переобучению. Меньшее значение 'C' означает большую регуляризацию, что может привести к менее точной\n",
        "модели, но более устойчивой к шуму и выбросам.\n",
        "\n",
        "\"\"\"\n",
        "\n",
        "# params = {\n",
        "#     'kernel': ['linear', 'poly', 'rbf', 'sigmoid'],\n",
        "#     'C': [0.1, 1.0, 10.0]\n",
        "# }\n",
        "params = {\n",
        "    'kernel': ['linear'],\n",
        "    'C': [1.0]\n",
        "}\n",
        "\n",
        "# Создание объекта GridSearchCV\n",
        "\"\"\"\n",
        "Сохраните в переменную grid_search экземпляр класса GridSearchCV со следующими параметрами:\n",
        "estimator=model\n",
        "param_grid=params\n",
        "scoring='f1_macro'\n",
        "Пример:\n",
        "var = GridSearchCV(par1=value1, par2=value2, par3=value3)\n",
        "\"\"\"\n",
        "# НАЧАЛО ВАШЕГО РЕШЕНИЯ\n",
        "raise NotImplementedError() # удалить эту строку в процессе решения\n",
        "# КОНЕЦ ВАШЕГО РЕШЕНИЯ\n",
        "\n",
        "# Обучение модели на обучающих данных\n",
        "grid_search.fit(X_train, y_train)\n",
        "\n",
        "# Получение лучшей модели\n",
        "best_model = grid_search.best_estimator_\n",
        "\n",
        "# Предсказание на тестовых данных\n",
        "y_pred = best_model.predict(X_test)\n",
        "\n",
        "# Получение лучших параметров SVC\n",
        "SVC_best_params = grid_search.best_params_\n",
        "print(\"SVC_best_params: \", SVC_best_params)\n",
        "\n",
        "# Вычисление F1-меры\n",
        "SVC_f1 = f1_score(y_test, y_pred, average='macro')\n",
        "print(\"SVC_f1: \", SVC_f1)"
      ]
    },
    {
      "cell_type": "code",
      "execution_count": null,
      "metadata": {
        "deletable": false,
        "editable": false,
        "nbgrader": {
          "cell_type": "code",
          "checksum": "4d17184f768838b075c6c51297d5a76c",
          "grade": true,
          "grade_id": "cell-e7f61e84459f0c86",
          "locked": true,
          "points": 1,
          "schema_version": 3,
          "solution": false,
          "task": false
        },
        "id": "IAKRuFpUVQLU"
      },
      "outputs": [],
      "source": [
        "assert type(model) == SVC\n",
        "assert type(grid_search) == GridSearchCV"
      ]
    },
    {
      "cell_type": "markdown",
      "metadata": {
        "deletable": false,
        "editable": false,
        "nbgrader": {
          "cell_type": "markdown",
          "checksum": "596dae23cc0c8a8ccaf096e9a43fb381",
          "grade": false,
          "grade_id": "cell-ec72c5b56d867d8c",
          "locked": true,
          "schema_version": 3,
          "solution": false,
          "task": false
        },
        "id": "54VRPe2TVQLU"
      },
      "source": [
        "### Решающее дерево\n",
        "Сохраните в переменную model экземпляр класса DecisionTreeClassifier без параметров.\n",
        "Пример:\n",
        "var = ClassExample()\n",
        "\n",
        "Сохраните в переменную grid_search экземпляр класса GridSearchCV со следующими параметрами:\n",
        "estimator=model\n",
        "param_grid=params\n",
        "scoring='f1_macro'\n",
        "Пример:\n",
        "var = GridSearchCV(par1=value1, par2=value2, par3=value3)"
      ]
    },
    {
      "cell_type": "code",
      "execution_count": null,
      "metadata": {
        "deletable": false,
        "nbgrader": {
          "cell_type": "code",
          "checksum": "867bf38e6b4f9f61fc8abcd9c6665228",
          "grade": false,
          "grade_id": "cell-9028c34e4703f7f8",
          "locked": false,
          "schema_version": 3,
          "solution": true,
          "task": false
        },
        "id": "fz7aT8wJVQLU"
      },
      "outputs": [],
      "source": [
        "from sklearn.tree import DecisionTreeClassifier\n",
        "\n",
        "\"\"\"\n",
        "Сохраните в переменную model экземпляр класса DecisionTreeClassifier без параметров.\n",
        "Пример:\n",
        "var = ClassExample()\n",
        "\"\"\"\n",
        "# НАЧАЛО ВАШЕГО РЕШЕНИЯ\n",
        "raise NotImplementedError() # удалить эту строку в процессе решения\n",
        "# КОНЕЦ ВАШЕГО РЕШЕНИЯ\n",
        "\n",
        "# Определение параметров для GridSearchCV\n",
        "\"\"\"\n",
        "'criterion': ['gini', 'entropy']\n",
        "Параметр 'criterion' определяет критерий, используемый для измерения качества разделения. Значение\n",
        "'gini' означает использование индекса Джини, который измеряет неопределенность набора данных. Значение\n",
        "'entropy' означает использование энтропийного критерия, который также измеряет неопределенность набора\n",
        "данных, но использует логарифмическую шкалу.\n",
        "\n",
        "'max_depth': [None, 5, 10]\n",
        "Параметр 'max_depth' определяет максимальную глубину дерева решений. Значение None означает, что глубина\n",
        "дерева не ограничена. Числовые значения указывают конкретное ограничение на глубину дерева.\n",
        "\n",
        "\"\"\"\n",
        "\n",
        "params = {\n",
        "    'criterion': ['gini', 'entropy'],\n",
        "    'max_depth': [None, 5, 10]\n",
        "}\n",
        "\n",
        "# Создание объекта GridSearchCV\n",
        "\"\"\"\n",
        "Сохраните в переменную grid_search экземпляр класса GridSearchCV со следующими параметрами:\n",
        "estimator=model\n",
        "param_grid=params\n",
        "scoring='f1_macro'\n",
        "Пример:\n",
        "var = GridSearchCV(par1=value1, par2=value2, par3=value3)\n",
        "\"\"\"\n",
        "# НАЧАЛО ВАШЕГО РЕШЕНИЯ\n",
        "raise NotImplementedError() # удалить эту строку в процессе решения\n",
        "# КОНЕЦ ВАШЕГО РЕШЕНИЯ\n",
        "\n",
        "# Обучение модели на обучающих данных\n",
        "grid_search.fit(X_train, y_train)\n",
        "\n",
        "# Получение лучшей модели\n",
        "best_model = grid_search.best_estimator_\n",
        "\n",
        "# Предсказание на тестовых данных\n",
        "y_pred = best_model.predict(X_test)\n",
        "\n",
        "# Получение лучших параметров DecisionTreeClassifier\n",
        "DecisionTreeClassifier_best_params = grid_search.best_params_\n",
        "print(\"DecisionTreeClassifier_best_params: \", DecisionTreeClassifier_best_params)\n",
        "\n",
        "# Вычисление F1-меры\n",
        "DecisionTreeClassifier_f1 = f1_score(y_test, y_pred, average='macro')\n",
        "print(\"DecisionTreeClassifier_f1: \", DecisionTreeClassifier_f1)"
      ]
    },
    {
      "cell_type": "code",
      "execution_count": null,
      "metadata": {
        "deletable": false,
        "editable": false,
        "nbgrader": {
          "cell_type": "code",
          "checksum": "d74cc5de71c017d2cff6ae62ab1288d8",
          "grade": true,
          "grade_id": "cell-e5f4270f3ee48fa8",
          "locked": true,
          "points": 1,
          "schema_version": 3,
          "solution": false,
          "task": false
        },
        "id": "URHZUjOsVQLU"
      },
      "outputs": [],
      "source": [
        "assert type(model) == DecisionTreeClassifier\n",
        "assert type(grid_search) == GridSearchCV"
      ]
    },
    {
      "cell_type": "markdown",
      "metadata": {
        "deletable": false,
        "editable": false,
        "nbgrader": {
          "cell_type": "markdown",
          "checksum": "e472456f29df529ccaf938e4b91e21c9",
          "grade": false,
          "grade_id": "cell-b08c8b3fea6c27cf",
          "locked": true,
          "schema_version": 3,
          "solution": false,
          "task": false
        },
        "id": "y4pkV0wAVQLV"
      },
      "source": [
        "### Случайный лес\n",
        "Сохраните в переменную model экземпляр класса RandomForestClassifier без параметров.\n",
        "Пример:\n",
        "var = ClassExample()\n",
        "\n",
        "Сохраните в переменную grid_search экземпляр класса GridSearchCV со следующими параметрами:\n",
        "estimator=model\n",
        "param_grid=params\n",
        "scoring='f1_macro'\n",
        "Пример:\n",
        "var = GridSearchCV(par1=value1, par2=value2, par3=value3)"
      ]
    },
    {
      "cell_type": "code",
      "execution_count": null,
      "metadata": {
        "deletable": false,
        "nbgrader": {
          "cell_type": "code",
          "checksum": "04679931eb8bf00c8501a52879bf7b17",
          "grade": false,
          "grade_id": "cell-3a383c70d0b572c3",
          "locked": false,
          "schema_version": 3,
          "solution": true,
          "task": false
        },
        "id": "hpO-kcBkVQLV"
      },
      "outputs": [],
      "source": [
        "from sklearn.ensemble import RandomForestClassifier\n",
        "\n",
        "\"\"\"\n",
        "Сохраните в переменную model экземпляр класса RandomForestClassifier без параметров.\n",
        "Пример:\n",
        "var = ClassExample()\n",
        "\"\"\"\n",
        "# НАЧАЛО ВАШЕГО РЕШЕНИЯ\n",
        "raise NotImplementedError() # удалить эту строку в процессе решения\n",
        "# КОНЕЦ ВАШЕГО РЕШЕНИЯ\n",
        "\n",
        "# Определение параметров для GridSearchCV\n",
        "\"\"\"\n",
        "'n_estimators': [100, 200, 300]\n",
        "Параметр 'n_estimators' определяет количество деревьев в лесу. Большее количество деревьев может повысить\n",
        "точность модели, но может также увеличить время обучения и инференса.\n",
        "\n",
        "'max_depth': [None, 5, 10]\n",
        "Параметр 'max_depth' определяет максимальную глубину дерева решений в лесу. Значение None означает, что\n",
        "глубина деревьев не ограничена. Числовые значения указывают конкретное ограничение на глубину дерева.\n",
        "\n",
        "\"\"\"\n",
        "\n",
        "params = {\n",
        "    'n_estimators': [100, 200, 300],\n",
        "    'max_depth': [None, 5, 10]\n",
        "}\n",
        "\n",
        "# Создание объекта GridSearchCV\n",
        "\"\"\"\n",
        "Сохраните в переменную grid_search экземпляр класса GridSearchCV со следующими параметрами:\n",
        "estimator=model\n",
        "param_grid=params\n",
        "scoring='f1_macro'\n",
        "Пример:\n",
        "var = GridSearchCV(par1=value1, par2=value2, par3=value3)\n",
        "\"\"\"\n",
        "# НАЧАЛО ВАШЕГО РЕШЕНИЯ\n",
        "raise NotImplementedError() # удалить эту строку в процессе решения\n",
        "# КОНЕЦ ВАШЕГО РЕШЕНИЯ\n",
        "\n",
        "# Обучение модели на обучающих данных\n",
        "grid_search.fit(X_train, y_train)\n",
        "\n",
        "# Получение лучшей модели\n",
        "best_model = grid_search.best_estimator_\n",
        "\n",
        "# Предсказание на тестовых данных\n",
        "y_pred = best_model.predict(X_test)\n",
        "\n",
        "# Получение лучших параметров RandomForestClassifier\n",
        "RandomForestClassifier_best_params = grid_search.best_params_\n",
        "print(\"RandomForestClassifier_best_params: \", RandomForestClassifier_best_params)\n",
        "\n",
        "# Вычисление F1-меры\n",
        "RandomForestClassifier_f1 = f1_score(y_test, y_pred, average='macro')\n",
        "print(\"RandomForestClassifier_f1: \", RandomForestClassifier_f1)"
      ]
    },
    {
      "cell_type": "code",
      "execution_count": null,
      "metadata": {
        "deletable": false,
        "editable": false,
        "nbgrader": {
          "cell_type": "code",
          "checksum": "79a76d8ddf592766ea9e62d31973af6a",
          "grade": true,
          "grade_id": "cell-1558a47cc9230343",
          "locked": true,
          "points": 1,
          "schema_version": 3,
          "solution": false,
          "task": false
        },
        "id": "4w63SGkGVQLV"
      },
      "outputs": [],
      "source": [
        "assert type(model) == RandomForestClassifier\n",
        "assert type(grid_search) == GridSearchCV"
      ]
    },
    {
      "cell_type": "markdown",
      "metadata": {
        "deletable": false,
        "editable": false,
        "nbgrader": {
          "cell_type": "markdown",
          "checksum": "7992a49cd55c6f87a233668c7aac4906",
          "grade": false,
          "grade_id": "cell-e23f07c5e0028ec1",
          "locked": true,
          "schema_version": 3,
          "solution": false,
          "task": false
        },
        "id": "EKGytBboVQLV"
      },
      "source": [
        "### Градиентный бустинг\n",
        "Сохраните в переменную model экземпляр класса GradientBoostingClassifier без параметров.\n",
        "Пример:\n",
        "var = ClassExample()\n",
        "\n",
        "Сохраните в переменную grid_search экземпляр класса GridSearchCV со следующими параметрами:\n",
        "estimator=model\n",
        "param_grid=params\n",
        "scoring='f1_macro'\n",
        "Пример:\n",
        "var = GridSearchCV(par1=value1, par2=value2, par3=value3)"
      ]
    },
    {
      "cell_type": "code",
      "execution_count": null,
      "metadata": {
        "deletable": false,
        "nbgrader": {
          "cell_type": "code",
          "checksum": "19c4f88f78d94cf15265880faf0c3c96",
          "grade": false,
          "grade_id": "cell-87c99b53ef046ce5",
          "locked": false,
          "schema_version": 3,
          "solution": true,
          "task": false
        },
        "id": "aKv5123eVQLW"
      },
      "outputs": [],
      "source": [
        "from sklearn.ensemble import GradientBoostingClassifier\n",
        "\n",
        "\"\"\"\n",
        "Сохраните в переменную model экземпляр класса GradientBoostingClassifier без параметров.\n",
        "Пример:\n",
        "var = ClassExample()\n",
        "\"\"\"\n",
        "# НАЧАЛО ВАШЕГО РЕШЕНИЯ\n",
        "raise NotImplementedError() # удалить эту строку в процессе решения\n",
        "# КОНЕЦ ВАШЕГО РЕШЕНИЯ\n",
        "\n",
        "# Определение параметров для GridSearchCV\n",
        "\"\"\"\n",
        "'n_estimators': [100, 200, 300]\n",
        "Параметр 'n_estimators' определяет количество деревьев в градиентном бустинге. Большее количество деревьев\n",
        "может повысить точность модели, но может также увеличить время обучения и инференса.\n",
        "\n",
        "'max_depth': [3, 5, 10]\n",
        "Параметр 'max_depth' определяет максимальную глубину дерева решений в градиентном бустинге. Значение 3, 5\n",
        "или 10 указывает конкретное ограничение на глубину дерева.\n",
        "\n",
        "'learning_rate': [0.1, 0.01, 0.001]\n",
        "Параметр 'learning_rate' определяет скорость обучения модели. Меньшие значения 'learning_rate' могут\n",
        "требовать большего количества деревьев для достижения высокой точности модели.\n",
        "\n",
        "\"\"\"\n",
        "\n",
        "# params = {\n",
        "#     'n_estimators': [100, 200, 300],\n",
        "#     'max_depth': [3, 5, 10],\n",
        "#     'learning_rate': [0.1, 0.01, 0.001]\n",
        "# }\n",
        "\n",
        "params = {\n",
        "    'n_estimators': [30, 50, 100],\n",
        "    'max_depth': [5],\n",
        "    'learning_rate': [0.1, 0.01]\n",
        "}\n",
        "\n",
        "# Создание объекта GridSearchCV\n",
        "\"\"\"\n",
        "Сохраните в переменную grid_search экземпляр класса GridSearchCV со следующими параметрами:\n",
        "estimator=model\n",
        "param_grid=params\n",
        "scoring='f1_macro'\n",
        "Пример:\n",
        "var = GridSearchCV(par1=value1, par2=value2, par3=value3)\n",
        "\"\"\"\n",
        "# НАЧАЛО ВАШЕГО РЕШЕНИЯ\n",
        "raise NotImplementedError() # удалить эту строку в процессе решения\n",
        "# КОНЕЦ ВАШЕГО РЕШЕНИЯ\n",
        "\n",
        "# Обучение модели на обучающих данных\n",
        "grid_search.fit(X_train, y_train)\n",
        "\n",
        "# Получение лучшей модели\n",
        "best_model = grid_search.best_estimator_\n",
        "\n",
        "# Предсказание на тестовых данных\n",
        "y_pred = best_model.predict(X_test)\n",
        "\n",
        "# Получение лучших параметров GradientBoostingClassifier\n",
        "GradientBoostingClassifier_best_params = grid_search.best_params_\n",
        "print(\"GradientBoostingClassifier_best_params: \", GradientBoostingClassifier_best_params)\n",
        "\n",
        "# Вычисление F1-меры\n",
        "GradientBoostingClassifier_f1 = f1_score(y_test, y_pred, average='macro')\n",
        "print(\"GradientBoostingClassifier_f1: \", GradientBoostingClassifier_f1)"
      ]
    },
    {
      "cell_type": "code",
      "execution_count": null,
      "metadata": {
        "deletable": false,
        "editable": false,
        "nbgrader": {
          "cell_type": "code",
          "checksum": "96d60db0ea95cf55e5c7ad9db4a07f10",
          "grade": true,
          "grade_id": "cell-eef10fd55b17650e",
          "locked": true,
          "points": 1,
          "schema_version": 3,
          "solution": false,
          "task": false
        },
        "id": "7GiAgWqpVQLW"
      },
      "outputs": [],
      "source": [
        "assert type(model) == GradientBoostingClassifier\n",
        "assert type(grid_search) == GridSearchCV"
      ]
    },
    {
      "cell_type": "markdown",
      "metadata": {
        "deletable": false,
        "editable": false,
        "nbgrader": {
          "cell_type": "markdown",
          "checksum": "ba1bc0e33451787509626a98217c33c6",
          "grade": false,
          "grade_id": "cell-7b5dc7c4b798e5cf",
          "locked": true,
          "schema_version": 3,
          "solution": false,
          "task": false
        },
        "id": "7tw-1WOwVQLZ"
      },
      "source": [
        "### Эктремальный бустинг\n",
        "Сохраните в переменную model экземпляр класса xgb.XGBClassifier без параметров.\n",
        "Пример:\n",
        "var = ClassExample()\n",
        "\n",
        "Сохраните в переменную grid_search экземпляр класса GridSearchCV со следующими параметрами:\n",
        "estimator=model\n",
        "param_grid=params\n",
        "scoring='f1_macro'\n",
        "Пример:\n",
        "var = GridSearchCV(par1=value1, par2=value2, par3=value3)"
      ]
    },
    {
      "cell_type": "code",
      "execution_count": null,
      "metadata": {
        "deletable": false,
        "nbgrader": {
          "cell_type": "code",
          "checksum": "4cb6b91bed2cafceafd1745aebbf5526",
          "grade": false,
          "grade_id": "cell-9ff51eaa71d964a9",
          "locked": false,
          "schema_version": 3,
          "solution": true,
          "task": false
        },
        "id": "62FZgTnGVQLZ"
      },
      "outputs": [],
      "source": [
        "import xgboost as xgb\n",
        "\n",
        "\"\"\"\n",
        "Сохраните в переменную model экземпляр класса xgb.XGBClassifier без параметров.\n",
        "Пример:\n",
        "var = ClassExample()\n",
        "\"\"\"\n",
        "# НАЧАЛО ВАШЕГО РЕШЕНИЯ\n",
        "raise NotImplementedError() # удалить эту строку в процессе решения\n",
        "# КОНЕЦ ВАШЕГО РЕШЕНИЯ\n",
        "\n",
        "# Определение параметров для GridSearchCV\n",
        "\"\"\"\n",
        "'n_estimators': [100, 200, 300]\n",
        "Параметр 'n_estimators' определяет количество деревьев в ансамбле. Большее количество деревьев может\n",
        "улучшить качество модели, но может также увеличить время обучения и инференса.\n",
        "\n",
        "'max_depth': [3, 5, 10]\n",
        "Параметр 'max_depth' определяет максимальную глубину дерева. Увеличение глубины дерева может привести к\n",
        "более сложной модели, которая может переобучиться на тренировочных данных.\n",
        "\n",
        "'learning_rate': [0.1, 0.01, 0.001]\n",
        "Параметр 'learning_rate' определяет скорость обучения модели. Меньшие значения 'learning_rate' требуют\n",
        "большего числа деревьев для достижения хорошей точности модели.\n",
        "\n",
        "\"\"\"\n",
        "\n",
        "# params = {\n",
        "#     'n_estimators': [100, 200, 300],\n",
        "#     'max_depth': [3, 5, 10],\n",
        "#     'learning_rate': [0.1, 0.01, 0.001]\n",
        "# }\n",
        "params = {\n",
        "    'n_estimators': [30, 50, 100],\n",
        "    'max_depth': [3, 5],\n",
        "    'learning_rate': [0.1, 0.01]\n",
        "}\n",
        "\n",
        "# Создание объекта GridSearchCV\n",
        "\"\"\"\n",
        "Сохраните в переменную grid_search экземпляр класса GridSearchCV со следующими параметрами:\n",
        "estimator=model\n",
        "param_grid=params\n",
        "scoring='f1_macro'\n",
        "Пример:\n",
        "var = GridSearchCV(par1=value1, par2=value2, par3=value3)\n",
        "\"\"\"\n",
        "# НАЧАЛО ВАШЕГО РЕШЕНИЯ\n",
        "raise NotImplementedError() # удалить эту строку в процессе решения\n",
        "# КОНЕЦ ВАШЕГО РЕШЕНИЯ\n",
        "\n",
        "# Обучение модели на обучающих данных\n",
        "grid_search.fit(X_train, y_train)\n",
        "\n",
        "# Получение лучшей модели\n",
        "best_model = grid_search.best_estimator_\n",
        "\n",
        "# Предсказание на тестовых данных\n",
        "y_pred = best_model.predict(X_test)\n",
        "\n",
        "# Получение лучших параметров XGBClassifier\n",
        "XGBClassifier_best_params = grid_search.best_params_\n",
        "print(\"XGBClassifier_best_params: \", XGBClassifier_best_params)\n",
        "\n",
        "# Вычисление F1-меры\n",
        "XGBClassifier_f1 = f1_score(y_test, y_pred, average='macro')\n",
        "print(\"XGBClassifier_f1: \", XGBClassifier_f1)"
      ]
    },
    {
      "cell_type": "code",
      "execution_count": null,
      "metadata": {
        "deletable": false,
        "editable": false,
        "nbgrader": {
          "cell_type": "code",
          "checksum": "3b24c6e142b0599c97c9c2ebcaff985c",
          "grade": true,
          "grade_id": "cell-265ff171f6dfff58",
          "locked": true,
          "points": 1,
          "schema_version": 3,
          "solution": false,
          "task": false
        },
        "id": "TczbkYsXVQLa"
      },
      "outputs": [],
      "source": [
        "assert type(model) == xgb.XGBClassifier\n",
        "assert type(grid_search) == GridSearchCV"
      ]
    },
    {
      "cell_type": "markdown",
      "metadata": {
        "deletable": false,
        "editable": false,
        "nbgrader": {
          "cell_type": "markdown",
          "checksum": "19a472d56dff4ce94e15d5fbf71b89a2",
          "grade": false,
          "grade_id": "cell-8569ed7a03a7c15d",
          "locked": true,
          "schema_version": 3,
          "solution": false,
          "task": false
        },
        "id": "jVjM5I6YVQLa"
      },
      "source": [
        "### CatBoost\n",
        "Сохраните в переменную model экземпляр класса cb.CatBoostClassifier с параметром silent=True.\n",
        "Пример:\n",
        "var = ClassExample(silent=True)\n",
        "\n",
        "Сохраните в переменную grid_search экземпляр класса GridSearchCV со следующими параметрами:\n",
        "estimator=model\n",
        "param_grid=params\n",
        "scoring='f1_macro'\n",
        "Пример:\n",
        "var = GridSearchCV(par1=value1, par2=value2, par3=value3)"
      ]
    },
    {
      "cell_type": "code",
      "execution_count": null,
      "metadata": {
        "deletable": false,
        "nbgrader": {
          "cell_type": "code",
          "checksum": "76394a4dfeaa3b62a9b70b1d1128427e",
          "grade": false,
          "grade_id": "cell-e49e7d38996f3ac1",
          "locked": false,
          "schema_version": 3,
          "solution": true,
          "task": false
        },
        "id": "lJ2vr4eLVQLb"
      },
      "outputs": [],
      "source": [
        "import catboost as cb\n",
        "\n",
        "\"\"\"\n",
        "Сохраните в переменную model экземпляр класса cb.CatBoostClassifier с параметром silent=True.\n",
        "Пример:\n",
        "var = ClassExample(silent=True)\n",
        "\"\"\"\n",
        "# НАЧАЛО ВАШЕГО РЕШЕНИЯ\n",
        "raise NotImplementedError() # удалить эту строку в процессе решения\n",
        "# КОНЕЦ ВАШЕГО РЕШЕНИЯ\n",
        "\n",
        "# Определение параметров для GridSearchCV\n",
        "\"\"\"\n",
        "'n_estimators': [100, 200, 300]\n",
        "Параметр 'n_estimators' определяет количество деревьев в ансамбле. Большее количество деревьев может\n",
        "улучшить качество модели, но может также увеличить время обучения и инференса.\n",
        "\n",
        "'max_depth': [3, 5, 10]\n",
        "Параметр 'max_depth' определяет максимальную глубину дерева. Увеличение глубины дерева может привести к\n",
        "более сложной модели, которая может переобучиться на тренировочных данных.\n",
        "\n",
        "'learning_rate': [0.1, 0.01, 0.001]\n",
        "Параметр 'learning_rate' определяет скорость обучения модели. Меньшие значения 'learning_rate' требуют\n",
        "большего числа деревьев для достижения хорошей точности модели.\n",
        "\n",
        "\"\"\"\n",
        "\n",
        "# params = {\n",
        "#     'n_estimators': [100, 200, 300],\n",
        "#     'max_depth': [3, 5, 10],\n",
        "#     'learning_rate': [0.1, 0.01, 0.001]\n",
        "# }\n",
        "params = {\n",
        "    'n_estimators': [30, 50, 100],\n",
        "    'max_depth': [3, 5],\n",
        "    'learning_rate': [0.1, 0.01]\n",
        "}\n",
        "\n",
        "# Создание объекта GridSearchCV\n",
        "\"\"\"\n",
        "Сохраните в переменную grid_search экземпляр класса GridSearchCV со следующими параметрами:\n",
        "estimator=model\n",
        "param_grid=params\n",
        "scoring='f1_macro'\n",
        "Пример:\n",
        "var = GridSearchCV(par1=value1, par2=value2, par3=value3)\n",
        "\"\"\"\n",
        "# НАЧАЛО ВАШЕГО РЕШЕНИЯ\n",
        "raise NotImplementedError() # удалить эту строку в процессе решения\n",
        "# КОНЕЦ ВАШЕГО РЕШЕНИЯ\n",
        "\n",
        "# Обучение модели на обучающих данных\n",
        "grid_search.fit(X_train, y_train)\n",
        "\n",
        "# Получение лучшей модели\n",
        "best_model = grid_search.best_estimator_\n",
        "\n",
        "# Предсказание на тестовых данных\n",
        "y_pred = best_model.predict(X_test)\n",
        "\n",
        "# Получение лучших параметров CatBoostClassifier\n",
        "CatBoostClassifier_best_params = grid_search.best_params_\n",
        "print(\"CatBoostClassifier_best_params: \", CatBoostClassifier_best_params)\n",
        "\n",
        "# Вычисление F1-меры\n",
        "CatBoostClassifier_f1 = f1_score(y_test, y_pred, average='macro')\n",
        "print(\"CatBoostClassifier_f1: \", CatBoostClassifier_f1)"
      ]
    },
    {
      "cell_type": "code",
      "execution_count": null,
      "metadata": {
        "deletable": false,
        "editable": false,
        "nbgrader": {
          "cell_type": "code",
          "checksum": "f0f2797902255aa767761e12b076e5f2",
          "grade": true,
          "grade_id": "cell-bc10a3a8366a4951",
          "locked": true,
          "points": 1,
          "schema_version": 3,
          "solution": false,
          "task": false
        },
        "id": "L4-Py02nVQLc"
      },
      "outputs": [],
      "source": [
        "assert type(model) == cb.CatBoostClassifier\n",
        "assert type(grid_search) == GridSearchCV"
      ]
    },
    {
      "cell_type": "markdown",
      "source": [
        "## Ваш ответ"
      ],
      "metadata": {
        "id": "zhcnXY0IRk9Y"
      }
    },
    {
      "cell_type": "markdown",
      "source": [
        "Начинайте здесь"
      ],
      "metadata": {
        "id": "b-afKTrtRmwl"
      }
    },
    {
      "cell_type": "markdown",
      "source": [
        "## Задание 4.2. Оценка эффективности работы моделей (5 баллов)\n",
        "\n",
        "Выведите резуальтаты работы моделей в таблицу.\n",
        "\n",
        "Выделите 1-3 модели, которые вы бы использовали на практике.\n",
        "\n",
        "**Обоснуйте своё решение, опираясь на критерии:**\n",
        "\n",
        "* Особенности работы алгоритма модели (2 балла).\n",
        "* Метрики качества (2 балла).\n",
        "* Скорость работы (1 балл)."
      ],
      "metadata": {
        "id": "sIqjV0lDPMnT"
      }
    },
    {
      "cell_type": "code",
      "execution_count": null,
      "metadata": {
        "deletable": false,
        "editable": false,
        "nbgrader": {
          "cell_type": "code",
          "checksum": "83a4d88c191d7a019df15b48b26336e2",
          "grade": false,
          "grade_id": "cell-15cc0a96bd42fd2a",
          "locked": true,
          "schema_version": 3,
          "solution": false,
          "task": false
        },
        "id": "bZ5BzS_jVQLd"
      },
      "outputs": [],
      "source": [
        "# Вывод результатов моделей классификации\n",
        "data = [\n",
        "    ['LogisticRegression', f'{LogisticRegression_f1}', f'{LogisticRegression_best_params}'],\n",
        "    ['SVC', f'{SVC_f1}', f'{SVC_best_params}'],\n",
        "    ['DecisionTreeClassifier', f'{DecisionTreeClassifier_f1}', f'{DecisionTreeClassifier_best_params}'],\n",
        "    ['RandomForestClassifier', f'{RandomForestClassifier_f1}', f'{RandomForestClassifier_best_params}'],\n",
        "    ['GradientBoostingClassifier', f'{GradientBoostingClassifier_f1}', f'{GradientBoostingClassifier_best_params}'],\n",
        "    ['XGBClassifier', f'{XGBClassifier_f1}', f'{XGBClassifier_best_params}'],\n",
        "    ['CatBoostClassifier', f'{CatBoostClassifier_f1}', f'{CatBoostClassifier_best_params}']\n",
        "]\n",
        "\n",
        "\n",
        "# Создание DataFrame из данных\n",
        "df = pd.DataFrame(data, columns=['Модель', 'F1', 'Параметры'], index=range(1, 1 + len(data)))\n",
        "pd.set_option('display.max_colwidth', None)\n",
        "# Отображение DataFrame\n",
        "df.head(len(data))"
      ]
    },
    {
      "cell_type": "markdown",
      "source": [
        "## Ваш ответ"
      ],
      "metadata": {
        "id": "L-3ZeyNeRpU1"
      }
    },
    {
      "cell_type": "markdown",
      "source": [
        "Начинайте здесь"
      ],
      "metadata": {
        "id": "v0eIg9wjRq2g"
      }
    }
  ],
  "metadata": {
    "kernelspec": {
      "display_name": "Python 3 (ipykernel)",
      "language": "python",
      "name": "python3"
    },
    "language_info": {
      "codemirror_mode": {
        "name": "ipython",
        "version": 3
      },
      "file_extension": ".py",
      "mimetype": "text/x-python",
      "name": "python",
      "nbconvert_exporter": "python",
      "pygments_lexer": "ipython3",
      "version": "3.11.4"
    },
    "colab": {
      "provenance": []
    }
  },
  "nbformat": 4,
  "nbformat_minor": 0
}