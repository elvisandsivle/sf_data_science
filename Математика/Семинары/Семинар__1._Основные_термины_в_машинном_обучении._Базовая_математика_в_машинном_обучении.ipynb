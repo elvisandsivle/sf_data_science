{
 "cells": [
  {
   "cell_type": "markdown",
   "metadata": {
    "id": "fFYA7pYmZj7Z"
   },
   "source": [
    "<a name='toc'></a>\n",
    "# Содержание\n",
    "\n",
    "- [ 1 - Numpy](#1)\n",
    "  - [ 1.1 - Описание](#1.1)\n",
    "  - [ 1.2 - Создание массивов](#1.2)\n",
    "  - [ 1.3 - Операции на массивах](#1.3)\n",
    "  - [ 1.4 - Упражнение](#1.4)\n",
    "- [ 2 - Sympy](#2)\n",
    "  - [ 2.1 - Описание](#2.1)\n",
    "  - [ 2.2 - Упражнение](#2.2)\n",
    "- [ 3 - Scipy](#3)\n",
    "  - [ 3.1 - Описание](#3.1)\n",
    "  - [ 3.2 - Упражнение](#2.2)"
   ]
  },
  {
   "cell_type": "markdown",
   "metadata": {
    "id": "rMUxxSH1Zj7e"
   },
   "source": [
    "<a name='1'></a>\n",
    "# Numpy"
   ]
  },
  {
   "cell_type": "markdown",
   "metadata": {
    "id": "61kcHyXLZj7e"
   },
   "source": [
    " <a name='1.1'></a>\n",
    "## Описание\n",
    "\n",
    "NumPy - это библиотека для языка программирования Python, которая предоставляет мощные инструменты для работы с массивами и матрицами данных. Она включает в себя функции для работы с линейной алгеброй, случайными числами, преобразованиями Фурье и многими другими математическими операциями.\n",
    "\n",
    "Основным компонентом NumPy является объект массива numpy.ndarray, который представляет собой многомерный массив элементов одного типа данных. Эти массивы могут иметь разные размерности и формы, и могут быть использованы для выполнения быстрых математических операций на больших объемах данных.\n",
    "\n",
    "NumPy также предоставляет множество функций для работы с массивами, таких как сортировка, индексация, решение уравнений, операции с логическими значениями и т.д. Библиотека также имеет множество инструментов для визуализации данных, в том числе инструменты для построения графиков и диаграмм.\n",
    "\n",
    "NumPy является ключевой библиотекой для научных вычислений и анализа данных на Python, и широко используется в областях, таких как машинное обучение, обработка изображений, обработка звука и многих других."
   ]
  },
  {
   "cell_type": "markdown",
   "metadata": {
    "id": "m_odDOPPZj7f"
   },
   "source": [
    "Объект ndarray (N-dimensional array) в библиотеке NumPy представляет собой многомерный массив элементов одного типа данных, в то время как обычный list в Python может содержать элементы разных типов и не имеет поддержки для многомерных массивов.\n",
    "\n",
    "Вот несколько отличий между ndarray и list:\n",
    "\n",
    "1. ndarray может иметь фиксированные размеры и формы (т.е. количество элементов в каждом измерении), в то время как list может иметь произвольную длину и может содержать элементы разных типов.\n",
    "\n",
    "2. ndarray обеспечивает быстрый доступ к элементам массива, в то время как для доступа к элементам списка требуется выполнение поиска элемента по индексу.\n",
    "\n",
    "3. ndarray имеет поддержку для операций линейной алгебры и других математических операций над многомерными массивами, что делает его полезным для выполнения научных и инженерных вычислений. В то время как списки могут быть использованы для хранения и манипулирования данными различных типов, но они не предоставляют такой же функциональности для выполнения математических операций.\n",
    "\n",
    "4. ndarray обычно занимает меньше памяти, чем list, особенно если массив содержит большое количество элементов, т.к. все элементы ndarray имеют одинаковый тип данных и могут быть хранены в памяти более эффективно.\n",
    "\n",
    "В целом, ndarray является более эффективным и удобным инструментом для работы с многомерными массивами и выполнения научных вычислений, в то время как list может быть полезен для хранения и манипулирования данными различных типов и длин."
   ]
  },
  {
   "cell_type": "code",
   "execution_count": null,
   "metadata": {
    "colab": {
     "base_uri": "https://localhost:8080/"
    },
    "executionInfo": {
     "elapsed": 75,
     "status": "ok",
     "timestamp": 1698212662735,
     "user": {
      "displayName": "Sergey Korpachev",
      "userId": "09181340988160569540"
     },
     "user_tz": -180
    },
    "id": "UzGtqNWkZj7g",
    "outputId": "f4f5be00-95d5-49c3-f86b-1f8fa9406039"
   },
   "outputs": [],
   "source": [
    "import numpy as np\n",
    "print(dir(np))"
   ]
  },
  {
   "cell_type": "markdown",
   "metadata": {
    "id": "BNlnTDyZZj7i"
   },
   "source": [
    " <a name='1.2'></a>\n",
    "## Создание массивов"
   ]
  },
  {
   "cell_type": "markdown",
   "metadata": {
    "id": "4nvW3p5ZZj7i"
   },
   "source": [
    "Сравнение np.array и списков"
   ]
  },
  {
   "cell_type": "code",
   "execution_count": null,
   "metadata": {
    "colab": {
     "base_uri": "https://localhost:8080/"
    },
    "executionInfo": {
     "elapsed": 71,
     "status": "ok",
     "timestamp": 1698212662736,
     "user": {
      "displayName": "Sergey Korpachev",
      "userId": "09181340988160569540"
     },
     "user_tz": -180
    },
    "id": "dbMoBojDZj7j",
    "outputId": "63976a1a-8516-460a-a6ea-e07498bf1ff6"
   },
   "outputs": [],
   "source": [
    "# Создание массива ndarray из списка\n",
    "arr = np.array([1, 2, 3, 4, 5])\n",
    "print(arr) # [1 2 3 4 5]\n",
    "print(type(arr)) # <class 'numpy.ndarray'>\n",
    "\n",
    "# Создание списка\n",
    "lst = [1, 2, 3, 4, 5]\n",
    "print(lst) # [1, 2, 3, 4, 5]\n",
    "print(type(lst)) # <class 'list'>\n",
    "\n",
    "# Доступ к элементам массива\n",
    "print(arr[0]) # 1\n",
    "\n",
    "# Доступ к элементам списка\n",
    "print(lst[0]) # 1\n",
    "\n",
    "# Изменение элемента массива\n",
    "arr[0] = 0\n",
    "print(arr) # [0 2 3 4 5]\n",
    "\n",
    "# Изменение элемента списка\n",
    "lst[0] = 0\n",
    "print(lst) # [0, 2, 3, 4, 5]\n",
    "\n",
    "# Сложение элементов массива\n",
    "print(arr + arr) # [0 4 6 8 10]\n",
    "\n",
    "# Сложение элементов списка\n",
    "print(lst + lst) # [0, 2, 3, 4, 5, 0, 2, 3, 4, 5]\n",
    "\n",
    "# Умножение элементов массива\n",
    "print(arr * 2) # [ 0  4  6  8 10]\n",
    "\n",
    "# Умножение элементов списка\n",
    "print(lst * 2) # [0, 2, 3, 4, 5, 0, 2, 3, 4, 5]"
   ]
  },
  {
   "cell_type": "code",
   "execution_count": null,
   "metadata": {
    "colab": {
     "base_uri": "https://localhost:8080/"
    },
    "executionInfo": {
     "elapsed": 62,
     "status": "ok",
     "timestamp": 1698212662736,
     "user": {
      "displayName": "Sergey Korpachev",
      "userId": "09181340988160569540"
     },
     "user_tz": -180
    },
    "id": "2O8wYB2hZj7j",
    "outputId": "2bb7ff8f-baa5-4c9d-d7e9-ac3a0a7ddc40"
   },
   "outputs": [],
   "source": [
    "# Создание двумерного массива\n",
    "arr = np.array([[1, 2, 3], [4, 5, 6]])\n",
    "print(\"Создание двумерного массива:\\n\", arr)\n",
    "\n",
    "# Получение формы массива\n",
    "shape = arr.shape\n",
    "print(\"Получение формы массива:\\n\", shape)  # (2, 3)\n",
    "\n",
    "# Получение количества измерений\n",
    "ndim = arr.ndim\n",
    "print(\"Получение количества измерений:\\n\", ndim)  # 2\n",
    "\n",
    "# Получение общего количества элементов\n",
    "size = arr.size\n",
    "print(\"Получение общего количества элементов:\\n\", size)  # 6\n",
    "\n",
    "# Получение типа данных элементов массива\n",
    "dtype = arr.dtype\n",
    "print(\"Получение типа данных элементов массива:\\n\", dtype) # int64"
   ]
  },
  {
   "cell_type": "code",
   "execution_count": null,
   "metadata": {
    "colab": {
     "base_uri": "https://localhost:8080/"
    },
    "executionInfo": {
     "elapsed": 56,
     "status": "ok",
     "timestamp": 1698212662736,
     "user": {
      "displayName": "Sergey Korpachev",
      "userId": "09181340988160569540"
     },
     "user_tz": -180
    },
    "id": "h0L61y5dZj7k",
    "outputId": "c6e0b68f-a426-49a4-d919-0e1a6184e785"
   },
   "outputs": [],
   "source": [
    "# Создание трехмерного массива\n",
    "arr_3d = np.array([[[1, 2], [3, 4]], [[5, 6], [7, 8]]])\n",
    "print(\"Создание трехмерного массива:\\n\", arr_3d)\n",
    "\n",
    "# Получение формы массива\n",
    "shape = arr_3d.shape\n",
    "print(\"Получение формы массива:\\n\", shape)  # (2, 2, 2)\n",
    "\n",
    "# Получение количества измерений\n",
    "ndim = arr_3d.ndim\n",
    "print(\"Получение количества измерений:\\n\", ndim)  # 3\n",
    "\n",
    "# Получение общего количества элементов\n",
    "size = arr_3d.size\n",
    "print(\"Получение общего количества элементов:\\n\", size)  # 8\n",
    "\n",
    "# Получение типа данных элементов массива\n",
    "dtype = arr_3d.dtype\n",
    "print(\"Получение типа данных элементов массива:\\n\", dtype) # int64"
   ]
  },
  {
   "cell_type": "markdown",
   "metadata": {
    "id": "dCfHnS-UZj7k"
   },
   "source": [
    "Различные способы создания массивов"
   ]
  },
  {
   "cell_type": "code",
   "execution_count": null,
   "metadata": {
    "colab": {
     "base_uri": "https://localhost:8080/"
    },
    "executionInfo": {
     "elapsed": 51,
     "status": "ok",
     "timestamp": 1698212662737,
     "user": {
      "displayName": "Sergey Korpachev",
      "userId": "09181340988160569540"
     },
     "user_tz": -180
    },
    "id": "_OcEdk3kZj7l",
    "outputId": "79be9e63-60ff-40d4-974a-7de165c71115"
   },
   "outputs": [],
   "source": [
    "# Создание массива из 10 нулей\n",
    "print(\"Массив нулей:\\n\", np.zeros(10))\n",
    "\n",
    "# Создание массива из 10 единиц\n",
    "print(\"Массив единиц:\\n\", np.ones(10))"
   ]
  },
  {
   "cell_type": "code",
   "execution_count": null,
   "metadata": {
    "colab": {
     "base_uri": "https://localhost:8080/"
    },
    "executionInfo": {
     "elapsed": 45,
     "status": "ok",
     "timestamp": 1698212662737,
     "user": {
      "displayName": "Sergey Korpachev",
      "userId": "09181340988160569540"
     },
     "user_tz": -180
    },
    "id": "_4-Cj9gDZj7l",
    "outputId": "fa0d09f8-03bc-4134-a081-e17b408153b5"
   },
   "outputs": [],
   "source": [
    "# Повторение числа 10 пять раз в массиве\n",
    "print(\"Повторение числа 10 пять раз в массиве:\\n\", np.repeat(10,5))\n",
    "\n",
    "# Повторение каждого элемента в массиве 'a' три раза\n",
    "a= np.array([10,20,30])\n",
    "print(\"Повторение каждого элемента в массиве 'a' три раза:\\n\", np.repeat(a,3))\n",
    "\n",
    "# Создание массива из числа 10\n",
    "print(\"Массив из числа 10:\\n\", np.full(5,10))"
   ]
  },
  {
   "cell_type": "code",
   "execution_count": null,
   "metadata": {
    "colab": {
     "base_uri": "https://localhost:8080/"
    },
    "executionInfo": {
     "elapsed": 38,
     "status": "ok",
     "timestamp": 1698212662737,
     "user": {
      "displayName": "Sergey Korpachev",
      "userId": "09181340988160569540"
     },
     "user_tz": -180
    },
    "id": "L-xoyv14Zj7m",
    "outputId": "58b44601-b2b0-41b3-f462-9611b367170a"
   },
   "outputs": [],
   "source": [
    "# Создание массива нечетных чисел от 1 до 19\n",
    "ar1 = np.arange(1,20)\n",
    "print(\"Массив нечетных чисел:\\n\", ar1[ar1%2 ==1])\n",
    "\n",
    "# Создание массива четных чисел от 2 до 20\n",
    "ar1 = np.arange(1,20)\n",
    "print(\"Массив четных чисел:\\n\", ar1[ar1%2 == 0])\n",
    "\n",
    "# Генерация четырех равномерно распределенных чисел в диапазоне от 10 до 20\n",
    "print(\"Генерация четырех равномерно распределенных чисел в диапазоне от 10 до 20:\\n\", np.linspace(10,20,4))\n",
    "\n",
    "# Генерация одиннадцати равномерно распределенных чисел в диапазоне от 10 до 20\n",
    "print(\"Генерация одиннадцати равномерно распределенных чисел в диапазоне от 10 до 20:\\n\", np.linspace(10,20,11))"
   ]
  },
  {
   "cell_type": "code",
   "execution_count": null,
   "metadata": {
    "colab": {
     "base_uri": "https://localhost:8080/"
    },
    "executionInfo": {
     "elapsed": 33,
     "status": "ok",
     "timestamp": 1698212662737,
     "user": {
      "displayName": "Sergey Korpachev",
      "userId": "09181340988160569540"
     },
     "user_tz": -180
    },
    "id": "r1KdhI5cZj7n",
    "outputId": "047d74f9-02ec-4737-caba-4c462b4e00c9"
   },
   "outputs": [],
   "source": [
    "# Создание массива из четырех случайных значений\n",
    "print(\"Массив случайных значений:\\n\", np.random.random(4))\n",
    "\n",
    "# Генерация массива из пяти случайных целых чисел в диапазоне от 0 до 499\n",
    "print(\"Генерация массива из пяти случайных целых чисел в диапазоне от 0 до 499:\\n\", np.random.randint(0,500,5))\n",
    "\n",
    "# Генерация массива из десяти случайных целых чисел в диапазоне от 0 до 499\n",
    "print(\"Генерация массива из десяти случайных целых чисел в диапазоне от 0 до 499:\\n\", np.random.randint(0,500,10))"
   ]
  },
  {
   "cell_type": "code",
   "execution_count": null,
   "metadata": {
    "colab": {
     "base_uri": "https://localhost:8080/"
    },
    "executionInfo": {
     "elapsed": 28,
     "status": "ok",
     "timestamp": 1698212662738,
     "user": {
      "displayName": "Sergey Korpachev",
      "userId": "09181340988160569540"
     },
     "user_tz": -180
    },
    "id": "Wgxi2lyMZj7n",
    "outputId": "4b4e1893-c77b-487c-dd01-d837480cf0fe"
   },
   "outputs": [],
   "source": [
    "# С помощью random.seed можно генерировать один и тот же массив случайных чисел\n",
    "np.random.seed(0)\n",
    "print(\"Генерация массива случайных целых чисел от 0 до 99 с помощью random.seed:\\n\", np.random.randint(0,100,10))\n",
    "np.random.seed(0)\n",
    "print(\"Генерация массива случайных целых чисел от 0 до 99 с помощью random.seed:\\n\", np.random.randint(0,100,10))\n",
    "\n",
    "np.random.seed(1)\n",
    "print(\"Генерация массива случайных целых чисел от 0 до 99 с помощью random.seed:\\n\", np.random.randint(0,100,10))\n",
    "np.random.seed(1)\n",
    "print(\"Генерация массива случайных целых чисел от 0 до 99 с помощью random.seed:\\n\", np.random.randint(0,100,10))"
   ]
  },
  {
   "cell_type": "code",
   "execution_count": null,
   "metadata": {
    "colab": {
     "base_uri": "https://localhost:8080/"
    },
    "executionInfo": {
     "elapsed": 22,
     "status": "ok",
     "timestamp": 1698212662738,
     "user": {
      "displayName": "Sergey Korpachev",
      "userId": "09181340988160569540"
     },
     "user_tz": -180
    },
    "id": "25KymlPqZj7o",
    "outputId": "dd5dcc34-5157-4ee1-ecd7-357c70488066"
   },
   "outputs": [],
   "source": [
    "# Создание массива случайных чисел с плавающей запятой\n",
    "print(\"Генерация массива случайных чисел с плавающей запятой от 5 до 10 с помощью random.uniform:\\n\", np.random.uniform(5,10, size=(10)))\n",
    "\n",
    "# Нормальное распределение (среднее значение=0 и дисперсия=1)\n",
    "print(\"\\nНормальное распределение:\", np.random.randn(10))"
   ]
  },
  {
   "cell_type": "code",
   "execution_count": null,
   "metadata": {
    "colab": {
     "base_uri": "https://localhost:8080/"
    },
    "executionInfo": {
     "elapsed": 830,
     "status": "ok",
     "timestamp": 1698212663552,
     "user": {
      "displayName": "Sergey Korpachev",
      "userId": "09181340988160569540"
     },
     "user_tz": -180
    },
    "id": "GViIZv4gZj7o",
    "outputId": "1bfd6a2f-20ed-4a90-eb96-57957a229b41"
   },
   "outputs": [],
   "source": [
    "# Извлечение целой части\n",
    "print(\"Целая часть:\", np.floor(np.random.uniform(5,10, size=(10))))\n",
    "\n",
    "# Отбрасывание десятичной части\n",
    "print(\"\\nОтбрасывание десятичной части:\", np.trunc(np.random.uniform(5,10, size=(10))))\n",
    "\n",
    "# Преобразование массива с плавающей запятой в массив целых чисел\n",
    "print(\"\\nПреобразование массива:\", np.random.uniform(5,10, size=(10)).astype(int))"
   ]
  },
  {
   "cell_type": "markdown",
   "metadata": {
    "id": "CrUbPpvqZj7p"
   },
   "source": [
    " <a name='1.3'></a>\n",
    "## Операции на массивах"
   ]
  },
  {
   "cell_type": "code",
   "execution_count": null,
   "metadata": {
    "colab": {
     "base_uri": "https://localhost:8080/"
    },
    "executionInfo": {
     "elapsed": 100,
     "status": "ok",
     "timestamp": 1698212663553,
     "user": {
      "displayName": "Sergey Korpachev",
      "userId": "09181340988160569540"
     },
     "user_tz": -180
    },
    "id": "XQ9V38rVZj7p",
    "outputId": "30cbfbe9-41c1-406d-c461-9f835bb7dfe0"
   },
   "outputs": [],
   "source": [
    "# Перечисление элементов Numpy массивов\n",
    "print(\"\\nПеречисление элементов массива:\")\n",
    "for index, value in np.ndenumerate(np.random.randn(10)):\n",
    "    print(index, value)"
   ]
  },
  {
   "cell_type": "code",
   "execution_count": null,
   "metadata": {
    "colab": {
     "base_uri": "https://localhost:8080/"
    },
    "executionInfo": {
     "elapsed": 93,
     "status": "ok",
     "timestamp": 1698212663553,
     "user": {
      "displayName": "Sergey Korpachev",
      "userId": "09181340988160569540"
     },
     "user_tz": -180
    },
    "id": "F1_HLokPZj7q",
    "outputId": "26b4fd84-95bd-4533-b34b-9f3d82cd3cb2"
   },
   "outputs": [],
   "source": [
    "arr2 = np.arange(1,20)\n",
    "print(\"Массив arr2:\")\n",
    "print(arr2)\n",
    "\n",
    "# Сумма всех элементов в массиве\n",
    "print(\"Сумма всех элементов в массиве arr2:\")\n",
    "print(arr2.sum())\n",
    "\n",
    "# Кумулятивная сумма элементов массива\n",
    "print(\"Кумулятивная сумма элементов массива arr2:\")\n",
    "print(np.cumsum(arr2))"
   ]
  },
  {
   "cell_type": "code",
   "execution_count": null,
   "metadata": {
    "colab": {
     "base_uri": "https://localhost:8080/"
    },
    "executionInfo": {
     "elapsed": 86,
     "status": "ok",
     "timestamp": 1698212663553,
     "user": {
      "displayName": "Sergey Korpachev",
      "userId": "09181340988160569540"
     },
     "user_tz": -180
    },
    "id": "f0mCca-XZj7q",
    "outputId": "d0fdb040-955a-4d19-b3ec-b88a844c3efe"
   },
   "outputs": [],
   "source": [
    "# Поиск минимального числа в массиве\n",
    "print(\"Минимальное число в массиве arr2:\")\n",
    "print(arr2.min())\n",
    "\n",
    "# Поиск максимального числа в массиве\n",
    "print(\"Максимальное число в массиве arr2:\")\n",
    "print(arr2.max())\n",
    "\n",
    "# Поиск индекса минимального числа в массиве\n",
    "print(\"Индекс минимального числа в массиве arr2:\")\n",
    "print(arr2.argmin())\n",
    "\n",
    "# Поиск индекса максимального числа в массиве\n",
    "print(\"Индекс максимального числа в массиве arr2:\")\n",
    "print(arr2.argmax())"
   ]
  },
  {
   "cell_type": "code",
   "execution_count": null,
   "metadata": {
    "colab": {
     "base_uri": "https://localhost:8080/"
    },
    "executionInfo": {
     "elapsed": 80,
     "status": "ok",
     "timestamp": 1698212663553,
     "user": {
      "displayName": "Sergey Korpachev",
      "userId": "09181340988160569540"
     },
     "user_tz": -180
    },
    "id": "TEvONQcNZj7r",
    "outputId": "9d983ba6-6a58-4660-fc29-c50866049258"
   },
   "outputs": [],
   "source": [
    "# Поиск среднего значения всех чисел в массиве\n",
    "print(\"Среднее значение всех чисел в массиве arr2:\")\n",
    "print(arr2.mean())\n",
    "\n",
    "# Поиск медианы всех чисел в массиве arr2\n",
    "print(\"Медиана всех чисел в массиве arr2:\")\n",
    "print(np.median(arr2))\n",
    "\n",
    "# Дисперсия\n",
    "print(\"Дисперсия массива arr2:\")\n",
    "print(np.var(arr2))\n",
    "\n",
    "# Стандартное отклонение\n",
    "print(\"Стандартное отклонение массива arr2:\")\n",
    "print(np.std(arr2))\n",
    "\n",
    "# Рассчет процентилей\n",
    "print(\"70-й процентиль массива arr2:\")\n",
    "print(np.percentile(arr2,70))\n",
    "\n",
    "# Рассчет 10-го и 70-го процентилей\n",
    "print(\"10-й и 70-й процентили массива arr2:\")\n",
    "print(np.percentile(arr2,[10,70]))"
   ]
  },
  {
   "cell_type": "code",
   "execution_count": null,
   "metadata": {
    "colab": {
     "base_uri": "https://localhost:8080/"
    },
    "executionInfo": {
     "elapsed": 74,
     "status": "ok",
     "timestamp": 1698212663553,
     "user": {
      "displayName": "Sergey Korpachev",
      "userId": "09181340988160569540"
     },
     "user_tz": -180
    },
    "id": "-eWN2sj8Zj7r",
    "outputId": "62f46aaf-75ec-44f7-bb39-7660da5ecc2e"
   },
   "outputs": [],
   "source": [
    "A = np.array([[1,2,3,4] , [5,6,7,8] , [10 , 11 , 25 ,3] , [14,15,16,33]])\n",
    "print(A)\n",
    "# Сумма всех чисел в 2D массиве\n",
    "print(\"Сумма всех чисел в 2D массиве:\", A.sum())\n",
    "# Максимальное число в 2D массиве\n",
    "print(\"Максимальное число в 2D массиве:\", A.max())\n",
    "# Минимальное число в 2D массиве\n",
    "print(\"Минимальное число в 2D массиве:\", A.min())\n",
    "# Минимальное значение в столбцах\n",
    "print(\"Минимальное значение в столбцах:\", np.amin(A, axis=0))\n",
    "# Минимальное значение в строках\n",
    "print(\"Минимальное значение в строках:\", np.amin(A, axis=1))\n",
    "# Среднее значение всех чисел в 2D массиве\n",
    "print(\"Среднее значение всех чисел в 2D массиве:\", A.mean())\n",
    "# Среднее значение\n",
    "print(\"Среднее значение:\", np.mean(A))\n",
    "# Медиана\n",
    "print(\"Медиана:\", np.median(A))\n",
    "# 50-й процентиль = Медиана\n",
    "print(\"50-й процентиль = Медиана:\", np.percentile(A,50))\n",
    "# Дисперсия\n",
    "print(\"Дисперсия:\", np.var(A))\n",
    "# Стандартное отклонение\n",
    "print(\"Стандартное отклонение:\", np.std(A))\n",
    "# Расчет перцентилей\n",
    "print(\"75-й процентиль:\", np.percentile(A,75))\n",
    "# Расчет 10-го и 70-го процентилей\n",
    "print(\"25-й и 75-й процентили:\", np.percentile(A,[25,75]))\n",
    "# Перечисление элементов Numpy 2D массива\n",
    "print(\"Перечисление элементов Numpy 2D массива:\\n\")\n",
    "for index, value in np.ndenumerate(A):\n",
    "    print(index, value)"
   ]
  },
  {
   "cell_type": "markdown",
   "metadata": {
    "id": "_xTCgGUGZj7s"
   },
   "source": [
    "Операции с элементами массива"
   ]
  },
  {
   "cell_type": "code",
   "execution_count": null,
   "metadata": {
    "colab": {
     "base_uri": "https://localhost:8080/"
    },
    "executionInfo": {
     "elapsed": 69,
     "status": "ok",
     "timestamp": 1698212663554,
     "user": {
      "displayName": "Sergey Korpachev",
      "userId": "09181340988160569540"
     },
     "user_tz": -180
    },
    "id": "Hff6BFbMZj7s",
    "outputId": "299b8ef6-411d-4dae-9c34-be8446f31241"
   },
   "outputs": [],
   "source": [
    "# Чтение элементов массива\n",
    "a = np.array([9,5,1,3,6,2])\n",
    "# Получение первого элемента массива\n",
    "print(\"Получение первого элемента массива\", a[0])\n",
    "# Получение всех элементов массива, кроме первого\n",
    "print(\"Получение всех элементов массива, кроме первого\", a[1:])\n",
    "# Получение 2-го, 3-го и 4-го значения из массива\n",
    "print(\"Получение 2-го, 3-го и 4-го значения из массива\", a[1:4])\n",
    "# Получение последнего элемента массива\n",
    "print(\"Получение последнего элемента массива\", a[-1])\n",
    "# Получение 3-го с конца элемента массива\n",
    "print(\"Получение 3-го с конца элемента массива\", a[-3])\n",
    "# Получение среза массива от 3-го до последнего\n",
    "print(\"Получение среза массива от 3-го до последнего\", a[-3:-1])\n",
    "# Замена элементов в массиве\n",
    "ar = np.arange(1,20)\n",
    "# Замена четных чисел на 0\n",
    "rep1 = np.where(ar % 2 == 0, 0 , ar)\n",
    "print(\"Замена четных чисел на 0\", rep1)\n",
    "ar2 = np.array([10, 20 , 30 , 10 ,10 ,20, 20])\n",
    "# Замена числа 10 на 99\n",
    "rep2 = np.where(ar2 == 10, 99 , ar2)\n",
    "print(\"Замена числа 10 на 99\", rep2)\n",
    "p2 = np.arange(0,100,10)\n",
    "# Замена значений с индексом 0, 3, 5 на 33, 55, 99\n",
    "np.put(p2, [0, 3 , 5], [33, 55, 99])\n",
    "print(\"Замена значений с индексом 0, 3, 5 на 33, 55, 99\", p2)"
   ]
  },
  {
   "cell_type": "markdown",
   "metadata": {
    "id": "aiDoVKANZj7t"
   },
   "source": [
    "Работа с пропущенными значениями"
   ]
  },
  {
   "cell_type": "code",
   "execution_count": null,
   "metadata": {
    "colab": {
     "base_uri": "https://localhost:8080/"
    },
    "executionInfo": {
     "elapsed": 63,
     "status": "ok",
     "timestamp": 1698212663554,
     "user": {
      "displayName": "Sergey Korpachev",
      "userId": "09181340988160569540"
     },
     "user_tz": -180
    },
    "id": "CdqG60aQZj7t",
    "outputId": "05a1f0ba-381c-4cad-d3e8-cba0de526823"
   },
   "outputs": [],
   "source": [
    "# Пропущенные значения в массиве\n",
    "a = np.array([3 ,np.nan,9,5,7,np.nan,11,np.inf])\n",
    "print(\"Пропущенные значения в массиве\",a)\n",
    "\n",
    "# Поиск пропущенных значений и возврат их в виде булевого массива\n",
    "print(\"Поиск пропущенных значений и возврат их в виде булевого массива\",np.isnan(a))\n",
    "\n",
    "# Индекс пропущенных значений в массиве\n",
    "print(\"Индекс пропущенных значений в массиве\",np.where(np.isnan(a)))\n",
    "\n",
    "# Замена всех пропущенных значений на 100\n",
    "a[np.isnan(a)] = 100\n",
    "print(\"Замена всех пропущенных значений на 100\",a)\n",
    "\n",
    "# Проверка наличия NULL значений в массиве\n",
    "print(\"Проверка наличия NULL значений в массиве\\n\",np.isnan(a).any())\n",
    "\n",
    "# 2D массив\n",
    "\n",
    "A = np.array([[1,2,np.nan,4] , [np.nan,6,7,8] , [9 , np.nan , 11 ,12] , [13,14,15,16]])\n",
    "print(\"2D массив:\\n\", A)\n",
    "\n",
    "# Поиск пропущенных значений и возврат их в виде булевого массива\n",
    "print(\"Поиск пропущенных значений и возврат их в виде булевого массива\\n\",np.isnan(A))\n",
    "\n",
    "# Индекс пропущенных значений в массиве\n",
    "print(\"Индекс пропущенных значений в массиве\\n\", np.where(np.isnan(A)))"
   ]
  },
  {
   "cell_type": "markdown",
   "metadata": {
    "id": "Vo0aTaugZj7t"
   },
   "source": [
    "Объединение массивов"
   ]
  },
  {
   "cell_type": "code",
   "execution_count": null,
   "metadata": {
    "colab": {
     "base_uri": "https://localhost:8080/"
    },
    "executionInfo": {
     "elapsed": 56,
     "status": "ok",
     "timestamp": 1698212663554,
     "user": {
      "displayName": "Sergey Korpachev",
      "userId": "09181340988160569540"
     },
     "user_tz": -180
    },
    "id": "VPoDBatYZj7u",
    "outputId": "8718a7c6-b586-4f6b-b98b-ab533915176a"
   },
   "outputs": [],
   "source": [
    "# Создание массивов\n",
    "a = np.array([1,2,3])\n",
    "b = np.array([4,5,6])\n",
    "c = np.array([7,8,9])\n",
    "\n",
    "# Вертикальное объединение массивов\n",
    "vertical_stack = np.vstack((a,b,c))\n",
    "print(\"Вертикальное объединение массивов:\\n\", vertical_stack)\n",
    "\n",
    "# Горизонтальное объединение массивов\n",
    "horizontal_stack = np.hstack((a,b,c))\n",
    "print(\"Горизонтальное объединение массивов:\\n\", horizontal_stack)"
   ]
  },
  {
   "cell_type": "markdown",
   "metadata": {
    "id": "-woPo1TrZj7u"
   },
   "source": [
    "Общие элементы в массиве"
   ]
  },
  {
   "cell_type": "code",
   "execution_count": null,
   "metadata": {
    "colab": {
     "base_uri": "https://localhost:8080/"
    },
    "executionInfo": {
     "elapsed": 50,
     "status": "ok",
     "timestamp": 1698212663554,
     "user": {
      "displayName": "Sergey Korpachev",
      "userId": "09181340988160569540"
     },
     "user_tz": -180
    },
    "id": "sp6_laykZj7v",
    "outputId": "13520a48-ca4d-466a-bc0e-ce71fd17e2b2"
   },
   "outputs": [],
   "source": [
    "# Создаем два массива\n",
    "c1 = np.array([1,2,3,4,5,6])\n",
    "c2 = np.array([12,2,33,4,55,6])\n",
    "\n",
    "# Находим общие элементы между двумя массивами\n",
    "common_items = np.intersect1d(c1,c2)\n",
    "print(\"Общие элементы массивов:\", common_items)\n",
    "\n",
    "# Удаляем общие элементы из первого массива\n",
    "c1_without_common = np.setdiff1d(c1,c2)\n",
    "print(\"Первый массив без общих элементов:\", c1_without_common)"
   ]
  },
  {
   "cell_type": "markdown",
   "metadata": {
    "id": "oBAV68QaZj7w"
   },
   "source": [
    "Обработка элементов по условию"
   ]
  },
  {
   "cell_type": "code",
   "execution_count": null,
   "metadata": {
    "colab": {
     "base_uri": "https://localhost:8080/"
    },
    "executionInfo": {
     "elapsed": 44,
     "status": "ok",
     "timestamp": 1698212663554,
     "user": {
      "displayName": "Sergey Korpachev",
      "userId": "09181340988160569540"
     },
     "user_tz": -180
    },
    "id": "LNVElqt4Zj7w",
    "outputId": "c7488e2e-9f6d-455f-e5c1-33b5e84664fc"
   },
   "outputs": [],
   "source": [
    "# Пример использования функции np.where для работы с условиями\n",
    "a = np.array([1,2,3,6,8])\n",
    "b = np.array([10,2,30,60,8])\n",
    "\n",
    "# Ищем индексы элементов, где условие a == b выполнено\n",
    "print(\"Ищем индексы элементов, где условие a == b выполнено\\n\", np.where(a == b))\n",
    "\n",
    "# Выводим элементы массива а, где условие a == b выполнено\n",
    "print(\"Выводим элементы массива а, где условие a == b выполнено\\n\", a[np.where(a == b)])\n",
    "\n",
    "# Создаем массив a1 от 0 до 59 и выводим все элементы, где условие (a1 > 20) & (a1 < 35) выполнено\n",
    "a1 = np.arange(0,60)\n",
    "a1[np.where ((a1>20) & (a1<35))]\n",
    "print(\"Создаем массив a1 от 0 до 59 и выводим все элементы, где условие (a1 > 20) & (a1 < 35) выполнено\\n\", a1[np.where ((a1>20) & (a1<35))])\n",
    "\n",
    "# Создаем массив a1 от 0 до 59 и выводим все элементы, где условие ((a1 > 20) & (a1 < 35)) | (a1 % 10 ==0) выполнено\n",
    "a1 = np.arange(0,60)\n",
    "a1[np.where (((a1>20) & (a1<35)) | (a1 % 10 ==0))]\n",
    "print(\"Создаем массив a1 от 0 до 59 и выводим все элементы, где условие ((a1 > 20) & (a1 < 35)) | (a1 % 10 ==0) выполнено\\n\", a1[np.where (((a1>20) & (a1<35)) | (a1 % 10 ==0))])\n",
    "\n",
    "# Создаем массив a1 от 0 до 59 и выводим все элементы, где условие (a1 > 20) & (a1 < 35) выполнено с помощью функции np.logical_and\n",
    "a1[np.where(np.logical_and(a1>20, a1<35))]\n",
    "print(\"Создаем массив a1 от 0 до 59 и выводим все элементы, где условие (a1 > 20) & (a1 < 35) выполнено с помощью функции np.logical_and\\n\",\n",
    "     a1[np.where(np.logical_and(a1>20, a1<35))])\n",
    "\n",
    "# Проверка наличия элементов в массиве с помощью функции np.isin()\n",
    "a = np.array([10,20,30,40,50,60,70])\n",
    "print(\"Массив a: \", a)\n",
    "\n",
    "# Проверяем, есть ли числа 11 и 20 в массиве\n",
    "print(\"Есть ли числа 11 и 20 в массиве a: \", np.isin(a, [11,20]))\n",
    "\n",
    "# Выводим числа, которые совпали с 20\n",
    "print(\"Числа из массива a, которые совпали с 20: \", a[np.isin(a,20)])\n",
    "\n",
    "# Проверяем, есть ли число 33 в массиве\n",
    "print(\"Есть ли число 33 в массиве a: \", np.isin(a, 33))\n",
    "\n",
    "# Выводим число, которое совпало с 33 (если такое есть)\n",
    "print(\"Число из массива a, которое совпало с 33: \", a[np.isin(a, 33)])\n",
    "\n",
    "b = np.array([10,20,30,40,10,10,70,80,70,90])\n",
    "print(\"Массив b: \", b)\n",
    "\n",
    "# Проверяем, есть ли числа 10 и 70 в массиве\n",
    "print(\"Есть ли числа 10 и 70 в массиве b: \", np.isin(b, [10,70]))\n",
    "\n",
    "# Выводим индексы, где совпадение было найдено\n",
    "print(\"Индексы элементов из массива b, которые совпали с числами 10 и 70: \", np.where(np.isin(b, [10,70])))\n",
    "\n",
    "# Выводим значения, которые совпали с числами 10 и 70\n",
    "print(\"Значения из массива b, которые совпали с числами 10 и 70: \", b[np.where(np.isin(b, [10,70]))])\n",
    "\n",
    "# Альтернативный вариант вывода значений, которые совпали с числами 10 и 70\n",
    "print(\"Значения из массива b, которые совпали с числами 10 и 70 (альтернативный вариант): \", b[np.isin(b, [10,70])])"
   ]
  },
  {
   "cell_type": "markdown",
   "metadata": {
    "id": "RA8aUDehZj7x"
   },
   "source": [
    "Массив в обратном порядке и сортировка"
   ]
  },
  {
   "cell_type": "code",
   "execution_count": null,
   "metadata": {
    "colab": {
     "base_uri": "https://localhost:8080/"
    },
    "executionInfo": {
     "elapsed": 39,
     "status": "ok",
     "timestamp": 1698212663555,
     "user": {
      "displayName": "Sergey Korpachev",
      "userId": "09181340988160569540"
     },
     "user_tz": -180
    },
    "id": "l-B39RZaZj7y",
    "outputId": "73c4bf74-cd99-4b5c-9519-6011ff5855bc"
   },
   "outputs": [],
   "source": [
    "# Обратный порядок массива\n",
    "a4 = np.arange(0,30)\n",
    "print(\"Исходный массив:\", a4)\n",
    "# Обратный порядок массива\n",
    "print(\"Массив в обратном порядке:\", a4[::-1])\n",
    "# Обратный порядок массива\n",
    "print(\"Массив в обратном порядке:\", np.flip(a4))\n",
    "\n",
    "a3 = np.array([[1,2,3,4] , [5,6,7,8] , [9,10,11,12] , [13,14,15,16]])\n",
    "print(\"Исходный массив:\")\n",
    "print(a3)\n",
    "# Обратный порядок строк\n",
    "print(\"Массив со строками в обратном порядке:\")\n",
    "print(a3[::-1,])\n",
    "# Обратный порядок столбцов\n",
    "print(\"Массив со столбцами в обратном порядке:\")\n",
    "print(a3[:,::-1])\n",
    "# Обратный порядок строк и столбцов\n",
    "print(\"Массив со строками и столбцами в обратном порядке:\")\n",
    "print(a3[::-1,::-1])"
   ]
  },
  {
   "cell_type": "code",
   "execution_count": null,
   "metadata": {
    "colab": {
     "base_uri": "https://localhost:8080/"
    },
    "executionInfo": {
     "elapsed": 32,
     "status": "ok",
     "timestamp": 1698212663555,
     "user": {
      "displayName": "Sergey Korpachev",
      "userId": "09181340988160569540"
     },
     "user_tz": -180
    },
    "id": "FBuIYhF9Zj7z",
    "outputId": "b042db3e-2541-49fa-ac06-2d8188f20d22"
   },
   "outputs": [],
   "source": [
    "# Сортировка массива\n",
    "a = np.array([10,5,2,22,12,92,17,33])\n",
    "# Сортировка по возрастанию\n",
    "print(\"Массив в отсортированном порядке по возрастанию:\")\n",
    "print(np.sort(a))\n",
    "a3 = np.array([[3,2,8,1] , [70,50,10,67] , [45,25,75,15]])\n",
    "print(\"Исходный массив:\")\n",
    "print(a3)\n",
    "# Сортировка строк по возрастанию\n",
    "print(\"Массив со строками в отсортированном порядке по возрастанию:\")\n",
    "print(np.sort(a3))\n",
    "# Сортировка строк по возрастанию\n",
    "print(\"Массив со строками в отсортированном порядке по возрастанию:\")\n",
    "print(np.sort(a3,axis =1))\n",
    "# Сортировка столбцов по возрастанию\n",
    "print(\"Массив со столбцами в отсортированном порядке по возрастанию:\")\n",
    "print(np.sort(a3,axis =0))\n",
    "# Сортировка по убыванию\n",
    "b = np.sort(a)\n",
    "b = b[::-1]\n",
    "print(\"Массив в отсортированном порядке по убыванию:\")\n",
    "print(b)\n",
    "# Сортировка по убыванию\n",
    "c = np.sort(a)\n",
    "print(\"Массив в отсортированном порядке по убыванию:\")\n",
    "print(np.flip(c))\n",
    "# Сортировка по убыванию\n",
    "a[::-1].sort()\n",
    "print(\"Массив в отсортированном порядке по убыванию:\")\n",
    "print(a)"
   ]
  },
  {
   "cell_type": "markdown",
   "metadata": {
    "id": "B6Ajg1DYZj7z"
   },
   "source": [
    "Наибольшие и наименьшие значения в массиве"
   ]
  },
  {
   "cell_type": "code",
   "execution_count": null,
   "metadata": {
    "colab": {
     "base_uri": "https://localhost:8080/"
    },
    "executionInfo": {
     "elapsed": 26,
     "status": "ok",
     "timestamp": 1698212663555,
     "user": {
      "displayName": "Sergey Korpachev",
      "userId": "09181340988160569540"
     },
     "user_tz": -180
    },
    "id": "wyvybQZaZj70",
    "outputId": "c60185c4-9686-468a-8ee8-c4723db29dbf"
   },
   "outputs": [],
   "source": [
    "# # \"N\" наибольших и наименьших чисел в массиве\n",
    "p = np.arange(0,50)\n",
    "print(\"Массив p: \")\n",
    "print(p)\n",
    "np.random.shuffle(p)\n",
    "print(\"Массив p после перемешивания: \")\n",
    "print(p)\n",
    "\n",
    "# Вернуть \"n\" наибольших чисел в массиве\n",
    "n = 4\n",
    "print(\"n наибольших чисел в массиве p: \")\n",
    "print(p[np.argsort(p)[-n:]])\n",
    "print(p[np.argpartition(-p,n)[:n]])\n",
    "\n",
    "# Вернуть \"n\" наименьших чисел в массиве\n",
    "print(\"n наименьших чисел в массиве p: \")\n",
    "print(p[np.argsort(-p)[-n:]])\n",
    "print(p[np.argpartition(p,n)[:n]])"
   ]
  },
  {
   "cell_type": "markdown",
   "metadata": {
    "id": "ot98sp0dZj70"
   },
   "source": [
    "Сравнение массивов"
   ]
  },
  {
   "cell_type": "code",
   "execution_count": null,
   "metadata": {
    "colab": {
     "base_uri": "https://localhost:8080/"
    },
    "executionInfo": {
     "elapsed": 20,
     "status": "ok",
     "timestamp": 1698212663555,
     "user": {
      "displayName": "Sergey Korpachev",
      "userId": "09181340988160569540"
     },
     "user_tz": -180
    },
    "id": "GoYWoWd7Zj71",
    "outputId": "a1a11a07-dc26-46cc-c1c6-279a3e639ff7"
   },
   "outputs": [],
   "source": [
    "# # Повторяющиеся последовательности\n",
    "a5 = [10,20,30]\n",
    "print(\"Массив a5: \")\n",
    "print(a5)\n",
    "\n",
    "# Повторить весь массив дважды\n",
    "print(\"Массив a5, повторенный дважды: \")\n",
    "print(np.tile(a5, 2))\n",
    "\n",
    "# Повторить каждый элемент в массиве три раза\n",
    "print(\"Каждый элемент массива a5, повторенный три раза: \")\n",
    "print(np.repeat(a5, 3))\n",
    "\n",
    "\n",
    "# # Сравнение массивов\n",
    "d1 = np.arange(0,10)\n",
    "print(\"Массив d1: \")\n",
    "print(d1)\n",
    "\n",
    "d2 = np.arange(0,10)\n",
    "print(\"Массив d2: \")\n",
    "print(d2)\n",
    "\n",
    "d3 = np.arange(10,20)\n",
    "print(\"Массив d3: \")\n",
    "print(d3)\n",
    "\n",
    "d4 = d1[::-1]\n",
    "print(\"Массив d4: \")\n",
    "print(d4)\n",
    "\n",
    "# Сравнить массивы с помощью функции \"allclose\". Если эта функция возвращает True, то массивы равны\n",
    "res1 = np.allclose(d1,d2)\n",
    "print(\"Результат сравнения массивов d1 и d2: \")\n",
    "print(res1)\n",
    "\n",
    "# Сравнить массивы с помощью функции \"allclose\". Если эта функция возвращает False, то массивы не равны\n",
    "res2 = np.allclose(d1,d3)\n",
    "print(\"Результат сравнения массивов d1 и d3: \")\n",
    "print(res2)\n",
    "\n",
    "# Сравнить массивы с помощью функции \"allclose\"\n",
    "res3 = np.allclose(d1,d4)\n",
    "print(\"Результат сравнения массивов d1 и d4: \")\n",
    "print(res3)"
   ]
  },
  {
   "cell_type": "markdown",
   "metadata": {
    "id": "5zC4z3BiZj72"
   },
   "source": [
    "[К оглавлению](#toc)"
   ]
  },
  {
   "cell_type": "markdown",
   "metadata": {
    "id": "gs7bt7wQcUX8"
   },
   "source": [
    "<a name='1.4'></a>\n",
    "## Упражнение"
   ]
  },
  {
   "cell_type": "markdown",
   "metadata": {
    "id": "j3-9eH48cmsS"
   },
   "source": [
    "Дан массив NumPy. Найти в нём максимальный элемент и заменить его на число 999.\n",
    "\n",
    "Задача должна быть решена в NumPy синтаксисе, без циклов."
   ]
  },
  {
   "cell_type": "code",
   "execution_count": null,
   "metadata": {
    "colab": {
     "base_uri": "https://localhost:8080/"
    },
    "executionInfo": {
     "elapsed": 14,
     "status": "ok",
     "timestamp": 1698212663555,
     "user": {
      "displayName": "Sergey Korpachev",
      "userId": "09181340988160569540"
     },
     "user_tz": -180
    },
    "id": "cW_9mpn-cMN2",
    "outputId": "0f8a032f-cf15-45a2-d2b6-bdd9fdb8d1e6"
   },
   "outputs": [],
   "source": [
    "# Ваш код и комментарии\n",
    "\n",
    "arr = np.array([1, 2, 3, 4, 5, 6, 7, 8, 9, 10])"
   ]
  },
  {
   "cell_type": "markdown",
   "metadata": {
    "id": "XpiOlQ9SZj72"
   },
   "source": [
    "<a name='2'></a>\n",
    "#  Sympy"
   ]
  },
  {
   "cell_type": "markdown",
   "metadata": {
    "id": "3dx8F4HeZj73"
   },
   "source": [
    "<a name='2.1'></a>\n",
    "##  Описание\n",
    "\n",
    "SymPy - это библиотека для языка программирования Python, которая предоставляет инструменты для символьных вычислений:\n",
    "\n",
    "- Манипулирование математическими выражениями\n",
    "- Решение уравнений\n",
    "- Векторные вычисления\n",
    "- Физические задачи\n",
    "- Вычисления производных и интегралов\n",
    "- Задачи линейной алгебры\n",
    "\n",
    "Основным компонентом SymPy является объект Symbol, который представляет собой символическую переменную. Эти переменные могут использоваться для создания символьных выражений, таких как выражения вида x^2 + 2*x + 1, а также для решения уравнений и выполнения других математических операций.\n",
    "\n",
    "SymPy также предоставляет множество функций для работы с различными типами математических объектов, таких как полиномы, рациональные функции, тригонометрические функции и т.д. Библиотека также имеет множество инструментов для работы с графиками, в том числе инструменты для построения 2D и 3D графиков.\n",
    "\n",
    "SymPy является мощной библиотекой для символьных вычислений и часто используется в научных и инженерных приложениях, таких как математическое моделирование, физика, химия и многих других областях."
   ]
  },
  {
   "cell_type": "markdown",
   "metadata": {
    "id": "Yoih0WTJZj73"
   },
   "source": [
    "Операции с дробями"
   ]
  },
  {
   "cell_type": "code",
   "execution_count": null,
   "metadata": {
    "colab": {
     "base_uri": "https://localhost:8080/"
    },
    "executionInfo": {
     "elapsed": 444,
     "status": "ok",
     "timestamp": 1698212663992,
     "user": {
      "displayName": "Sergey Korpachev",
      "userId": "09181340988160569540"
     },
     "user_tz": -180
    },
    "id": "hcE6aAhRZj73",
    "outputId": "2ccfb057-4acc-4c11-89e3-d87e0f616df6"
   },
   "outputs": [],
   "source": [
    "import sympy as sp\n",
    "print(dir(sp))"
   ]
  },
  {
   "cell_type": "code",
   "execution_count": null,
   "metadata": {
    "colab": {
     "base_uri": "https://localhost:8080/"
    },
    "executionInfo": {
     "elapsed": 61,
     "status": "ok",
     "timestamp": 1698212663992,
     "user": {
      "displayName": "Sergey Korpachev",
      "userId": "09181340988160569540"
     },
     "user_tz": -180
    },
    "id": "a2kutTsuZj74",
    "outputId": "48f14b47-4f46-492f-ab8b-8e4d606750c9"
   },
   "outputs": [],
   "source": [
    "from sympy import Rational, pi\n",
    "\n",
    "# Создаем объект Rational с числителем 2 и знаменателем 7\n",
    "x = Rational(2, 7)\n",
    "\n",
    "# Выводим объект x\n",
    "print(\"Объект x: \")\n",
    "print(x)\n",
    "\n",
    "# Выполняем операции с объектом x\n",
    "y = x + x\n",
    "print(\"x + x: \")\n",
    "print(y)\n",
    "\n",
    "z = 2*x\n",
    "print(\"2*x: \")\n",
    "print(z)\n",
    "\n",
    "# Выводим результаты операций\n",
    "print(\"y = x + x: \")\n",
    "print(y)\n",
    "\n",
    "print(\"z = 2*x: \")\n",
    "print(z)\n",
    "\n",
    "# Выполняем преобразование объекта x в десятичную дробь\n",
    "decimal = float(x)\n",
    "print(\"Десятичная дробь: \")\n",
    "print(decimal)\n"
   ]
  },
  {
   "cell_type": "code",
   "execution_count": null,
   "metadata": {
    "colab": {
     "base_uri": "https://localhost:8080/",
     "height": 38
    },
    "executionInfo": {
     "elapsed": 52,
     "status": "ok",
     "timestamp": 1698212663992,
     "user": {
      "displayName": "Sergey Korpachev",
      "userId": "09181340988160569540"
     },
     "user_tz": -180
    },
    "id": "h88hb5MsZj74",
    "outputId": "03927371-d416-4bea-8592-d138ac1d8f30"
   },
   "outputs": [],
   "source": [
    "pi"
   ]
  },
  {
   "cell_type": "code",
   "execution_count": null,
   "metadata": {
    "colab": {
     "base_uri": "https://localhost:8080/",
     "height": 37
    },
    "executionInfo": {
     "elapsed": 50,
     "status": "ok",
     "timestamp": 1698212663992,
     "user": {
      "displayName": "Sergey Korpachev",
      "userId": "09181340988160569540"
     },
     "user_tz": -180
    },
    "id": "tpe3NIndZj74",
    "outputId": "23a0d480-3159-4c93-cb29-516ea5654566"
   },
   "outputs": [],
   "source": [
    "pi.evalf()"
   ]
  },
  {
   "cell_type": "markdown",
   "metadata": {
    "id": "_Lo2BugWZj75"
   },
   "source": [
    "Для примера использования библиотеки SymPy мы создадим несколько символов (переменных) x, y, z и t, после чего произведем с ними несколько операций:"
   ]
  },
  {
   "cell_type": "code",
   "execution_count": null,
   "metadata": {
    "colab": {
     "base_uri": "https://localhost:8080/"
    },
    "executionInfo": {
     "elapsed": 50,
     "status": "ok",
     "timestamp": 1698212663993,
     "user": {
      "displayName": "Sergey Korpachev",
      "userId": "09181340988160569540"
     },
     "user_tz": -180
    },
    "id": "LdA1luWrZj75",
    "outputId": "b5d04c88-3172-433b-fb4f-d65147a7063a"
   },
   "outputs": [],
   "source": [
    "from sympy import *\n",
    "\n",
    "# Создаем символы x, y, z, t\n",
    "x, y, z, t = symbols('x y z t')\n",
    "\n",
    "# Выполняем операции с символами\n",
    "a = x + y + z + t\n",
    "b = x * y * z * t\n",
    "c = (x + y) / (z + t)\n",
    "\n",
    "# Выводим результаты операций\n",
    "print(\"a = x + y + z + t: \")\n",
    "print(a)\n",
    "\n",
    "print(\"b = x * y * z * t: \")\n",
    "print(b)\n",
    "\n",
    "print(\"c = (x + y) / (z + t): \")\n",
    "print(c)"
   ]
  },
  {
   "cell_type": "code",
   "execution_count": null,
   "metadata": {
    "colab": {
     "base_uri": "https://localhost:8080/",
     "height": 38
    },
    "executionInfo": {
     "elapsed": 42,
     "status": "ok",
     "timestamp": 1698212663993,
     "user": {
      "displayName": "Sergey Korpachev",
      "userId": "09181340988160569540"
     },
     "user_tz": -180
    },
    "id": "yPFkpTR9Zj75",
    "outputId": "8ebf8d2e-d2c7-4327-8aed-3e10d72b6919"
   },
   "outputs": [],
   "source": [
    "factor( x**2-2*x-8 )"
   ]
  },
  {
   "cell_type": "code",
   "execution_count": null,
   "metadata": {
    "colab": {
     "base_uri": "https://localhost:8080/",
     "height": 38
    },
    "executionInfo": {
     "elapsed": 40,
     "status": "ok",
     "timestamp": 1698212663993,
     "user": {
      "displayName": "Sergey Korpachev",
      "userId": "09181340988160569540"
     },
     "user_tz": -180
    },
    "id": "kcRSqTpFZj76",
    "outputId": "2a7d35ae-3ffd-4925-e9fa-3df4dde4b360"
   },
   "outputs": [],
   "source": [
    "expand( (x-4)*(x+2) )"
   ]
  },
  {
   "cell_type": "code",
   "execution_count": null,
   "metadata": {
    "colab": {
     "base_uri": "https://localhost:8080/",
     "height": 38
    },
    "executionInfo": {
     "elapsed": 39,
     "status": "ok",
     "timestamp": 1698212663993,
     "user": {
      "displayName": "Sergey Korpachev",
      "userId": "09181340988160569540"
     },
     "user_tz": -180
    },
    "id": "NADTM8q0Zj76",
    "outputId": "efa02234-4b7f-4dec-d39a-44fa14df2325"
   },
   "outputs": [],
   "source": [
    "a, b = symbols('a b')\n",
    "# Выполняем сбор подобных в выражении x**2 + x*b + a*x + a*b по переменной x с помощью функции collect():\n",
    "collect(x**2 + x*b + a*x + a*b, x)"
   ]
  },
  {
   "cell_type": "code",
   "execution_count": null,
   "metadata": {
    "colab": {
     "base_uri": "https://localhost:8080/"
    },
    "executionInfo": {
     "elapsed": 39,
     "status": "ok",
     "timestamp": 1698212663994,
     "user": {
      "displayName": "Sergey Korpachev",
      "userId": "09181340988160569540"
     },
     "user_tz": -180
    },
    "id": "Ic9U6gRUZj76",
    "outputId": "7f56708c-4f5c-4609-f0e8-63f177c1f6e0"
   },
   "outputs": [],
   "source": [
    "solve( x**2 + 2*x - 8, x)"
   ]
  },
  {
   "cell_type": "markdown",
   "metadata": {
    "id": "RArJJIsPZj77"
   },
   "source": [
    "Рассмотрим пример вычисления производной сложной функции f(g(x)), где f(x) = x^2 и g(x) = sin(x):"
   ]
  },
  {
   "cell_type": "code",
   "execution_count": null,
   "metadata": {
    "colab": {
     "base_uri": "https://localhost:8080/"
    },
    "executionInfo": {
     "elapsed": 31,
     "status": "ok",
     "timestamp": 1698212663994,
     "user": {
      "displayName": "Sergey Korpachev",
      "userId": "09181340988160569540"
     },
     "user_tz": -180
    },
    "id": "4Llokt0IZj77",
    "outputId": "e9d10ea7-fcf1-4f1b-e9a2-32f524802826"
   },
   "outputs": [],
   "source": [
    "# Создаем символ x с помощью Symbol('x').\n",
    "x = Symbol('x')\n",
    "# Определяем функцию f(x) = x**2 и функцию g(x) = sin(x) как f = x**2 и g = sin(x).\n",
    "f = x**2\n",
    "# Составляем функцию f(g(x)) путем подстановки g(x) вместо x с помощью метода subs.\n",
    "g = sin(x)\n",
    "fg = f.subs(x, g)\n",
    "# Вычисляем производную df(g(x))/dx с помощью функции diff.\n",
    "dfg = diff(fg, x)\n",
    "# Выводим результаты с помощью функции print.\n",
    "print(\"f(g(x)) =\", fg)\n",
    "print(\"df(g(x))/dx =\", dfg)"
   ]
  },
  {
   "cell_type": "markdown",
   "metadata": {
    "id": "WTWiiNy8Zj78"
   },
   "source": [
    "[К оглавлению](#toc)"
   ]
  },
  {
   "cell_type": "markdown",
   "metadata": {
    "id": "8TbU6VXaeifX"
   },
   "source": [
    "<a name='2.2'></a>\n",
    "## Упражнение"
   ]
  },
  {
   "cell_type": "markdown",
   "metadata": {
    "id": "Ink6f0EBen33"
   },
   "source": [
    "Дан уравнение вида: $x^{2} + 14x + 45$. Найти корни данного квадратного уравнения средствами SymPy."
   ]
  },
  {
   "cell_type": "code",
   "execution_count": null,
   "metadata": {
    "colab": {
     "base_uri": "https://localhost:8080/"
    },
    "executionInfo": {
     "elapsed": 25,
     "status": "ok",
     "timestamp": 1698212663994,
     "user": {
      "displayName": "Sergey Korpachev",
      "userId": "09181340988160569540"
     },
     "user_tz": -180
    },
    "id": "mUA4BEGAerrl",
    "outputId": "8fde126c-9edb-4232-caed-90b01c37131f"
   },
   "outputs": [],
   "source": [
    "# Ваш код и комментарии\n"
   ]
  },
  {
   "cell_type": "markdown",
   "metadata": {
    "id": "Jh6_XA3NZj78"
   },
   "source": [
    " <a name='3'></a>\n",
    "#  Scipy"
   ]
  },
  {
   "cell_type": "markdown",
   "metadata": {
    "id": "qrFK9xxSZj78"
   },
   "source": [
    "<a name='3.1'></a>\n",
    "## Описание\n",
    "\n",
    "SciPy - это библиотека для языка программирования Python, которая предоставляет инструменты для выполнения научных и инженерных вычислений. Некоторые из задач, которые можно решить с помощью Scipy, включают в себя:\n",
    "\n",
    "- Оптимизация функций\n",
    "- Решение систем линейных уравнений\n",
    "- Нахождение собственных значений и собственных векторов матриц\n",
    "- Интерполяция данных\n",
    "- Работа с специальными функциями, такими как функции Бесселя, функции Эйри и др.\n",
    "- Решение обыкновенных дифференциальных уравнений\n",
    "- Анализ временных рядов\n",
    "- Работа с изображениями\n",
    "- Статистический анализ данных\n",
    "\n",
    "Основным компонентом SciPy является объект ndarray, который представляет собой многомерный массив элементов одного типа данных. Эти массивы используются для хранения и манипулирования данными, которые используются в научных и инженерных вычислениях. Они могут иметь разные размерности и формы, и могут быть использованы для выполнения быстрых математических операций на больших объемах данных.\n",
    "\n",
    "SciPy также предоставляет множество функций для работы с массивами, таких как сортировка, индексация, операции линейной алгебры, преобразования Фурье и т.д. Библиотека также имеет множество инструментов для анализа данных, включая инструменты для обработки изображений, обработки звука, статистического анализа и машинного обучения.\n",
    "\n",
    "SciPy является важной библиотекой для научных вычислений и инженерных приложений на Python, и часто используется в областях, таких как астрономия, физика, химия, биология, экономика и многих других. Она также интегрируется с другими библиотеками Python, такими как NumPy и matplotlib, для выполнения более сложных задач."
   ]
  },
  {
   "cell_type": "markdown",
   "metadata": {
    "id": "IGdOR5xQZj79"
   },
   "source": [
    "Оптимизация функций в библиотеке Scipy позволяет находить минимумы и максимумы функций, а также искать корни уравнений. Рассмотрим пример нахождения минимума функции:"
   ]
  },
  {
   "cell_type": "code",
   "execution_count": null,
   "metadata": {
    "colab": {
     "base_uri": "https://localhost:8080/"
    },
    "executionInfo": {
     "elapsed": 20,
     "status": "ok",
     "timestamp": 1698212663995,
     "user": {
      "displayName": "Sergey Korpachev",
      "userId": "09181340988160569540"
     },
     "user_tz": -180
    },
    "id": "fT7eYN4NZj79",
    "outputId": "eaa6a862-8442-4d78-a5aa-768229b2523f"
   },
   "outputs": [],
   "source": [
    "import scipy\n",
    "print(dir(scipy))"
   ]
  },
  {
   "cell_type": "code",
   "execution_count": null,
   "metadata": {
    "colab": {
     "base_uri": "https://localhost:8080/"
    },
    "executionInfo": {
     "elapsed": 684,
     "status": "ok",
     "timestamp": 1698212664664,
     "user": {
      "displayName": "Sergey Korpachev",
      "userId": "09181340988160569540"
     },
     "user_tz": -180
    },
    "id": "6TknKwScZj79",
    "outputId": "5c173725-4015-46f4-8ef1-3da8a4371b5d"
   },
   "outputs": [],
   "source": [
    "from scipy.optimize import minimize_scalar\n",
    "import numpy as np\n",
    "\n",
    "# Определяем функцию, которую будем минимизировать\n",
    "def f(x):\n",
    "    return x**2 + 3*np.sin(x)\n",
    "\n",
    "# Находим минимум функции\n",
    "res = minimize_scalar(f)\n",
    "\n",
    "# Выводим результаты\n",
    "print(\"Минимум функции:\", res.fun)\n",
    "print(\"Аргумент минимума:\", res.x)"
   ]
  },
  {
   "cell_type": "markdown",
   "metadata": {
    "id": "ttfUbg12Zj7-"
   },
   "source": [
    "Пример решения системы линейных уравнений с помощью модуля scipy можно рассмотреть на следующей системе:\n",
    "\n",
    "x + y + z = 6\n",
    "\n",
    "2y + 5z = -4\n",
    "\n",
    "2x + 5y - z = 27"
   ]
  },
  {
   "cell_type": "code",
   "execution_count": null,
   "metadata": {
    "colab": {
     "base_uri": "https://localhost:8080/"
    },
    "executionInfo": {
     "elapsed": 17,
     "status": "ok",
     "timestamp": 1698212664664,
     "user": {
      "displayName": "Sergey Korpachev",
      "userId": "09181340988160569540"
     },
     "user_tz": -180
    },
    "id": "RHmr4KR6Zj7-",
    "outputId": "30b9b560-034e-4877-8bdd-b392eb3aee54"
   },
   "outputs": [],
   "source": [
    "from scipy.linalg import solve\n",
    "import numpy as np\n",
    "\n",
    "# Матрица коэффициентов системы\n",
    "A = np.array([[1, 1, 1],\n",
    "              [0, 2, 5],\n",
    "              [2, 5, -1]])\n",
    "\n",
    "# Вектор значений\n",
    "b = np.array([6, -4, 27])\n",
    "\n",
    "# Решение системы\n",
    "x = solve(A, b)\n",
    "\n",
    "print(x) # [ 5.  3. -2.]"
   ]
  },
  {
   "cell_type": "markdown",
   "metadata": {
    "id": "UtF8yVYuZj7-"
   },
   "source": [
    "Пример нахождения собственных значений и собственных векторов"
   ]
  },
  {
   "cell_type": "code",
   "execution_count": null,
   "metadata": {
    "colab": {
     "base_uri": "https://localhost:8080/"
    },
    "executionInfo": {
     "elapsed": 10,
     "status": "ok",
     "timestamp": 1698212664664,
     "user": {
      "displayName": "Sergey Korpachev",
      "userId": "09181340988160569540"
     },
     "user_tz": -180
    },
    "id": "L6QFR3GKZj7-",
    "outputId": "a82ecabb-1a17-44f3-8174-951f83aa1ad3"
   },
   "outputs": [],
   "source": [
    "from scipy.linalg import eig\n",
    "\n",
    "# Создание матрицы\n",
    "A = np.array([[1, 2], [2, 1]])\n",
    "\n",
    "# Вычисление собственных значений и собственных векторов\n",
    "eigenvalues, eigenvectors = eig(A)\n",
    "\n",
    "# Вывод результатов\n",
    "print(\"Собственные значения:\")\n",
    "print(eigenvalues)\n",
    "\n",
    "print(\"Собственные векторы:\")\n",
    "print(eigenvectors)"
   ]
  },
  {
   "cell_type": "markdown",
   "metadata": {
    "id": "2kz5LvBbZj7_"
   },
   "source": [
    "Пример интерполяции данных:"
   ]
  },
  {
   "cell_type": "code",
   "execution_count": null,
   "metadata": {
    "colab": {
     "base_uri": "https://localhost:8080/",
     "height": 430
    },
    "executionInfo": {
     "elapsed": 519,
     "status": "ok",
     "timestamp": 1698212665179,
     "user": {
      "displayName": "Sergey Korpachev",
      "userId": "09181340988160569540"
     },
     "user_tz": -180
    },
    "id": "JA6DhyKlZj7_",
    "outputId": "10af1aea-4d14-40a1-c7d2-f63daa24c9cb"
   },
   "outputs": [],
   "source": [
    "from scipy.interpolate import interp1d\n",
    "import matplotlib.pyplot as plt\n",
    "\n",
    "# Задаем данные для интерполяции\n",
    "x = np.linspace(0, 10, num=11, endpoint=True)\n",
    "y = np.cos(-x**2/8.0)\n",
    "\n",
    "# Строим исходный график\n",
    "plt.figure()\n",
    "plt.plot(x, y, 'o', label='Data points')\n",
    "\n",
    "# Создаем интерполяционную функцию\n",
    "f = interp1d(x, y, kind='cubic')\n",
    "\n",
    "# Задаем более мелкую сетку для интерполяции\n",
    "xnew = np.linspace(0, 10, num=41, endpoint=True)\n",
    "\n",
    "# Вычисляем значения интерполяционной функции на новой сетке\n",
    "ynew = f(xnew)\n",
    "\n",
    "# Строим график интерполяционной функции\n",
    "plt.plot(xnew, ynew, '-', label='Cubic spline')\n",
    "\n",
    "# Добавляем легенду и отображаем график\n",
    "plt.legend(loc='best')\n",
    "plt.show()\n"
   ]
  },
  {
   "cell_type": "markdown",
   "metadata": {
    "id": "NebTRwgGZj7_"
   },
   "source": [
    "Решение обыкновенных дифференциальных уравнений"
   ]
  },
  {
   "cell_type": "code",
   "execution_count": null,
   "metadata": {
    "colab": {
     "base_uri": "https://localhost:8080/",
     "height": 449
    },
    "executionInfo": {
     "elapsed": 1032,
     "status": "ok",
     "timestamp": 1698212666206,
     "user": {
      "displayName": "Sergey Korpachev",
      "userId": "09181340988160569540"
     },
     "user_tz": -180
    },
    "id": "WWIebjPoZj7_",
    "outputId": "e2dea560-bcd5-4d37-e2f3-c82ed87dbda6"
   },
   "outputs": [],
   "source": [
    "# Импортируем функцию solve_ivp из scipy.integrate и модуль pyplot из matplotlib.\n",
    "from scipy.integrate import solve_ivp\n",
    "import matplotlib.pyplot as plt\n",
    "\n",
    "# Определяем правую часть дифференциального уравнения в функции func(t, y).\n",
    "def func(t, y):\n",
    "    return y * t\n",
    "\n",
    "# Задаем начальное значение y0 и интервал интегрирования t_span.\n",
    "y0 = [1]\n",
    "\n",
    "# Задаем интервал интегрирования\n",
    "t_span = [0, 5]\n",
    "\n",
    "# Решаем дифференциальное уравнение с помощью функции solve_ivp, передавая ей функцию правой части, начальное значение и интервал.\n",
    "sol = solve_ivp(func, t_span, y0)\n",
    "\n",
    "# Выводим результаты на график с помощью функций plot, xlabel, ylabel и legend из модуля pyplot.\n",
    "plt.plot(sol.t, sol.y[0], label='y(t)')\n",
    "plt.xlabel('t')\n",
    "plt.ylabel('y')\n",
    "plt.legend()\n",
    "plt.show()\n"
   ]
  },
  {
   "cell_type": "markdown",
   "metadata": {
    "id": "G1NDjNJ1gBh8"
   },
   "source": [
    "<a name='3.2'></a>\n",
    "## Упражнение"
   ]
  },
  {
   "cell_type": "markdown",
   "metadata": {
    "id": "S-4WWzb3gJ03"
   },
   "source": [
    "Дано два массива NumPy. Они образуют систему линейных уравнений вида:\n",
    "\n",
    "4x + 3y + 2z = 25\n",
    "\n",
    "-2x + 2y + 3z = -10\n",
    "\n",
    "3x - 5y + 2z = -4\n",
    "\n",
    "Решить данную систему уравнений средствами SciPy.\n",
    "\n",
    "Задача должна быть решена в SciPy синтаксисе, без циклов."
   ]
  },
  {
   "cell_type": "code",
   "execution_count": null,
   "metadata": {
    "colab": {
     "base_uri": "https://localhost:8080/"
    },
    "executionInfo": {
     "elapsed": 34,
     "status": "ok",
     "timestamp": 1698212666206,
     "user": {
      "displayName": "Sergey Korpachev",
      "userId": "09181340988160569540"
     },
     "user_tz": -180
    },
    "id": "xioWQbCQZj8A",
    "outputId": "5017ebc2-e29b-4725-f6eb-4e881c28985b"
   },
   "outputs": [],
   "source": [
    "# Ваш код и комментарии\n",
    "\n",
    "A = np.array([[4, 3, 2], [-2, 2, 3], [3, -5, 2]])\n",
    "B = np.array([25, -10, -4])"
   ]
  },
  {
   "cell_type": "code",
   "execution_count": null,
   "metadata": {
    "executionInfo": {
     "elapsed": 19,
     "status": "ok",
     "timestamp": 1698212666206,
     "user": {
      "displayName": "Sergey Korpachev",
      "userId": "09181340988160569540"
     },
     "user_tz": -180
    },
    "id": "QOjfqrOyhHLL"
   },
   "outputs": [],
   "source": []
  }
 ],
 "metadata": {
  "colab": {
   "provenance": []
  },
  "kernelspec": {
   "display_name": "Python 3",
   "language": "python",
   "name": "python3"
  },
  "language_info": {
   "codemirror_mode": {
    "name": "ipython",
    "version": 3
   },
   "file_extension": ".py",
   "mimetype": "text/x-python",
   "name": "python",
   "nbconvert_exporter": "python",
   "pygments_lexer": "ipython3",
   "version": "3.8.10"
  }
 },
 "nbformat": 4,
 "nbformat_minor": 1
}
