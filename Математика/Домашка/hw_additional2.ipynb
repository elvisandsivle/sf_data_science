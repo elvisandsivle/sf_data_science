{
 "cells": [
  {
   "cell_type": "markdown",
   "metadata": {
    "id": "vBp_z_fuARYs"
   },
   "source": [
    "# **Дополнительное домашнее задание. Логистическая регрессия и решающие деревья**"
   ]
  },
  {
   "cell_type": "markdown",
   "metadata": {
    "id": "QJWpCwbaZtbf"
   },
   "source": [
    "Суммарно 10 баллов за всю работу. По 5 баллов в каждой части.\n",
    "\n",
    "Требуется выполнить следующие задания."
   ]
  },
  {
   "cell_type": "code",
   "execution_count": 1,
   "metadata": {
    "deletable": false,
    "editable": false,
    "id": "LAazO1JI_9Nb",
    "nbgrader": {
     "cell_type": "code",
     "checksum": "4a97adf18cbf7d9242167540ed264dc2",
     "grade": false,
     "grade_id": "cell-3a9d1fb3",
     "locked": true,
     "schema_version": 3,
     "solution": false,
     "task": false
    },
    "tags": []
   },
   "outputs": [],
   "source": [
    "import numpy as np\n",
    "import pandas as pd\n",
    "import matplotlib.pyplot as plt\n",
    "%matplotlib inline\n",
    "\n",
    "import random\n",
    "\n",
    "from __future__ import annotations"
   ]
  },
  {
   "cell_type": "markdown",
   "metadata": {
    "id": "xYmiOkCgOjeV"
   },
   "source": [
    "## **Часть 1. Логистическая регрессия (5 баллов)**"
   ]
  },
  {
   "cell_type": "markdown",
   "metadata": {
    "id": "zI5d1wcDOjeW"
   },
   "source": [
    "**Задание 1 (3 балла)**. Реализуйте логистическую регрессию, обучаемую с помощью двух видов градиенткого спуска:\n",
    "- полный (по всем данным) градиентный спуск\n",
    "\n",
    "- стохастический градиентный спуск\n",
    "\n",
    "Во всех пунктах необходимо соблюдать два условия:\n",
    "- Циклы можно использовать только для итераций градиентного спуска;\n",
    "- В качестве критерия останова необходимо использовать (одновременно):\n",
    "\n",
    "    - проверку на евклидову норму разности весов на двух соседних итерациях (например, меньше некоторого малого числа порядка 1e-6), задаваемого параметром `tolerance`;\n",
    "    - достижение максимального числа итераций (например, 10000), задаваемого параметром `max_iter`.\n",
    "\n",
    "Чтобы проследить, что оптимизационный процесс действительно сходится, добавьте атрибут класса `loss_history`. В нём после вызова метода `fit` должны содержаться значения функции потерь для всех итераций градиентного спуска, начиная с нулевой.\n",
    "\n",
    "Инициализировать веса можно случайным образом или нулевым вектором."
   ]
  },
  {
   "cell_type": "code",
   "execution_count": 2,
   "metadata": {
    "id": "qtjYaxHCahgu"
   },
   "outputs": [],
   "source": [
    "from sklearn.base import BaseEstimator\n",
    "\n",
    "from sklearn.metrics import precision_recall_curve, roc_auc_score, roc_curve, auc\n",
    "\n",
    "from sklearn.model_selection import KFold"
   ]
  },
  {
   "cell_type": "code",
   "execution_count": null,
   "metadata": {
    "id": "ReCAYLn6OjeX"
   },
   "outputs": [],
   "source": [
    "class MyLogisticRegression(BaseEstimator):\n",
    "    def __init__(self, gd_type: str = 'stochastic', tolerance: float = 1e-6,\n",
    "                 max_iter: int = 1000, eta: float = 1e-2,\n",
    "                 w0: np.array = None) -> None:\n",
    "        \"\"\"\n",
    "        Аргументы:\n",
    "          gd_type: Вид градиентного спуска ('full' или 'stochastic').\n",
    "\n",
    "          tolerance: Порог для остановки градиетного спуска.\n",
    "\n",
    "          max_iter: Максимальное количество шагов в градиентном спуске.\n",
    "\n",
    "          eta: Скорость обучения (learning rate).\n",
    "\n",
    "          w0: Массив размерности d (d — количество весов в оптимизации).\n",
    "              Начальные веса.\n",
    "        \"\"\"\n",
    "        self.gd_type = gd_type\n",
    "        self.tolerance = tolerance\n",
    "        self.max_iter = max_iter\n",
    "        self.eta = eta\n",
    "        self.w0 = w0\n",
    "        self.w = None\n",
    "        self.loss_history = None\n",
    "\n",
    "\n",
    "    def fit(self, X: np.array, y: np.array) -> MyLogisticRegression:\n",
    "        \"\"\"Обучаем модель на training данных. Сохраняйте значении функции потерь после каждой итерации.\n",
    "\n",
    "        Аргументы:\n",
    "          X: Данные на обучение.\n",
    "\n",
    "          y: Целевая переменная.\n",
    "\n",
    "        Возвращает:\n",
    "          self: Обученный регрессор.\n",
    "        \"\"\"\n",
    "        self.loss_history = []\n",
    "        # your code\n",
    "        self.w = np.zeros(X.shape[1])\n",
    "\n",
    "        for i in range(self.max_iter):\n",
    "          y_pred = 1/(1+np.exp(-X @ self.w))\n",
    "\n",
    "        m,n = X.shape\n",
    "        return self\n",
    "\n",
    "\n",
    "    def predict_proba(self, X: np.array) -> np.array:\n",
    "        \"\"\"Вычислите вероятности положительного и отрицательного классов для каждого наблюдения.\n",
    "\n",
    "        Аргументы:\n",
    "          X: Массив размером (n, d).\n",
    "             Данные.\n",
    "\n",
    "        Возвращает:\n",
    "             Массив размером (n, 2).\n",
    "             Предсказанные вероятности.\n",
    "        \"\"\"\n",
    "        if self.w is None:\n",
    "            raise Exception('Not trained yet')\n",
    "        # your code\n",
    "        return 1/(1+np.exp(-X @ self.w))\n",
    "        pass\n",
    "\n",
    "\n",
    "    def predict(self, X: np.array) -> np.array:\n",
    "        \"\"\"Предсказание метки класса для каждого наблюдения.\n",
    "\n",
    "        Аргументы:\n",
    "          X: Массив размером (n, d).\n",
    "             Данные.\n",
    "\n",
    "        Возвращает:\n",
    "             Массив размером (n,).\n",
    "             Предсказанные метки классов.\n",
    "        \"\"\"\n",
    "        if self.w is None:\n",
    "            raise Exception('Not trained yet')\n",
    "        # your code\n",
    "        return self.predict_proba(X).round()\n",
    "\n",
    "        pass\n",
    "\n",
    "\n",
    "    def calc_gradient(self, X: np.array, y: np.array) -> np.array:\n",
    "        \"\"\"Вычислите градиент функции потерь после каждой итерации.\n",
    "\n",
    "        Аргументы:\n",
    "          X: Массив размером (n, d), n может быть равно 1, если выбран 'stochastic'.\n",
    "          y: Массив размером (n,).\n",
    "\n",
    "        Возвращает:\n",
    "          Массив размером (d,).\n",
    "          Градиент функции потерь после текущей итерации.\n",
    "        \"\"\"\n",
    "        # your code\n",
    "        n = len(y)\n",
    "        for i in range(n):\n",
    "          grad = X.T @ (1/(1+np.exp(-X @ self.w)) - y)/n\n",
    "        return\n",
    "        pass\n",
    "\n",
    "\n",
    "    def calc_loss(self, X: np.array, y: np.array) -> float:\n",
    "        \"\"\"Вычислите значение функции потерь после каждой итерации.\n",
    "\n",
    "        Аргументы:\n",
    "          X: Массив размером (n, d).\n",
    "          y: Массив размером (n,).\n",
    "\n",
    "        Возвращает:\n",
    "          Значение функции потерь после текущей итерации.\n",
    "        \"\"\"\n",
    "        # your code\n",
    "        return -(y*np.log(y_pred) + (1-y)*np.log(1-y_pred)).sum()/n\n",
    "        pass"
   ]
  },
  {
   "cell_type": "code",
   "execution_count": 5,
   "metadata": {},
   "outputs": [],
   "source": [
    "from sklearn.linear_model import LogisticRegression, SGDRegressor\n",
    "from sklearn.metrics import mean_squared_error\n",
    "from sklearn.model_selection import train_test_split"
   ]
  },
  {
   "cell_type": "markdown",
   "metadata": {
    "id": "0EHJ_pqXOjeY"
   },
   "source": [
    "Далее предполагается, что вы используете собственную реализацию логистической регрессии.\n",
    "Если с написанием класса возникли проблемы, используйте реализацию sklearn, чтобы не терять баллы за остальные задания."
   ]
  },
  {
   "cell_type": "markdown",
   "metadata": {
    "id": "MhoFH4BfOjeZ"
   },
   "source": [
    "Сгенерируем искусственные данные."
   ]
  },
  {
   "cell_type": "code",
   "execution_count": 3,
   "metadata": {
    "id": "5dh6ImQQOjeZ"
   },
   "outputs": [],
   "source": [
    "from sklearn.datasets import make_classification\n",
    "from sklearn.model_selection import train_test_split\n",
    "\n",
    "X, y = make_classification(\n",
    "    n_samples=10000, n_features=10, n_informative=5, n_redundant=5,\n",
    "    random_state=999)\n",
    "\n",
    "X_train, X_test, y_train, y_test = train_test_split(\n",
    "    X, y, test_size=0.3, random_state=999)"
   ]
  },
  {
   "cell_type": "markdown",
   "metadata": {
    "id": "BJlB_E7nOjea"
   },
   "source": [
    "**Задание 2 (1 балл).** Обучите логистическую регрессию на искусственных данных. Нарисуйте изменение лосса во время обучения."
   ]
  },
  {
   "cell_type": "code",
   "execution_count": 11,
   "metadata": {
    "colab": {
     "base_uri": "https://localhost:8080/",
     "height": 492
    },
    "executionInfo": {
     "elapsed": 3230,
     "status": "ok",
     "timestamp": 1701087918304,
     "user": {
      "displayName": "Sergey Korpachev",
      "userId": "09181340988160569540"
     },
     "user_tz": -180
    },
    "id": "BH-yySQuOjeb",
    "outputId": "950779aa-29c2-4783-fa6d-ed194ccdf277"
   },
   "outputs": [
    {
     "data": {
      "text/html": [
       "<style>#sk-container-id-2 {color: black;}#sk-container-id-2 pre{padding: 0;}#sk-container-id-2 div.sk-toggleable {background-color: white;}#sk-container-id-2 label.sk-toggleable__label {cursor: pointer;display: block;width: 100%;margin-bottom: 0;padding: 0.3em;box-sizing: border-box;text-align: center;}#sk-container-id-2 label.sk-toggleable__label-arrow:before {content: \"▸\";float: left;margin-right: 0.25em;color: #696969;}#sk-container-id-2 label.sk-toggleable__label-arrow:hover:before {color: black;}#sk-container-id-2 div.sk-estimator:hover label.sk-toggleable__label-arrow:before {color: black;}#sk-container-id-2 div.sk-toggleable__content {max-height: 0;max-width: 0;overflow: hidden;text-align: left;background-color: #f0f8ff;}#sk-container-id-2 div.sk-toggleable__content pre {margin: 0.2em;color: black;border-radius: 0.25em;background-color: #f0f8ff;}#sk-container-id-2 input.sk-toggleable__control:checked~div.sk-toggleable__content {max-height: 200px;max-width: 100%;overflow: auto;}#sk-container-id-2 input.sk-toggleable__control:checked~label.sk-toggleable__label-arrow:before {content: \"▾\";}#sk-container-id-2 div.sk-estimator input.sk-toggleable__control:checked~label.sk-toggleable__label {background-color: #d4ebff;}#sk-container-id-2 div.sk-label input.sk-toggleable__control:checked~label.sk-toggleable__label {background-color: #d4ebff;}#sk-container-id-2 input.sk-hidden--visually {border: 0;clip: rect(1px 1px 1px 1px);clip: rect(1px, 1px, 1px, 1px);height: 1px;margin: -1px;overflow: hidden;padding: 0;position: absolute;width: 1px;}#sk-container-id-2 div.sk-estimator {font-family: monospace;background-color: #f0f8ff;border: 1px dotted black;border-radius: 0.25em;box-sizing: border-box;margin-bottom: 0.5em;}#sk-container-id-2 div.sk-estimator:hover {background-color: #d4ebff;}#sk-container-id-2 div.sk-parallel-item::after {content: \"\";width: 100%;border-bottom: 1px solid gray;flex-grow: 1;}#sk-container-id-2 div.sk-label:hover label.sk-toggleable__label {background-color: #d4ebff;}#sk-container-id-2 div.sk-serial::before {content: \"\";position: absolute;border-left: 1px solid gray;box-sizing: border-box;top: 0;bottom: 0;left: 50%;z-index: 0;}#sk-container-id-2 div.sk-serial {display: flex;flex-direction: column;align-items: center;background-color: white;padding-right: 0.2em;padding-left: 0.2em;position: relative;}#sk-container-id-2 div.sk-item {position: relative;z-index: 1;}#sk-container-id-2 div.sk-parallel {display: flex;align-items: stretch;justify-content: center;background-color: white;position: relative;}#sk-container-id-2 div.sk-item::before, #sk-container-id-2 div.sk-parallel-item::before {content: \"\";position: absolute;border-left: 1px solid gray;box-sizing: border-box;top: 0;bottom: 0;left: 50%;z-index: -1;}#sk-container-id-2 div.sk-parallel-item {display: flex;flex-direction: column;z-index: 1;position: relative;background-color: white;}#sk-container-id-2 div.sk-parallel-item:first-child::after {align-self: flex-end;width: 50%;}#sk-container-id-2 div.sk-parallel-item:last-child::after {align-self: flex-start;width: 50%;}#sk-container-id-2 div.sk-parallel-item:only-child::after {width: 0;}#sk-container-id-2 div.sk-dashed-wrapped {border: 1px dashed gray;margin: 0 0.4em 0.5em 0.4em;box-sizing: border-box;padding-bottom: 0.4em;background-color: white;}#sk-container-id-2 div.sk-label label {font-family: monospace;font-weight: bold;display: inline-block;line-height: 1.2em;}#sk-container-id-2 div.sk-label-container {text-align: center;}#sk-container-id-2 div.sk-container {/* jupyter's `normalize.less` sets `[hidden] { display: none; }` but bootstrap.min.css set `[hidden] { display: none !important; }` so we also need the `!important` here to be able to override the default hidden behavior on the sphinx rendered scikit-learn.org. See: https://github.com/scikit-learn/scikit-learn/issues/21755 */display: inline-block !important;position: relative;}#sk-container-id-2 div.sk-text-repr-fallback {display: none;}</style><div id=\"sk-container-id-2\" class=\"sk-top-container\"><div class=\"sk-text-repr-fallback\"><pre>LogisticRegression(random_state=42, solver=&#x27;liblinear&#x27;)</pre><b>In a Jupyter environment, please rerun this cell to show the HTML representation or trust the notebook. <br />On GitHub, the HTML representation is unable to render, please try loading this page with nbviewer.org.</b></div><div class=\"sk-container\" hidden><div class=\"sk-item\"><div class=\"sk-estimator sk-toggleable\"><input class=\"sk-toggleable__control sk-hidden--visually\" id=\"sk-estimator-id-2\" type=\"checkbox\" checked><label for=\"sk-estimator-id-2\" class=\"sk-toggleable__label sk-toggleable__label-arrow\">LogisticRegression</label><div class=\"sk-toggleable__content\"><pre>LogisticRegression(random_state=42, solver=&#x27;liblinear&#x27;)</pre></div></div></div></div></div>"
      ],
      "text/plain": [
       "LogisticRegression(random_state=42, solver='liblinear')"
      ]
     },
     "execution_count": 11,
     "metadata": {},
     "output_type": "execute_result"
    }
   ],
   "source": [
    "# your code\n",
    "model = LogisticRegression(random_state=42, solver='liblinear')\n",
    "model.fit(X_train, y_train)"
   ]
  },
  {
   "cell_type": "markdown",
   "metadata": {
    "id": "tuHbOvPlOjec"
   },
   "source": [
    "На тестовой части посчитайте ROC-AUC, PR-AUC. Постройте ROC и PR кривые."
   ]
  },
  {
   "cell_type": "code",
   "execution_count": 18,
   "metadata": {
    "colab": {
     "base_uri": "https://localhost:8080/",
     "height": 983
    },
    "executionInfo": {
     "elapsed": 402,
     "status": "ok",
     "timestamp": 1701087920330,
     "user": {
      "displayName": "Sergey Korpachev",
      "userId": "09181340988160569540"
     },
     "user_tz": -180
    },
    "id": "wN1zT9E-Ydc8",
    "outputId": "6cc2fdf0-860e-4ccc-85f9-230dfd40eace"
   },
   "outputs": [
    {
     "name": "stdout",
     "output_type": "stream",
     "text": [
      "ROC-AUC: 0.8586465089321274\n",
      "PR-AUC: 0.8222843946992366\n"
     ]
    },
    {
     "data": {
      "image/png": "[encoded data removed]",
      "text/plain": [
       "<Figure size 800x600 with 1 Axes>"
      ]
     },
     "metadata": {},
     "output_type": "display_data"
    }
   ],
   "source": [
    "# your code\n",
    "y_prob = model.predict_proba(X_test)[:, 1]\n",
    "\n",
    "fpr, tpr, thresholds = roc_curve(y_test, y_prob)\n",
    "roc_auc = roc_auc_score(y_test, y_prob)\n",
    "print(\"ROC-AUC:\", roc_auc)\n",
    "\n",
    "fpr_, tpr_, thresholds = precision_recall_curve(y_test, y_prob)\n",
    "pr_auc = auc(tpr_, fpr_)\n",
    "print(\"PR-AUC:\", pr_auc)\n",
    "\n",
    "plt.figure(figsize=(8, 6))\n",
    "plt.plot(fpr, tpr, color='darkorange', lw=2, label='ROC curve (area = %0.2f)' % roc_auc)\n",
    "plt.plot(fpr_, tpr_, color='red', lw=2, label='PR curve (area = %0.2f)' % pr_auc)\n",
    "\n",
    "plt.plot([0, 1], [0, 1], color='navy', lw=2, linestyle='--')\n",
    "plt.xlim([0.0, 1.0])\n",
    "plt.ylim([0.0, 1.05])\n",
    "plt.xlabel('False Positive Rate')\n",
    "plt.ylabel('True Positive Rate')\n",
    "plt.title('Receiver operating characteristic')\n",
    "plt.legend(loc=\"lower right\")\n",
    "plt.show()\n"
   ]
  },
  {
   "cell_type": "markdown",
   "metadata": {
    "id": "6aTPsxh6Ydc9"
   },
   "source": [
    "**Задание 3 (1 балл).** Оцените ошибку ROC-AUC и PR-AUC вашей модели при помощи K-fold кросс валидации.  "
   ]
  },
  {
   "cell_type": "code",
   "execution_count": null,
   "metadata": {
    "colab": {
     "base_uri": "https://localhost:8080/"
    },
    "executionInfo": {
     "elapsed": 13,
     "status": "ok",
     "timestamp": 1701087954042,
     "user": {
      "displayName": "Sergey Korpachev",
      "userId": "09181340988160569540"
     },
     "user_tz": -180
    },
    "id": "Xx8Zz3MeYdc-",
    "outputId": "fd6ce204-5f2c-45c2-c6bb-ff3da3a20eb9"
   },
   "outputs": [],
   "source": [
    "# your code"
   ]
  },
  {
   "cell_type": "markdown",
   "metadata": {
    "id": "ToLJecgbY44W"
   },
   "source": [
    "## **Часть 2. Решающие деревья (5 баллов)**"
   ]
  },
  {
   "cell_type": "markdown",
   "metadata": {
    "id": "9iAZwRjCeAQO"
   },
   "source": [
    "Здесь требуется реализовать разбиение элементов выборки в вершине дерева."
   ]
  },
  {
   "cell_type": "markdown",
   "metadata": {
    "id": "7zl0dnOpd3xX"
   },
   "source": [
    "$R_m$ - множество объектов в разбиваемой вершине, $j$ - номер признака, по которому происходит разбиение, $t$ - порог разбиения.\n",
    "\n",
    "Критерий ошибки:\n",
    "\n",
    "$$\n",
    "Q(R_m, j, t) = \\frac{|R_\\ell|}{|R_m|}H(R_\\ell) + \\frac{|R_r|}{|R_m|}H(R_r) \\to \\min_{j, t}\n",
    "$$\n",
    "\n",
    "$R_\\ell$ - множество объектов в левом поддереве, $R_r$ - множество объектов в правом поддереве.\n",
    "\n",
    "$H(R)$ - критерий информативности, с помощью которого можно оценить качество распределения целевой переменной среди объектов множества $R$."
   ]
  },
  {
   "cell_type": "code",
   "execution_count": 19,
   "metadata": {
    "id": "kHeOJOhD-TVX"
   },
   "outputs": [],
   "source": [
    "from typing import Iterable, List, Tuple"
   ]
  },
  {
   "cell_type": "markdown",
   "metadata": {
    "id": "xEeetsF8f39b"
   },
   "source": [
    "Так как Boston Dataset с недавних пор отсутствует в sklearn, то ниже реализован способ загрузки данного датасета из другого источника."
   ]
  },
  {
   "cell_type": "code",
   "execution_count": null,
   "metadata": {
    "id": "LvqFxfNwKLGG"
   },
   "outputs": [],
   "source": [
    "# `load_boston` has been removed from scikit-learn since version 1.2.\n",
    "\n",
    "#from sklearn.datasets import load_boston\n",
    "#boston = load_boston()"
   ]
  },
  {
   "cell_type": "code",
   "execution_count": null,
   "metadata": {
    "id": "D_kJdSOIKL2Z"
   },
   "outputs": [],
   "source": [
    "# !wget -i https://github.com/scikit-learn/scikit-learn/blob/main/sklearn/datasets/data/boston_house_prices.csv\n",
    "#data_git = pd.read_csv('boston_house_prices.csv', sep=\"\\s+\")"
   ]
  },
  {
   "cell_type": "markdown",
   "metadata": {
    "id": "b1KE7WIFKp51"
   },
   "source": [
    "**Data Set Characteristics:**  \n",
    "\n",
    "    :Number of Instances: 506\n",
    "\n",
    "    :Number of Attributes: 13 numeric/categorical predictive. Median Value (attribute 14) is usually the target.\n",
    "\n",
    "    :Attribute Information (in order):\n",
    "        - CRIM     per capita crime rate by town\n",
    "        - ZN       proportion of residential land zoned for lots over 25,000 sq.ft.\n",
    "        - INDUS    proportion of non-retail business acres per town\n",
    "        - CHAS     Charles River dummy variable (= 1 if tract bounds river; 0 otherwise)\n",
    "        - NOX      nitric oxides concentration (parts per 10 million)\n",
    "        - RM       average number of rooms per dwelling\n",
    "        - AGE      proportion of owner-occupied units built prior to 1940\n",
    "        - DIS      weighted distances to five Boston employment centres\n",
    "        - RAD      index of accessibility to radial highways\n",
    "        - TAX      full-value property-tax rate per $10,000\n",
    "        - PTRATIO  pupil-teacher ratio by town\n",
    "        - B        1000(Bk - 0.63)^2 where Bk is the proportion of blacks by town\n",
    "        - LSTAT    % lower status of the population\n",
    "        - MEDV     Median value of owner-occupied homes in $1000's\n",
    "\n",
    "    :Missing Attribute Values: None\n",
    "\n",
    "    :Creator: Harrison, D. and Rubinfeld, D.L.\n",
    "\n",
    "This is a copy of UCI ML housing dataset.\n",
    "https://archive.ics.uci.edu/ml/machine-learning-databases/housing/\n",
    "\n",
    "This dataset was taken from the StatLib library which is maintained at Carnegie Mellon University.\n",
    "\n",
    "The Boston house-price data of Harrison, D. and Rubinfeld, D.L. 'Hedonic\n",
    "prices and the demand for clean air', J. Environ. Economics & Management,\n",
    "vol.5, 81-102, 1978.   Used in Belsley, Kuh & Welsch, 'Regression diagnostics\n",
    "...', Wiley, 1980.   N.B. Various transformations are used in the table on\n",
    "pages 244-261 of the latter.\n",
    "\n",
    "The Boston house-price data has been used in many machine learning papers that address regression\n",
    "problems.   \n",
    "     \n",
    ".. topic:: References\n",
    "\n",
    "   - Belsley, Kuh & Welsch, 'Regression diagnostics: Identifying Influential Data and Sources of Collinearity', Wiley, 1980. 244-261.\n",
    "   - Quinlan,R. (1993). Combining Instance-Based and Model-Based Learning. In Proceedings on the Tenth International Conference of Machine Learning, 236-243, University of Massachusetts, Amherst. Morgan Kaufmann.\n",
    "\n"
   ]
  },
  {
   "cell_type": "code",
   "execution_count": 20,
   "metadata": {
    "id": "Qv8CemmpK2EU"
   },
   "outputs": [],
   "source": [
    "data_url = \"http://lib.stat.cmu.edu/datasets/boston\"\n",
    "raw_df = pd.read_csv(data_url, sep=\"\\s+\", skiprows=22, header=None)\n",
    "data = np.hstack([raw_df.values[::2, :], raw_df.values[1::2, :2]])\n",
    "target = raw_df.values[1::2, 2]"
   ]
  },
  {
   "cell_type": "code",
   "execution_count": 21,
   "metadata": {
    "id": "3KLql08wLMKy"
   },
   "outputs": [],
   "source": [
    "feature_names = ['CRIM', 'ZN', 'INDUS', 'CHAS', 'NOX', 'RM', 'AGE', 'DIS', 'RAD', 'TAX', 'PTRATIO', 'B', 'LSTAT']\n",
    "\n",
    "X = pd.DataFrame(data, columns=feature_names, index=range(len(data)))\n",
    "y = pd.DataFrame(target, columns=['MEDV'], index=range(len(target)))\n",
    "\n",
    "X['target'] = y"
   ]
  },
  {
   "cell_type": "code",
   "execution_count": 22,
   "metadata": {
    "id": "QMs9TfkuSme0"
   },
   "outputs": [],
   "source": [
    "X_train, X_test = train_test_split(X, test_size=0.25, random_state=999)"
   ]
  },
  {
   "cell_type": "markdown",
   "metadata": {
    "id": "hirWI1Vw4Fle"
   },
   "source": [
    "**Задание 1 (1 балл)**. Реализуйте подсчет критерия ошибки. Для этого реализуйте функции для подсчета значения критерия информативности, а также для разбиения вершины."
   ]
  },
  {
   "cell_type": "code",
   "execution_count": null,
   "metadata": {
    "id": "5bGstPZ14Flf"
   },
   "outputs": [],
   "source": [
    "def H(R: np.array) -> float:\n",
    "    \"\"\"\n",
    "    Вычислить критерий информативности (impurity criterion) для фиксированного набора объектов R.\n",
    "    Предполагается, что последний столбец содержить целевую переменную.\n",
    "    \"\"\"\n",
    "    # your code\n",
    "\n",
    "\n",
    "def split_node(R_m: np.array, feature: str, t: float) -> Iterable[np.array]:\n",
    "    \"\"\"\n",
    "    Разделить фиксированный набор объектов R_m с заданным признаком (номером признака) и пороговым значением t.\n",
    "    \"\"\"\n",
    "    # your code\n",
    "\n",
    "\n",
    "def q_error(R_m: np.array, feature: str, t: float) -> float:\n",
    "    \"\"\"\n",
    "    Вычислить критерий ошибки для заданных параметров разделения.\n",
    "    \"\"\"\n",
    "    # your code\n"
   ]
  },
  {
   "cell_type": "markdown",
   "metadata": {
    "id": "z5vMn7Yu4Flg"
   },
   "source": [
    "**Задание 2 (1 балл)**. Переберите все возможные разбиения обучающей выборки по одному из признаков и постройте график критерия ошибки в зависимости от значения порога."
   ]
  },
  {
   "cell_type": "code",
   "execution_count": null,
   "metadata": {
    "colab": {
     "base_uri": "https://localhost:8080/",
     "height": 492
    },
    "executionInfo": {
     "elapsed": 646,
     "status": "ok",
     "timestamp": 1701087955016,
     "user": {
      "displayName": "Sergey Korpachev",
      "userId": "09181340988160569540"
     },
     "user_tz": -180
    },
    "id": "73d0n-Ht4Flh",
    "outputId": "c1360900-3de4-4b23-a68b-c3e0a0a3baca"
   },
   "outputs": [],
   "source": [
    "# your code"
   ]
  },
  {
   "cell_type": "markdown",
   "metadata": {
    "id": "cdNVqLH24Flj"
   },
   "source": [
    "**Задание 3  (1 балл)**. Напишите функцию, находящую оптимальное разбиение данной вершины по данному признаку."
   ]
  },
  {
   "cell_type": "code",
   "execution_count": null,
   "metadata": {
    "id": "JnK6p2FU4Flk"
   },
   "outputs": [],
   "source": [
    "def get_optimal_split(R_m: np.array, feature: str) -> Tuple[float, List[float]]:\n",
    "    # your code"
   ]
  },
  {
   "cell_type": "markdown",
   "metadata": {
    "id": "WTwCYIgc4Fll"
   },
   "source": [
    "**Задание 4  (1 балл)**. Для первого разбиения найдите признак, показывающий наилучшее качество. Каков порог разбиения и значение качества? Постройте график критерия ошибки для данного признака в зависимости от значения порога."
   ]
  },
  {
   "cell_type": "code",
   "execution_count": null,
   "metadata": {
    "colab": {
     "base_uri": "https://localhost:8080/"
    },
    "executionInfo": {
     "elapsed": 2609,
     "status": "ok",
     "timestamp": 1701087958364,
     "user": {
      "displayName": "Sergey Korpachev",
      "userId": "09181340988160569540"
     },
     "user_tz": -180
    },
    "id": "GUl5daTc4Flo",
    "outputId": "9aea172f-3300-4571-9716-aa820c67bfc1"
   },
   "outputs": [],
   "source": [
    "# your code"
   ]
  },
  {
   "cell_type": "markdown",
   "metadata": {
    "id": "qaSseANG4Flq"
   },
   "source": [
    " **Задание 5 (1 балл)**. Изобразите разбиение визуально. Для этого постройте диаграмму рассеяния целевой переменной в зависимости от значения входного признака. Далее изобразите вертикальную линию, соответствующую порогу разбиения."
   ]
  },
  {
   "cell_type": "code",
   "execution_count": null,
   "metadata": {
    "colab": {
     "base_uri": "https://localhost:8080/",
     "height": 562
    },
    "executionInfo": {
     "elapsed": 603,
     "status": "ok",
     "timestamp": 1701087959571,
     "user": {
      "displayName": "Sergey Korpachev",
      "userId": "09181340988160569540"
     },
     "user_tz": -180
    },
    "id": "Cjw3cznv8Qn2",
    "outputId": "5741f5c8-c00e-4efc-ac6c-5a62fd3c5eda"
   },
   "outputs": [],
   "source": [
    "# your code"
   ]
  }
 ],
 "metadata": {
  "colab": {
   "provenance": []
  },
  "kernelspec": {
   "display_name": "Python 3",
   "language": "python",
   "name": "python3"
  },
  "language_info": {
   "codemirror_mode": {
    "name": "ipython",
    "version": 3
   },
   "file_extension": ".py",
   "mimetype": "text/x-python",
   "name": "python",
   "nbconvert_exporter": "python",
   "pygments_lexer": "ipython3",
   "version": "3.9.10"
  }
 },
 "nbformat": 4,
 "nbformat_minor": 1
}
