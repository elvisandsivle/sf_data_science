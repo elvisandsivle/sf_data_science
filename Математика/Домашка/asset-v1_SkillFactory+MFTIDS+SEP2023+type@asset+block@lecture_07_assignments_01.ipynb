{
 "cells": [
  {
   "cell_type": "markdown",
   "metadata": {},
   "source": [
    "# **Важно!** \n",
    "\n",
    "Домашнее задание состоит из нескольких задач, которые вам нужно решить.\n",
    "*   Баллы выставляются по принципу выполнено/невыполнено.\n",
    "*   За каждую выполненую задачу вы получаете баллы (количество баллов за задание указано в скобках).\n",
    "\n",
    "**Инструкция выполнения:** Выполните задания в этом же ноутбуке (места под решения **КАЖДОЙ** задачи обозначены как **#НАЧАЛО ВАШЕГО РЕШЕНИЯ** и **#КОНЕЦ ВАШЕГО РЕШЕНИЯ**)\n",
    "\n",
    "**Как отправить задание на проверку:** Вам необходимо сохранить ваше решение в данном блокноте и отправить итоговый **файл .IPYNB** на учебной платформе в **стандартную форму сдачи домашнего задания.**\n",
    "\n",
    "**Срок проверки преподавателем:** домашнее задание проверяется **в течение 3 дней после дедлайна сдачи** с предоставлением обратной связи\n",
    "\n",
    "# **Прежде чем проверять задания:**\n",
    "\n",
    "1. Перезапустите **ядро (restart the kernel)**: в меню, выбрать **Ядро (Kernel)**\n",
    "→ **Перезапустить (Restart)**\n",
    "2. Затем **Выполнить** **все ячейки (run all cells)**: в меню, выбрать **Ячейка (Cell)**\n",
    "→ **Запустить все (Run All)**.\n",
    "\n",
    "После ячеек с заданием следуют ячейки с проверкой **с помощью assert.**\n",
    "\n",
    "Если в коде есть ошибки, assert выведет уведомление об ошибке.\n",
    "\n",
    "Если в коде нет ошибок, assert отработает без вывода дополнительной информации."
   ]
  },
  {
   "cell_type": "markdown",
   "metadata": {},
   "source": [
    "---"
   ]
  },
  {
   "attachments": {},
   "cell_type": "markdown",
   "metadata": {},
   "source": [
    "# Домашнее задание №7. Обучение без учителя. Кластеризация. Снижение размерности данных.\n",
    "\n",
    "**Цели домашнего задания:** Применить на практике такие методы, как кластеризация и снижение размерности.\n",
    "\n",
    "# Условия домашней работы"
   ]
  },
  {
   "cell_type": "markdown",
   "metadata": {
    "deletable": false,
    "editable": false,
    "nbgrader": {
     "cell_type": "markdown",
     "checksum": "c3044c68f6aa6a2cc4d261275ceeeb90",
     "grade": false,
     "grade_id": "cell-c8b0af6ebda6c586",
     "locked": true,
     "schema_version": 3,
     "solution": false,
     "task": false
    }
   },
   "source": [
    "Библиотека scikit-learn (sklearn) предоставляет несколько встроенных наборов данных, которые можно использовать для тестирования алгоритмов кластеризации. Наиболее подходящие:\n",
    "\n",
    "1. `sklearn.datasets.make_blobs`: Этот набор данных генерирует синтетические кластеры в форме кругов, эллипсов или свободных облаков точек. Он полезен для тестирования алгоритмов кластеризации на наборах данных с явно различимыми кластерами.\n",
    "\n",
    "2. `sklearn.datasets.make_moons` и `sklearn.datasets.make_circles`: Эти наборы данных также генерируют синтетические кластеры, но в форме полумесяца и круга соответственно. Они полезны для тестирования алгоритмов, которые должны обнаруживать нелинейные связи между точками данных.\n",
    "\n",
    "3. `sklearn.datasets.load_iris`: Это классический набор данных ирисов Фишера. Он содержит измерения цветков ирисов в трех разных видах. Этот набор данных часто используется для тестирования алгоритмов кластеризации.\n",
    "\n",
    "4. `sklearn.datasets.load_digits`: Этот набор данных состоит из изображений рукописных цифр от 0 до 9. Он может быть полезным для тестирования алгоритмов кластеризации на задачах с изображениями.\n",
    "\n",
    "Для тестирования алгоритмов кластеризации вы будем использовать `sklearn.datasets.make_blobs`, `sklearn.datasets.make_moons` и `sklearn.datasets.make_circles`."
   ]
  },
  {
   "cell_type": "code",
   "execution_count": null,
   "metadata": {
    "deletable": false,
    "editable": false,
    "nbgrader": {
     "cell_type": "code",
     "checksum": "f0eec0cb38d0a82263d1adb4c9cb4cee",
     "grade": false,
     "grade_id": "cell-a3a0470231ab2bc8",
     "locked": true,
     "schema_version": 3,
     "solution": false,
     "task": false
    }
   },
   "outputs": [],
   "source": [
    "# Импорт необходимых библиотек\n",
    "import matplotlib.pyplot as plt\n",
    "from sklearn.datasets import make_blobs, make_moons, make_circles, load_iris, fetch_openml\n",
    "from sklearn.cluster import KMeans, DBSCAN, AgglomerativeClustering\n",
    "\n",
    "from sklearn.decomposition import PCA\n",
    "from sklearn.manifold import TSNE\n",
    "\n",
    "import warnings\n",
    "warnings.filterwarnings(\"ignore\")"
   ]
  },
  {
   "cell_type": "code",
   "execution_count": null,
   "metadata": {
    "deletable": false,
    "editable": false,
    "nbgrader": {
     "cell_type": "code",
     "checksum": "5ff6975d1b518236f2b1ca2b4d09e6e2",
     "grade": false,
     "grade_id": "cell-ee967bd36c165b8b",
     "locked": true,
     "schema_version": 3,
     "solution": false,
     "task": false
    }
   },
   "outputs": [],
   "source": [
    "# Загрузка необходимых датасетов (!!! может занять некоторое время)\n",
    "\n",
    "# Генерируем синтетические данные с помощью make_blobs\n",
    "X_blobs, y_blobs = make_blobs(n_samples=500, centers=4, random_state=42)\n",
    "\n",
    "# Генерируем синтетические данные с помощью make_moons\n",
    "X_moons, y_moons = make_moons(n_samples=200, noise=0.05, random_state=42)\n",
    "\n",
    "# Генерируем синтетические данные с помощью make_circles\n",
    "X_circles, y_circles = make_circles(n_samples=400, noise=0.05, factor=0.5, random_state=42)\n",
    "\n",
    "# Загружаем набор данных Iris\n",
    "iris = load_iris()\n",
    "X_iris = iris.data\n",
    "y_iris = iris.target\n",
    "\n",
    "# Загружаем набор данных MNIST\n",
    "mnist = fetch_openml('mnist_784', version=1)\n",
    "X_mnist = mnist.data\n",
    "y_mnist = mnist.target.astype(int)  # Преобразуем метки в целочисленный тип"
   ]
  },
  {
   "attachments": {},
   "cell_type": "markdown",
   "metadata": {
    "deletable": false,
    "editable": false,
    "nbgrader": {
     "cell_type": "markdown",
     "checksum": "a5e2d238dff462a864171ef2de10d7ca",
     "grade": false,
     "grade_id": "cell-ad0908409300e6db",
     "locked": true,
     "schema_version": 3,
     "solution": false,
     "task": false
    }
   },
   "source": [
    "## Часть 1. K-Means. (2 балла)"
   ]
  },
  {
   "attachments": {},
   "cell_type": "markdown",
   "metadata": {
    "deletable": false,
    "editable": false,
    "nbgrader": {
     "cell_type": "markdown",
     "checksum": "7a3387af0e85c98c8a43ebe3f6c10d15",
     "grade": false,
     "grade_id": "cell-37e8c91cbf0f0885",
     "locked": true,
     "schema_version": 3,
     "solution": false,
     "task": false
    }
   },
   "source": [
    "**Задание 1.1**\n",
    "Создайте экземпляр класса KMeans, передав в него значение для параметра n_clusters:\n",
    "n_clusters=4\n",
    "Сохранить в переменную kmeans_blobs\n",
    "Пример:\n",
    "kmeans_something = KMeans(par1=val1)\n",
    "В качестве эксперимента можете подставить другие значения в параметр n_clusters, формы кластеров изменятся."
   ]
  },
  {
   "cell_type": "code",
   "execution_count": null,
   "metadata": {
    "deletable": false,
    "nbgrader": {
     "cell_type": "code",
     "checksum": "6749769a5b7937213c95d7a1ecfab039",
     "grade": false,
     "grade_id": "cell-c37a4ea3f59325d2",
     "locked": false,
     "schema_version": 3,
     "solution": true,
     "task": false
    }
   },
   "outputs": [],
   "source": [
    "# НАЧАЛО ВАШЕГО РЕШЕНИЯ\n",
    "raise NotImplementedError() # удалить эту строку в процессе решения\n",
    "# КОНЕЦ ВАШЕГО РЕШЕНИЯ\n",
    "\n",
    "# Обучаем модель на данных\n",
    "kmeans_blobs.fit(X_blobs)\n",
    "\n",
    "# Получаем метки кластеров для каждого образца\n",
    "labels_kmeans_blobs = kmeans_blobs.labels_\n",
    "\n",
    "# Получаем координаты центроидов кластеров\n",
    "centroids_kmeans_blobs = kmeans_blobs.cluster_centers_\n",
    "\n",
    "# Визуализируем результаты\n",
    "plt.scatter(X_blobs[:, 0], X_blobs[:, 1], c=labels_kmeans_blobs, cmap='viridis')\n",
    "plt.scatter(centroids_kmeans_blobs[:, 0], centroids_kmeans_blobs[:, 1], marker='x', color='red')\n",
    "plt.title(\"K-means for blobs\")\n",
    "plt.xlabel(\"Feature 1\")\n",
    "plt.ylabel(\"Feature 2\")\n",
    "plt.show()"
   ]
  },
  {
   "attachments": {},
   "cell_type": "markdown",
   "metadata": {
    "deletable": false,
    "editable": false,
    "nbgrader": {
     "cell_type": "markdown",
     "checksum": "5da9d416e7d2fad0c5e567d90029049e",
     "grade": false,
     "grade_id": "cell-9721766611146866",
     "locked": true,
     "schema_version": 3,
     "solution": false,
     "task": false
    }
   },
   "source": [
    "**Задание 1.2**\n",
    "Создайте экземпляр класса KMeans, передав в него значение для параметра n_clusters:\n",
    "n_clusters=2\n",
    "Сохранить в переменную kmeans_moons\n",
    "Пример:\n",
    "kmeans_something = KMeans(par1=val1)"
   ]
  },
  {
   "cell_type": "code",
   "execution_count": null,
   "metadata": {
    "deletable": false,
    "nbgrader": {
     "cell_type": "code",
     "checksum": "aa6acde73fe3001941a6de466ed221b6",
     "grade": false,
     "grade_id": "cell-8b9bc5d2acf8b2dc",
     "locked": false,
     "schema_version": 3,
     "solution": true,
     "task": false
    }
   },
   "outputs": [],
   "source": [
    "# НАЧАЛО ВАШЕГО РЕШЕНИЯ\n",
    "raise NotImplementedError() # удалить эту строку в процессе решения\n",
    "# КОНЕЦ ВАШЕГО РЕШЕНИЯ\n",
    "\n",
    "# Обучаем модель на данных\n",
    "kmeans_moons.fit(X_moons)\n",
    "\n",
    "# Получаем метки кластеров для каждого образца\n",
    "labels_kmeans_moons = kmeans_moons.labels_\n",
    "\n",
    "# Визуализируем результаты\n",
    "plt.scatter(X_moons[:, 0], X_moons[:, 1], c=labels_kmeans_moons, cmap='viridis')\n",
    "plt.title(\"K-means for moons\")\n",
    "plt.xlabel(\"Feature 1\")\n",
    "plt.ylabel(\"Feature 2\")\n",
    "plt.show()\n",
    "\n",
    "\"\"\"Можно заметить, что на кластерах невыпуклой формы KMeans работает хуже.\"\"\""
   ]
  },
  {
   "attachments": {},
   "cell_type": "markdown",
   "metadata": {
    "deletable": false,
    "editable": false,
    "nbgrader": {
     "cell_type": "markdown",
     "checksum": "8d413af5badbf6b3a1d24a9c3d90b84a",
     "grade": false,
     "grade_id": "cell-1f18628fbe964d0d",
     "locked": true,
     "schema_version": 3,
     "solution": false,
     "task": false
    }
   },
   "source": [
    "**Задание 1.3**\n",
    "Создайте экземпляр класса KMeans, передав в него значение для параметра n_clusters:\n",
    "n_clusters=2\n",
    "Сохранить в переменную kmeans_circles\n",
    "Пример:\n",
    "kmeans_something = KMeans(par1=val1)"
   ]
  },
  {
   "cell_type": "code",
   "execution_count": null,
   "metadata": {
    "deletable": false,
    "nbgrader": {
     "cell_type": "code",
     "checksum": "40a97d5748b7a3556e48a31ccf915298",
     "grade": false,
     "grade_id": "cell-af18b912f33e5fae",
     "locked": false,
     "schema_version": 3,
     "solution": true,
     "task": false
    }
   },
   "outputs": [],
   "source": [
    "# НАЧАЛО ВАШЕГО РЕШЕНИЯ\n",
    "raise NotImplementedError() # удалить эту строку в процессе решения\n",
    "# КОНЕЦ ВАШЕГО РЕШЕНИЯ\n",
    "\n",
    "# Обучаем модель на данных\n",
    "kmeans_circles.fit(X_circles)\n",
    "\n",
    "# Получаем метки кластеров для каждого образца\n",
    "labels_kmeans_circles = kmeans_circles.labels_\n",
    "\n",
    "# Визуализируем результаты\n",
    "plt.scatter(X_circles[:, 0], X_circles[:, 1], c=labels_kmeans_circles, cmap='viridis')\n",
    "plt.title(\"K-means for circles\")\n",
    "plt.xlabel(\"Feature 1\")\n",
    "plt.ylabel(\"Feature 2\")\n",
    "plt.show()\n",
    "\n",
    "\"\"\"Аналогично, на вложенных кластерах KMeans работает хуже.\"\"\""
   ]
  },
  {
   "cell_type": "code",
   "execution_count": null,
   "metadata": {
    "deletable": false,
    "editable": false,
    "nbgrader": {
     "cell_type": "code",
     "checksum": "9cbf48e1967d280b597b5cb7dc1351e0",
     "grade": true,
     "grade_id": "cell-6cf8ded14f533d2a",
     "locked": true,
     "points": 2,
     "schema_version": 3,
     "solution": false,
     "task": false
    }
   },
   "outputs": [],
   "source": [
    "assert type(kmeans_blobs) == KMeans\n",
    "assert type(kmeans_moons) == KMeans\n",
    "assert type(kmeans_circles) == KMeans"
   ]
  },
  {
   "cell_type": "markdown",
   "metadata": {
    "deletable": false,
    "editable": false,
    "nbgrader": {
     "cell_type": "markdown",
     "checksum": "4a6beb64f49f93b5e63241cb20ee1b1e",
     "grade": false,
     "grade_id": "cell-3384d03c2cfdb6db",
     "locked": true,
     "schema_version": 3,
     "solution": false,
     "task": false
    }
   },
   "source": [
    "## Часть 2. DBSCAN  (2 балла)."
   ]
  },
  {
   "attachments": {},
   "cell_type": "markdown",
   "metadata": {
    "deletable": false,
    "editable": false,
    "nbgrader": {
     "cell_type": "markdown",
     "checksum": "99d0c77deefa9f31e667ae8c2ca05f8e",
     "grade": false,
     "grade_id": "cell-fb75a3f822a14a1d",
     "locked": true,
     "schema_version": 3,
     "solution": false,
     "task": false
    }
   },
   "source": [
    "**Задание 2.1**\n",
    "Создайте экземпляр класса DBSCAN, передав в него значение для параметров:\n",
    "eps=1, min_samples=5\n",
    "Сохранить в переменную dbscan_blobs\n",
    "Пример:\n",
    "dbscan_something = DBSCAN(par1=val1, par2=val2)"
   ]
  },
  {
   "cell_type": "code",
   "execution_count": null,
   "metadata": {
    "deletable": false,
    "nbgrader": {
     "cell_type": "code",
     "checksum": "0840376558e04800540b1156f8dbfd0e",
     "grade": false,
     "grade_id": "cell-aec659e5e3532ece",
     "locked": false,
     "schema_version": 3,
     "solution": true,
     "task": false
    }
   },
   "outputs": [],
   "source": [
    "\n",
    "\n",
    "# НАЧАЛО ВАШЕГО РЕШЕНИЯ\n",
    "raise NotImplementedError() # удалить эту строку в процессе решения\n",
    "# КОНЕЦ ВАШЕГО РЕШЕНИЯ\n",
    "\n",
    "# Обучаем модель на данных\n",
    "dbscan_blobs.fit(X_blobs)\n",
    "\n",
    "# Получаем метки кластеров для каждого образца\n",
    "labels_dbscan_blobs = dbscan_blobs.labels_\n",
    "\n",
    "# Визуализируем результаты\n",
    "plt.scatter(X_blobs[:, 0], X_blobs[:, 1], c=labels_dbscan_blobs, cmap='viridis')\n",
    "plt.title(\"DBSCAN for blobs\")\n",
    "plt.xlabel(\"Feature 1\")\n",
    "plt.ylabel(\"Feature 2\")\n",
    "plt.show()\n",
    "\n",
    "\"\"\"Можно заметить, что DBSCAN пометил некоторые точки как шумовые\"\"\""
   ]
  },
  {
   "attachments": {},
   "cell_type": "markdown",
   "metadata": {
    "deletable": false,
    "editable": false,
    "nbgrader": {
     "cell_type": "markdown",
     "checksum": "a710d473ed2c181a3feb42c5739d642a",
     "grade": false,
     "grade_id": "cell-2a1131a35cd4ae8e",
     "locked": true,
     "schema_version": 3,
     "solution": false,
     "task": false
    }
   },
   "source": [
    "**Задание 2.2**\n",
    "Создайте экземпляр класса DBSCAN, передав в него значение для параметров:\n",
    "eps=0.3, min_samples=5\n",
    "Сохранить в переменную dbscan_moons\n",
    "Пример:\n",
    "dbscan_something = DBSCAN(par1=val1, par2=val2)"
   ]
  },
  {
   "cell_type": "code",
   "execution_count": null,
   "metadata": {
    "deletable": false,
    "nbgrader": {
     "cell_type": "code",
     "checksum": "bc757feaa551f65ce2e2bc81d7b8e3ca",
     "grade": false,
     "grade_id": "cell-8aa1b941dafea8cc",
     "locked": false,
     "schema_version": 3,
     "solution": true,
     "task": false
    }
   },
   "outputs": [],
   "source": [
    "# НАЧАЛО ВАШЕГО РЕШЕНИЯ\n",
    "raise NotImplementedError() # удалить эту строку в процессе решения\n",
    "# КОНЕЦ ВАШЕГО РЕШЕНИЯ\n",
    "\n",
    "# Обучаем модель на данных\n",
    "dbscan_moons.fit(X_moons)\n",
    "\n",
    "# Получаем метки кластеров для каждого образца\n",
    "labels_dbscan_moons = dbscan_moons.labels_\n",
    "\n",
    "# Визуализируем результаты\n",
    "plt.scatter(X_moons[:, 0], X_moons[:, 1], c=labels_dbscan_moons, cmap='viridis')\n",
    "plt.title(\"DBSCAN for moons\")\n",
    "plt.xlabel(\"Feature 1\")\n",
    "plt.ylabel(\"Feature 2\")\n",
    "plt.show()\n",
    "\n",
    "\"\"\"Можно заметить, что DBSCAN лучше отрабатывает на сложных кластерах, чем K-Means\"\"\""
   ]
  },
  {
   "attachments": {},
   "cell_type": "markdown",
   "metadata": {
    "deletable": false,
    "editable": false,
    "nbgrader": {
     "cell_type": "markdown",
     "checksum": "a8e6d457efe00efdb2eefe5a45ea1b9f",
     "grade": false,
     "grade_id": "cell-ee525d496698bb8b",
     "locked": true,
     "schema_version": 3,
     "solution": false,
     "task": false
    }
   },
   "source": [
    "**Задание 2.3**\n",
    "Создайте экземпляр класса DBSCAN, передав в него значение для параметров:\n",
    "eps=0.2, min_samples=5\n",
    "Сохранить в переменную dbscan_circles\n",
    "Пример:\n",
    "dbscan_something = DBSCAN(par1=val1, par2=val2)"
   ]
  },
  {
   "cell_type": "code",
   "execution_count": null,
   "metadata": {
    "deletable": false,
    "nbgrader": {
     "cell_type": "code",
     "checksum": "63918f1324fa910b07adbff9336bc49f",
     "grade": false,
     "grade_id": "cell-e6cb5e0fb8dc7b41",
     "locked": false,
     "schema_version": 3,
     "solution": true,
     "task": false
    }
   },
   "outputs": [],
   "source": [
    "# НАЧАЛО ВАШЕГО РЕШЕНИЯ\n",
    "raise NotImplementedError() # удалить эту строку в процессе решения\n",
    "# КОНЕЦ ВАШЕГО РЕШЕНИЯ\n",
    "\n",
    "# Обучаем модель на данных\n",
    "dbscan_circles.fit(X_circles)\n",
    "\n",
    "# Получаем метки кластеров для каждого образца\n",
    "labels_dbscan_circles = dbscan_circles.labels_\n",
    "\n",
    "# Визуализируем результаты\n",
    "plt.scatter(X_circles[:, 0], X_circles[:, 1], c=labels_dbscan_circles, cmap='viridis')\n",
    "plt.title(\"DBSCAN for circles\")\n",
    "plt.xlabel(\"Feature 1\")\n",
    "plt.ylabel(\"Feature 2\")\n",
    "plt.show()\n",
    "\n",
    "\"\"\"Можно заметить, что DBSCAN хорошо отрабатывает на вложенных кластерах.\n",
    "Однако если передать параметр eps=0.1 или eps=0.5, качество кластеризации ухудшится\"\"\""
   ]
  },
  {
   "cell_type": "code",
   "execution_count": null,
   "metadata": {
    "deletable": false,
    "editable": false,
    "nbgrader": {
     "cell_type": "code",
     "checksum": "fd6b486a06c67f806fc84645d5efabb1",
     "grade": true,
     "grade_id": "cell-a6848488cf75d794",
     "locked": true,
     "points": 2,
     "schema_version": 3,
     "solution": false,
     "task": false
    }
   },
   "outputs": [],
   "source": [
    "assert type(dbscan_blobs) == DBSCAN\n",
    "assert type(dbscan_moons) == DBSCAN\n",
    "assert type(dbscan_circles) == DBSCAN"
   ]
  },
  {
   "cell_type": "markdown",
   "metadata": {
    "deletable": false,
    "editable": false,
    "nbgrader": {
     "cell_type": "markdown",
     "checksum": "8116096a94f0576d014867429818216e",
     "grade": false,
     "grade_id": "cell-43c48f0b507f7a9f",
     "locked": true,
     "schema_version": 3,
     "solution": false,
     "task": false
    }
   },
   "source": [
    "## Часть 3. Агломеративная кластеризация  (2 балла)."
   ]
  },
  {
   "attachments": {},
   "cell_type": "markdown",
   "metadata": {
    "deletable": false,
    "editable": false,
    "nbgrader": {
     "cell_type": "markdown",
     "checksum": "ba02e52754074f44446006283f9c1dc6",
     "grade": false,
     "grade_id": "cell-f30321eb536b8bd6",
     "locked": true,
     "schema_version": 3,
     "solution": false,
     "task": false
    }
   },
   "source": [
    "**Задание 3.1**\n",
    "Создайте экземпляр класса AgglomerativeClustering, передав в него значение для параметров:\n",
    "n_clusters=4\n",
    "Сохранить в переменную agglomerative_blobs\n",
    "Пример:\n",
    "agglomerative_something = AgglomerativeClustering(par1=val1)"
   ]
  },
  {
   "cell_type": "code",
   "execution_count": null,
   "metadata": {
    "deletable": false,
    "nbgrader": {
     "cell_type": "code",
     "checksum": "48ff06ed1bc87f930c60d79db92592fe",
     "grade": false,
     "grade_id": "cell-1799e2e5311385cb",
     "locked": false,
     "schema_version": 3,
     "solution": true,
     "task": false
    }
   },
   "outputs": [],
   "source": [
    "# НАЧАЛО ВАШЕГО РЕШЕНИЯ\n",
    "raise NotImplementedError() # удалить эту строку в процессе решения\n",
    "# КОНЕЦ ВАШЕГО РЕШЕНИЯ\n",
    "\n",
    "# Обучаем модель на данных\n",
    "agglomerative_blobs.fit(X_blobs)\n",
    "\n",
    "# Получаем метки кластеров для каждого образца\n",
    "labels_agglomerative_blobs = agglomerative_blobs.labels_\n",
    "\n",
    "# Визуализируем результаты\n",
    "plt.scatter(X_blobs[:, 0], X_blobs[:, 1], c=labels_agglomerative_blobs, cmap='viridis')\n",
    "plt.title(\"Agglomerative Clustering for blobs\")\n",
    "plt.xlabel(\"Feature 1\")\n",
    "plt.ylabel(\"Feature 2\")\n",
    "plt.show()\n"
   ]
  },
  {
   "attachments": {},
   "cell_type": "markdown",
   "metadata": {
    "deletable": false,
    "editable": false,
    "nbgrader": {
     "cell_type": "markdown",
     "checksum": "72c009742d9cb421967f7d65cc67ee33",
     "grade": false,
     "grade_id": "cell-9d2178f4813ec15e",
     "locked": true,
     "schema_version": 3,
     "solution": false,
     "task": false
    }
   },
   "source": [
    "**Задание 3.2**\n",
    "Создайте экземпляр класса AgglomerativeClustering, передав в него значение для параметров:\n",
    "n_clusters=2\n",
    "Сохранить в переменную agglomerative_moons\n",
    "Пример:\n",
    "agglomerative_something = AgglomerativeClustering(par1=val1)"
   ]
  },
  {
   "cell_type": "code",
   "execution_count": null,
   "metadata": {
    "deletable": false,
    "nbgrader": {
     "cell_type": "code",
     "checksum": "cfa574888dc67ab5a6df1c474304fcf4",
     "grade": false,
     "grade_id": "cell-b20f193e0a087615",
     "locked": false,
     "schema_version": 3,
     "solution": true,
     "task": false
    }
   },
   "outputs": [],
   "source": [
    "# НАЧАЛО ВАШЕГО РЕШЕНИЯ\n",
    "raise NotImplementedError() # удалить эту строку в процессе решения\n",
    "# КОНЕЦ ВАШЕГО РЕШЕНИЯ\n",
    "\n",
    "# Обучаем модель на данных\n",
    "agglomerative_moons.fit(X_moons)\n",
    "\n",
    "# Получаем метки кластеров для каждого образца\n",
    "labels_agglomerative_moons = agglomerative_moons.labels_\n",
    "\n",
    "# Визуализируем результаты\n",
    "plt.scatter(X_moons[:, 0], X_moons[:, 1], c=labels_agglomerative_moons, cmap='viridis')\n",
    "plt.title(\"Agglomerative Clustering for moons\")\n",
    "plt.xlabel(\"Feature 1\")\n",
    "plt.ylabel(\"Feature 2\")\n",
    "plt.show()\n",
    "\n",
    "\"\"\"Можно заметить, что AgglomerativeClustering хуже отрабатывает на сложных кластерах, чем DBSCAN\"\"\""
   ]
  },
  {
   "attachments": {},
   "cell_type": "markdown",
   "metadata": {
    "deletable": false,
    "editable": false,
    "nbgrader": {
     "cell_type": "markdown",
     "checksum": "96280e6309d6185aa00130b45bd47f28",
     "grade": false,
     "grade_id": "cell-a8524db10b1e0cd0",
     "locked": true,
     "schema_version": 3,
     "solution": false,
     "task": false
    }
   },
   "source": [
    "**Задание 3.3**\n",
    "Создайте экземпляр класса AgglomerativeClustering, передав в него значение для параметров:\n",
    "n_clusters=2\n",
    "Сохранить в переменную agglomerative_circles\n",
    "Пример:\n",
    "agglomerative_something = AgglomerativeClustering(par1=val1)"
   ]
  },
  {
   "cell_type": "code",
   "execution_count": null,
   "metadata": {
    "deletable": false,
    "nbgrader": {
     "cell_type": "code",
     "checksum": "85703ab341f8ed0bbd241053a1647ee2",
     "grade": false,
     "grade_id": "cell-c4bd1eb00b068fce",
     "locked": false,
     "schema_version": 3,
     "solution": true,
     "task": false
    }
   },
   "outputs": [],
   "source": [
    "# НАЧАЛО ВАШЕГО РЕШЕНИЯ\n",
    "raise NotImplementedError() # удалить эту строку в процессе решения\n",
    "# КОНЕЦ ВАШЕГО РЕШЕНИЯ\n",
    "\n",
    "# Обучаем модель на данных\n",
    "agglomerative_circles.fit(X_circles)\n",
    "\n",
    "# Получаем метки кластеров для каждого образца\n",
    "labels_agglomerative_circles = agglomerative_circles.labels_\n",
    "\n",
    "# Визуализируем результаты\n",
    "plt.scatter(X_circles[:, 0], X_circles[:, 1], c=labels_agglomerative_circles, cmap='viridis')\n",
    "plt.title(\"Agglomerative Clustering for circles\")\n",
    "plt.xlabel(\"Feature 1\")\n",
    "plt.ylabel(\"Feature 2\")\n",
    "plt.show()\n",
    "\n",
    "\"\"\"Можно заметить, что AgglomerativeClustering хуже отрабатывает на вложенных кластерах, чем DBSCAN\"\"\""
   ]
  },
  {
   "cell_type": "code",
   "execution_count": null,
   "metadata": {
    "deletable": false,
    "editable": false,
    "nbgrader": {
     "cell_type": "code",
     "checksum": "e55e030306cb07b00b67ca1e48f697d9",
     "grade": true,
     "grade_id": "cell-e87d9d094a4a1f76",
     "locked": true,
     "points": 2,
     "schema_version": 3,
     "solution": false,
     "task": false
    }
   },
   "outputs": [],
   "source": [
    "assert type(agglomerative_blobs) == AgglomerativeClustering\n",
    "assert type(agglomerative_moons) == AgglomerativeClustering\n",
    "assert type(agglomerative_circles) == AgglomerativeClustering"
   ]
  },
  {
   "cell_type": "markdown",
   "metadata": {
    "deletable": false,
    "editable": false,
    "nbgrader": {
     "cell_type": "markdown",
     "checksum": "102c3fc0339c5e9e25e263dc3142a21c",
     "grade": false,
     "grade_id": "cell-489356dba7e39595",
     "locked": true,
     "schema_version": 3,
     "solution": false,
     "task": false
    }
   },
   "source": [
    "## Часть 4. PCA  (2 балла)."
   ]
  },
  {
   "attachments": {},
   "cell_type": "markdown",
   "metadata": {
    "deletable": false,
    "editable": false,
    "nbgrader": {
     "cell_type": "markdown",
     "checksum": "520148dbb2b81ada42bdc7de7a5e6a1a",
     "grade": false,
     "grade_id": "cell-ef2b831c9d112fc2",
     "locked": true,
     "schema_version": 3,
     "solution": false,
     "task": false
    }
   },
   "source": [
    "**Задание 4.1**\n",
    "Создайте экземпляр класса PCA, передав в него значение для параметров:\n",
    "n_components=2\n",
    "Сохранить в переменную pca_iris\n",
    "Пример:\n",
    "pca_something = PCA(par1=val1)"
   ]
  },
  {
   "cell_type": "code",
   "execution_count": null,
   "metadata": {
    "deletable": false,
    "nbgrader": {
     "cell_type": "code",
     "checksum": "546a9c8d051a51de18adc3a0f85ebe8f",
     "grade": false,
     "grade_id": "cell-00cf25a797bff159",
     "locked": false,
     "schema_version": 3,
     "solution": true,
     "task": false
    }
   },
   "outputs": [],
   "source": [
    "# НАЧАЛО ВАШЕГО РЕШЕНИЯ\n",
    "raise NotImplementedError() # удалить эту строку в процессе решения\n",
    "# КОНЕЦ ВАШЕГО РЕШЕНИЯ\n",
    "\n",
    "X_iris_pca = pca_iris.fit_transform(X_iris)\n",
    "\n",
    "# Визуализируем результаты\n",
    "plt.scatter(X_iris_pca[:, 0], X_iris_pca[:, 1], c=y_iris, cmap='viridis')\n",
    "plt.title(\"PCA for Iris Dataset\")\n",
    "plt.xlabel(\"Principal Component 1\")\n",
    "plt.ylabel(\"Principal Component 2\")\n",
    "plt.show()"
   ]
  },
  {
   "attachments": {},
   "cell_type": "markdown",
   "metadata": {
    "deletable": false,
    "editable": false,
    "nbgrader": {
     "cell_type": "markdown",
     "checksum": "233cc7fd0d7e581b20a48eff401f092f",
     "grade": false,
     "grade_id": "cell-3d26c4e092fb6a5d",
     "locked": true,
     "schema_version": 3,
     "solution": false,
     "task": false
    }
   },
   "source": [
    "**Задание 4.2**\n",
    "Создайте экземпляр класса PCA, передав в него значение для параметров:\n",
    "n_components=2\n",
    "Сохранить в переменную pca_mnist\n",
    "Пример:\n",
    "pca_something = PCA(par1=val1)"
   ]
  },
  {
   "cell_type": "code",
   "execution_count": null,
   "metadata": {
    "deletable": false,
    "nbgrader": {
     "cell_type": "code",
     "checksum": "0e2e1c02908a0dc9b77991b8c5328b2a",
     "grade": false,
     "grade_id": "cell-a31d221e5f374b91",
     "locked": false,
     "schema_version": 3,
     "solution": true,
     "task": false
    }
   },
   "outputs": [],
   "source": [
    "# НАЧАЛО ВАШЕГО РЕШЕНИЯ\n",
    "raise NotImplementedError() # удалить эту строку в процессе решения\n",
    "# КОНЕЦ ВАШЕГО РЕШЕНИЯ\n",
    "\n",
    "X_mnist_pca = pca_mnist.fit_transform(X_mnist)\n",
    "\n",
    "# Визуализируем результаты\n",
    "plt.scatter(X_mnist_pca[:, 0], X_mnist_pca[:, 1], c=y_mnist, cmap='viridis')\n",
    "plt.title(\"PCA for MNIST Dataset\")\n",
    "plt.xlabel(\"Principal Component 1\")\n",
    "plt.ylabel(\"Principal Component 2\")\n",
    "plt.show()\n"
   ]
  },
  {
   "cell_type": "code",
   "execution_count": null,
   "metadata": {
    "deletable": false,
    "editable": false,
    "nbgrader": {
     "cell_type": "code",
     "checksum": "7d8f72219f30fba610a0e21de3d31f89",
     "grade": true,
     "grade_id": "cell-d28d28409c211c1d",
     "locked": true,
     "points": 2,
     "schema_version": 3,
     "solution": false,
     "task": false
    }
   },
   "outputs": [],
   "source": [
    "assert type(pca_iris) == PCA\n",
    "assert type(pca_mnist) == PCA"
   ]
  },
  {
   "cell_type": "markdown",
   "metadata": {
    "deletable": false,
    "editable": false,
    "nbgrader": {
     "cell_type": "markdown",
     "checksum": "330f3079c542a399f02701fcecc4ad26",
     "grade": false,
     "grade_id": "cell-7472434c702e31ab",
     "locked": true,
     "schema_version": 3,
     "solution": false,
     "task": false
    }
   },
   "source": [
    "## Часть 5. t-SNE  (2 балла)."
   ]
  },
  {
   "attachments": {},
   "cell_type": "markdown",
   "metadata": {
    "deletable": false,
    "editable": false,
    "nbgrader": {
     "cell_type": "markdown",
     "checksum": "dde78787d75a6c958a4569aa5d75b901",
     "grade": false,
     "grade_id": "cell-f1803f106af0725c",
     "locked": true,
     "schema_version": 3,
     "solution": false,
     "task": false
    }
   },
   "source": [
    "**Задание 5.1**\n",
    "Создайте экземпляр класса TSNE, передав в него значение для параметров:\n",
    "n_components=2\n",
    "Сохранить в переменную tsne_iris\n",
    "Пример:\n",
    "tsne_something = TSNE(par1=val1)"
   ]
  },
  {
   "cell_type": "code",
   "execution_count": null,
   "metadata": {
    "deletable": false,
    "nbgrader": {
     "cell_type": "code",
     "checksum": "d99dbd8052afdf46a0e2f1b30d18ad81",
     "grade": false,
     "grade_id": "cell-7ea32161a75815ee",
     "locked": false,
     "schema_version": 3,
     "solution": true,
     "task": false
    }
   },
   "outputs": [],
   "source": [
    "# НАЧАЛО ВАШЕГО РЕШЕНИЯ\n",
    "raise NotImplementedError() # удалить эту строку в процессе решения\n",
    "# КОНЕЦ ВАШЕГО РЕШЕНИЯ\n",
    "\n",
    "X_iris_tsne = tsne_iris.fit_transform(X_iris)\n",
    "\n",
    "# Визуализируем результаты\n",
    "plt.scatter(X_iris_tsne[:, 0], X_iris_tsne[:, 1], c=y_iris, cmap='viridis')\n",
    "plt.title(\"t-SNE for Iris Dataset\")\n",
    "plt.xlabel(\"t-SNE Component 1\")\n",
    "plt.ylabel(\"t-SNE Component 2\")\n",
    "plt.show()\n",
    "\n",
    "\"\"\"На небольших датасетах разница в качестве PCA и t-SNE не слишком заметна\"\"\""
   ]
  },
  {
   "attachments": {},
   "cell_type": "markdown",
   "metadata": {
    "deletable": false,
    "editable": false,
    "nbgrader": {
     "cell_type": "markdown",
     "checksum": "ac50452736c627b70bd75b0902af61db",
     "grade": false,
     "grade_id": "cell-c137abd734fbdcca",
     "locked": true,
     "schema_version": 3,
     "solution": false,
     "task": false
    }
   },
   "source": [
    "**Задание 5.2**\n",
    "Создайте экземпляр класса TSNE, передав в него значение для параметров:\n",
    "n_components=2\n",
    "Сохранить в переменную tsne_mnist\n",
    "Пример:\n",
    "tsne_something = TSNE(par1=val1)\n",
    "!!! Алгоритм может работать несколько минут"
   ]
  },
  {
   "cell_type": "code",
   "execution_count": null,
   "metadata": {
    "deletable": false,
    "nbgrader": {
     "cell_type": "code",
     "checksum": "24db4f87938e41e167972863f87e3acb",
     "grade": false,
     "grade_id": "cell-b9ce58f2e83b5647",
     "locked": false,
     "schema_version": 3,
     "solution": true,
     "task": false
    }
   },
   "outputs": [],
   "source": [
    "# НАЧАЛО ВАШЕГО РЕШЕНИЯ\n",
    "raise NotImplementedError() # удалить эту строку в процессе решения\n",
    "# КОНЕЦ ВАШЕГО РЕШЕНИЯ\n",
    "\n",
    "X_mnist_tsne = tsne_mnist.fit_transform(X_mnist)\n",
    "\n",
    "# Визуализируем результаты\n",
    "plt.scatter(X_mnist_tsne[:, 0], X_mnist_tsne[:, 1], c=y_mnist, cmap='viridis')\n",
    "plt.title(\"t-SNE for MNIST Dataset\")\n",
    "plt.xlabel(\"t-SNE Component 1\")\n",
    "plt.ylabel(\"t-SNE Component 2\")\n",
    "plt.show()\n",
    "\n",
    "\"\"\"На бОльших по размеру датасетах разница в качестве PCA и t-SNE заметна, но t-SNE работает значительно дольше.\"\"\""
   ]
  },
  {
   "cell_type": "code",
   "execution_count": null,
   "metadata": {
    "deletable": false,
    "editable": false,
    "nbgrader": {
     "cell_type": "code",
     "checksum": "b1a911ffb3f21fdb763a85bb87944fd3",
     "grade": true,
     "grade_id": "cell-9430a674f452db03",
     "locked": true,
     "points": 2,
     "schema_version": 3,
     "solution": false,
     "task": false
    }
   },
   "outputs": [],
   "source": [
    "assert type(tsne_iris) == TSNE\n",
    "assert type(tsne_mnist) == TSNE"
   ]
  }
 ],
 "metadata": {
  "kernelspec": {
   "display_name": "Python 3 (ipykernel)",
   "language": "python",
   "name": "python3"
  },
  "language_info": {
   "codemirror_mode": {
    "name": "ipython",
    "version": 3
   },
   "file_extension": ".py",
   "mimetype": "text/x-python",
   "name": "python",
   "nbconvert_exporter": "python",
   "pygments_lexer": "ipython3",
   "version": "3.11.4"
  }
 },
 "nbformat": 4,
 "nbformat_minor": 1
}
