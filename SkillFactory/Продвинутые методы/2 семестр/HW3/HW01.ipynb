{
 "cells": [
  {
   "cell_type": "markdown",
   "metadata": {},
   "source": [
    "## Домашнее задание №1"
   ]
  },
  {
   "cell_type": "code",
   "execution_count": 1,
   "metadata": {},
   "outputs": [],
   "source": [
    "import numpy as np\n",
    "import json\n",
    "import re"
   ]
  },
  {
   "cell_type": "markdown",
   "metadata": {},
   "source": [
    "### Задача № 1\n",
    "Импортируйте `torch` и сохраните его версию в переменную version"
   ]
  },
  {
   "cell_type": "code",
   "execution_count": 7,
   "metadata": {},
   "outputs": [],
   "source": [
    "# Import torch and save its version into the corresponding variable\n",
    "# your code here\n",
    "import torch\n",
    "version = torch.__version__\n",
    "# do not change the code in the block below\n",
    "# __________start of block__________\n",
    "assert version is not None, 'Please, save torch version'\n",
    "major_version, minor_version = re.findall(\"\\d+\\.\\d+\", version)[0].split('.')\n",
    "assert float(major_version) >= 2 or (float(major_version) >= 1 and float(minor_version) >= 7), 'Please, update PyTorch'\n",
    "# __________end of block__________"
   ]
  },
  {
   "cell_type": "markdown",
   "metadata": {},
   "source": [
    "Теперь импортируйте модуль `nn` и внутри функции `create_model` постройте нейронную сеть из трех линейных слоев, последовательно отображающих данные в промежуточные (скрытые) представления размерностей 256, 16 и 10. Не забывайте о свободном члене (bias).\n",
    "\n",
    "Исходные данные имеют размерность 784. В качестве функций активации используйте ReLU."
   ]
  },
  {
   "cell_type": "code",
   "execution_count": 9,
   "metadata": {},
   "outputs": [],
   "source": [
    "import torch.nn as nn\n",
    "import torch.nn.functional as F"
   ]
  },
  {
   "cell_type": "code",
   "execution_count": 14,
   "metadata": {},
   "outputs": [
    {
     "ename": "SyntaxError",
     "evalue": "named arguments must follow bare * (188344044.py, line 1)",
     "output_type": "error",
     "traceback": [
      "\u001b[1;36m  Cell \u001b[1;32mIn[14], line 1\u001b[1;36m\u001b[0m\n\u001b[1;33m    def create_model(*):\u001b[0m\n\u001b[1;37m                      ^\u001b[0m\n\u001b[1;31mSyntaxError\u001b[0m\u001b[1;31m:\u001b[0m named arguments must follow bare *\n"
     ]
    }
   ],
   "source": [
    "def create_model(*):\n",
    "    # Linear layer mapping from 784 features, so it should be 784->256->16->10\n",
    "    # your code here\n",
    "    import torch.nn as nn\n",
    "    import torch.nn.functional as F\n",
    "    self.fc1 = nn.Linear(28*28, 256)\n",
    "    self.fc2 = nn.Linear(16*16, 16)\n",
    "    self.fc3 = nn.Linear(16, 10)\n",
    " \n",
    "\n",
    "\n",
    "    # return model instance (None is just a placeholder)\n",
    "    return None\n",
    "    \n",
    "\n",
    "model = create_model(*)\n",
    "# do not change the code in the block below\n",
    "# __________start of block__________\n",
    "for param in model.parameters():\n",
    "    nn.init.constant_(param, 1.)\n",
    "    \n",
    "assert torch.allclose(model(torch.ones((1, 784))), torch.ones((1, 10)) * 3215377.), 'Check the network structure'\n",
    "\n",
    "# __________end of block__________"
   ]
  },
  {
   "cell_type": "markdown",
   "metadata": {},
   "source": [
    "Скопируйте функцию `create_model` в `submission_template` для последующей сдачи задания."
   ]
  },
  {
   "cell_type": "markdown",
   "metadata": {},
   "source": [
    "### Задача №2\n",
    "Реализуйте функцию для подсчета количества параметров в модели (вам может помочь `model.parameters()`).\n",
    "\n",
    "На вход она принимает модель, на выход возвращает одно число – количество параметров в модели. Для вашего удобства доступно несколько тестов ниже."
   ]
  },
  {
   "cell_type": "code",
   "execution_count": null,
   "metadata": {},
   "outputs": [],
   "source": [
    "def count_parameters(model):\n",
    "    # your code here\n",
    "    # return integer number (None is just a placeholder)\n",
    "    \n",
    "    return None\n",
    "\n",
    "\n",
    "# do not change the code in the block below\n",
    "# __________start of block__________\n",
    "small_model = nn.Linear(128, 256)\n",
    "assert count_parameters(small_model) == 128 * 256 + 256, 'Check the function'\n",
    "\n",
    "medium_model = nn.Sequential(*[nn.Linear(128, 32, bias=False), nn.ReLU(), nn.Linear(32, 10, bias=False)])\n",
    "assert count_parameters(medium_model) == 128 * 32 + 32 * 10, 'Check the function'\n",
    "print(\"Seems fine!\")\n",
    "# __________end of block__________"
   ]
  },
  {
   "cell_type": "markdown",
   "metadata": {},
   "source": [
    "Скопируйте функцию `count_parameters` в `submission_template01.py` для последующей сдачи задания.\n",
    "Отправьте `submission_template01.py` в Яндекс.Контест."
   ]
  },
  {
   "cell_type": "markdown",
   "metadata": {},
   "source": [
    "На этом первое домашнее задание завершено. Поздравляем!"
   ]
  }
 ],
 "metadata": {
  "kernelspec": {
   "display_name": "Python 3",
   "language": "python",
   "name": "python3"
  },
  "language_info": {
   "codemirror_mode": {
    "name": "ipython",
    "version": 3
   },
   "file_extension": ".py",
   "mimetype": "text/x-python",
   "name": "python",
   "nbconvert_exporter": "python",
   "pygments_lexer": "ipython3",
   "version": "3.9.10"
  }
 },
 "nbformat": 4,
 "nbformat_minor": 4
}
