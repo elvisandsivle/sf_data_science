{
 "cells": [
  {
   "cell_type": "code",
   "execution_count": 32,
   "metadata": {},
   "outputs": [],
   "source": [
    "import numpy as np\n",
    "import pandas as pd\n",
    "\n",
    "#Данные для обучения\n",
    "X = np.array([[1, 1, 1], [1, 2, 2], [2, 2, 3], [2, 3, 5]])\n",
    "\n",
    "#Значения функции\n",
    "y = np.array([9, 14, 18, 26])\n",
    "\n",
    "#Значение переменных для прогноза функции y_pred\n",
    "X_pred = np.array([[3, 5, 7]])"
   ]
  },
  {
   "cell_type": "code",
   "execution_count": 2,
   "metadata": {},
   "outputs": [],
   "source": [
    "from sklearn.linear_model import LinearRegression\n",
    "from sklearn.model_selection import train_test_split"
   ]
  },
  {
   "cell_type": "code",
   "execution_count": 30,
   "metadata": {},
   "outputs": [
    {
     "name": "stdout",
     "output_type": "stream",
     "text": [
      "[ 1.  2.  3. 37.]\n"
     ]
    }
   ],
   "source": [
    "#X_train, X_test, y_train, y_test = train_test_split(X, y)\n",
    "model = LinearRegression()\n",
    "model.fit(X, y)\n",
    "y_pred = model.predict(X_pred)\n",
    "answer = np.hstack((model.coef_,y_pred))\n",
    "print(answer)"
   ]
  },
  {
   "cell_type": "code",
   "execution_count": 38,
   "metadata": {},
   "outputs": [
    {
     "name": "stdout",
     "output_type": "stream",
     "text": [
      "<class 'pandas.core.frame.DataFrame'>\n",
      "RangeIndex: 103 entries, 0 to 102\n",
      "Data columns (total 4 columns):\n",
      " #   Column        Non-Null Count  Dtype  \n",
      "---  ------        --------------  -----  \n",
      " 0   AccelSec      103 non-null    float64\n",
      " 1   TopSpeed_KmH  103 non-null    int64  \n",
      " 2   Range_Km      103 non-null    int64  \n",
      " 3   PriceEuro     103 non-null    int64  \n",
      "dtypes: float64(1), int64(3)\n",
      "memory usage: 3.3 KB\n"
     ]
    }
   ],
   "source": [
    "df = pd.read_csv('data/Electric_Car.csv')\n",
    "df = df.loc[:, df.columns.intersection(['AccelSec', 'TopSpeed_KmH', 'Range_Km', 'PriceEuro'])]\n",
    "df.info()"
   ]
  },
  {
   "cell_type": "code",
   "execution_count": 51,
   "metadata": {},
   "outputs": [],
   "source": [
    "from sklearn.cluster import KMeans, AgglomerativeClustering, DBSCAN\n",
    "import matplotlib.pyplot as plt\n",
    "from sklearn.metrics import silhouette_score, calinski_harabasz_score, davies_bouldin_score\n",
    "\n",
    "\n"
   ]
  },
  {
   "cell_type": "code",
   "execution_count": 45,
   "metadata": {},
   "outputs": [],
   "source": [
    "X = df\n"
   ]
  },
  {
   "cell_type": "code",
   "execution_count": 49,
   "metadata": {},
   "outputs": [
    {
     "data": {
      "image/png": "[encoded data removed]",
      "text/plain": [
       "<Figure size 640x480 with 1 Axes>"
      ]
     },
     "metadata": {},
     "output_type": "display_data"
    }
   ],
   "source": [
    "# расчет методом локтя\n",
    "wcss = []\n",
    "for i in range(1, 11):\n",
    "    kmeans = KMeans(n_clusters=i, init='k-means++', max_iter=300, n_init=10, random_state=0)\n",
    "    kmeans.fit(X)\n",
    "    wcss.append(kmeans.inertia_)\n",
    "plt.plot(range(1, 11), wcss)\n",
    "plt.title('Метод локтя')\n",
    "plt.xlabel('Количество кластеров')\n",
    "plt.ylabel('WCSS')\n",
    "plt.show()"
   ]
  },
  {
   "cell_type": "code",
   "execution_count": 54,
   "metadata": {},
   "outputs": [
    {
     "name": "stderr",
     "output_type": "stream",
     "text": [
      "c:\\Users\\Наташа\\AppData\\Local\\Programs\\Python\\Python39\\lib\\site-packages\\sklearn\\cluster\\_kmeans.py:1416: FutureWarning: The default value of `n_init` will change from 10 to 'auto' in 1.4. Set the value of `n_init` explicitly to suppress the warning\n",
      "  super()._check_params_vs_input(X, default_n_init=10)\n"
     ]
    }
   ],
   "source": [
    "kmeans = KMeans(n_clusters=4, random_state=0).fit(X)\n",
    "kmeans_silhouette = silhouette_score(X, kmeans.labels_)\n",
    "kmeans_calinski_harabasz = calinski_harabasz_score(X, kmeans.labels_)\n",
    "kmeans_davies_bouldin = davies_bouldin_score(X, kmeans.labels_)\n"
   ]
  },
  {
   "cell_type": "code",
   "execution_count": 64,
   "metadata": {},
   "outputs": [
    {
     "data": {
      "text/plain": [
       "array([[9.12413793e+00, 1.53344828e+02, 2.74741379e+02, 3.51207069e+04],\n",
       "       [3.68888889e+00, 2.41222222e+02, 4.30555556e+02, 1.02007444e+05],\n",
       "       [5.73548387e+00, 1.95548387e+02, 3.99677419e+02, 6.29174516e+04],\n",
       "       [4.32000000e+00, 2.66000000e+02, 5.39000000e+02, 1.68616400e+05]])"
      ]
     },
     "execution_count": 64,
     "metadata": {},
     "output_type": "execute_result"
    }
   ],
   "source": [
    "kmeans.cluster_centers_"
   ]
  },
  {
   "cell_type": "code",
   "execution_count": 65,
   "metadata": {},
   "outputs": [
    {
     "data": {
      "text/plain": [
       "209833.221"
      ]
     },
     "execution_count": 65,
     "metadata": {},
     "output_type": "execute_result"
    }
   ],
   "source": [
    "kmeans.cluster_centers_\n",
    "round(np.linalg.norm(kmeans.cluster_centers_),3)"
   ]
  },
  {
   "cell_type": "code",
   "execution_count": 66,
   "metadata": {},
   "outputs": [],
   "source": [
    "import numpy as np\n",
    "from scipy.sparse.linalg import svds\n",
    "\n",
    "\n",
    "ratings = np.array([[3, 1, 0, 1],\n",
    "               \t[0, 3, 0, 1],\n",
    "               \t[1, 2, 0, 5],\n",
    "               \t[1, 0, 0, 2],\n",
    "               \t[0, 1, 3, 1]]).astype(float)"
   ]
  },
  {
   "cell_type": "code",
   "execution_count": 68,
   "metadata": {},
   "outputs": [],
   "source": [
    "U, S, Vt = svds(ratings, k=2)\n",
    "S_diag = np.diag(S)\n",
    "predicted_ratings = np.dot(np.dot(U, S_diag), Vt)\n"
   ]
  },
  {
   "cell_type": "code",
   "execution_count": 67,
   "metadata": {},
   "outputs": [],
   "source": [
    "import numpy as np\n",
    "\n",
    "image = np.array([[1, 2, 1, 1, 3],\n",
    "              \t  [0, 1, 2, 3, 4],\n",
    "              \t  [0, 0, 1, 2, 3],\n",
    "              \t  [3, 2, 1, 5, 0],\n",
    "              \t  [1, 2, 3, 1, 7]])\n",
    "\n",
    "filter = np.array([[1, 0, 1],\n",
    "               \t  [0, 1, 0],\n",
    "               \t  [1, 0, 1]])\n"
   ]
  },
  {
   "cell_type": "code",
   "execution_count": 69,
   "metadata": {},
   "outputs": [
    {
     "name": "stdout",
     "output_type": "stream",
     "text": [
      "[[ 4.  7. 11.]\n",
      " [ 6. 12.  9.]\n",
      " [ 7.  6. 19.]]\n"
     ]
    }
   ],
   "source": [
    "feature_map = np.zeros((3, 3))\n",
    "for i in range(3):\n",
    "    for j in range(3):\n",
    "        feature_map[i][j] = np.sum(image[i:i+3, j:j+3] * filter)\n",
    "print(feature_map)\n"
   ]
  }
 ],
 "metadata": {
  "kernelspec": {
   "display_name": "Python 3",
   "language": "python",
   "name": "python3"
  },
  "language_info": {
   "codemirror_mode": {
    "name": "ipython",
    "version": 3
   },
   "file_extension": ".py",
   "mimetype": "text/x-python",
   "name": "python",
   "nbconvert_exporter": "python",
   "pygments_lexer": "ipython3",
   "version": "3.9.10"
  }
 },
 "nbformat": 4,
 "nbformat_minor": 2
}
