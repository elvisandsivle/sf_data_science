{
 "cells": [
  {
   "cell_type": "code",
   "execution_count": null,
   "metadata": {},
   "outputs": [],
   "source": [
    "import numpy as np\n",
    "import pandas as pd\n",
    "\n",
    "df = pd.DataFrame(np.nan, index=[0, 1, 2, 3], columns=['I', 'II', 'III'])\n",
    "df.loc[0,\"I\"] = 1\n",
    "df.loc[1,\"I\"] = 2\n",
    "df.loc[2,\"I\"] = 3\n",
    "df.loc[3,\"I\"] = 4\n",
    "df.loc[0,\"II\"] = 5\n",
    "df.loc[1,\"II\"] = 6\n",
    "df.loc[2,\"III\"] = 7\n",
    "df.loc[3,\"III\"] = 6\n",
    "\n",
    "df.index = ['1','2','3','4']\n",
    "df.columns = ['A','B','C']\n",
    "df.fillna(55, inplace = True)\n",
    "\n",
    "display(df)"
   ]
  },
  {
   "cell_type": "code",
   "execution_count": null,
   "metadata": {},
   "outputs": [],
   "source": [
    "import pandas as pd\n",
    "import numpy as np\n",
    "\n",
    "fruit = np.array([\"lemons\", \"lemons\", \"lemons\", \"lemons\",\n",
    "             \t\"apples\", \"apples\", \"apples\", \"apples\",\n",
    "             \t\"apples\", \"apples\", \"apples\"],\n",
    "            \tdtype=object)\n",
    "\n",
    "shop = np.array([\"Shop A\", \"Shop A\", \"Shop A\", \"Shop B\",\n",
    "             \t\"Shop A\", \"Shop A\", \"Shop A\", \"Shop B\",\n",
    "             \t\"Shop B\", \"Shop B\", \"Shop A\"],\n",
    "            \tdtype=object)\n",
    " \n",
    "pl = np.array([\"online\", \"online\", \"offline\",\n",
    "             \t\"online\", \"online\", \"offline\",\n",
    "             \t\"offline\", \"online\", \"offline\",\n",
    "             \t\"offline\", \"offline\"],\n",
    "            \tdtype=object)\n",
    "\n",
    "df = pd.DataFrame({'fruit': fruit, 'shop': shop, 'pl': pl,\n",
    "               \t\"Q\": [1, 2, 2, 3, 3, 4, 5, 6, 7, 4, 4],\n",
    "               \t\"P\": [5, 4, 5, 5, 6, 6, 8, 9, 9, 3, 3]})\n",
    "df['total'] = df['Q']*df['P']\n"
   ]
  }
 ],
 "metadata": {
  "language_info": {
   "name": "python"
  }
 },
 "nbformat": 4,
 "nbformat_minor": 2
}
