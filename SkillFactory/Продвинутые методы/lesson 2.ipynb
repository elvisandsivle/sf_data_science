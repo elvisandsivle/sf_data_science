{
 "cells": [
  {
   "cell_type": "code",
   "execution_count": null,
   "metadata": {},
   "outputs": [],
   "source": [
    "import numpy as np\n",
    "import pandas as pd\n",
    "\n",
    "df = pd.DataFrame(np.nan, index=[0, 1, 2, 3], columns=['I', 'II', 'III'])\n",
    "df.loc[0,\"I\"] = 1\n",
    "df.loc[1,\"I\"] = 2\n",
    "df.loc[2,\"I\"] = 3\n",
    "df.loc[3,\"I\"] = 4\n",
    "df.loc[0,\"II\"] = 5\n",
    "df.loc[1,\"II\"] = 6\n",
    "df.loc[2,\"III\"] = 7\n",
    "df.loc[3,\"III\"] = 6\n",
    "\n",
    "df.index = ['1','2','3','4']\n",
    "df.columns = ['A','B','C']\n",
    "df.fillna(55, inplace = True)\n",
    "\n",
    "display(df)"
   ]
  },
  {
   "cell_type": "code",
   "execution_count": 87,
   "metadata": {},
   "outputs": [
    {
     "name": "stdout",
     "output_type": "stream",
     "text": [
      "<class 'pandas.core.series.Series'>\n"
     ]
    }
   ],
   "source": [
    "import pandas as pd\n",
    "import numpy as np\n",
    "\n",
    "fruit = np.array([\"lemons\", \"lemons\", \"lemons\", \"lemons\",\n",
    "             \t\"apples\", \"apples\", \"apples\", \"apples\",\n",
    "             \t\"apples\", \"apples\", \"apples\"],\n",
    "            \tdtype=object)\n",
    "\n",
    "shop = np.array([\"Shop A\", \"Shop A\", \"Shop A\", \"Shop B\",\n",
    "             \t\"Shop A\", \"Shop A\", \"Shop A\", \"Shop B\",\n",
    "             \t\"Shop B\", \"Shop B\", \"Shop A\"],\n",
    "            \tdtype=object)\n",
    " \n",
    "pl = np.array([\"online\", \"online\", \"offline\",\n",
    "             \t\"online\", \"online\", \"offline\",\n",
    "             \t\"offline\", \"online\", \"offline\",\n",
    "             \t\"offline\", \"offline\"],\n",
    "            \tdtype=object)\n",
    "\n",
    "df = pd.DataFrame({'fruit': fruit, 'shop': shop, 'pl': pl,\n",
    "               \t\"Q\": [1, 2, 2, 3, 3, 4, 5, 6, 7, 4, 4],\n",
    "               \t\"P\": [5, 4, 5, 5, 6, 6, 8, 9, 9, 3, 3]})\n",
    "df['total'] = df['Q']*df['P']\n",
    "\n",
    "subset = df[(df['shop'] == 'Shop A')&(df['Q']>3)]\n",
    "total2 = subset.iloc[1]['total']\n",
    "\n",
    "fruit_total = df.groupby('fruit')['total'].sum()\n",
    "#fruit_total = pd.pivot_table(df,values='total',index=['fruit'],aggfunc=np.sum)\n",
    "\n",
    "fruit_quantity = df.groupby('fruit')['Q'].sum()\n",
    "#fruit_quantity = pd.pivot_table(df,values='Q',index=['fruit'],aggfunc=np.sum)\n",
    "\n",
    "lemon_average_price = df.groupby('fruit')['P'].mean().iloc[[1]]\n",
    "\n",
    "#3.\tПосчитайте общее количество (колонка Q) всех фруктов в разбивке по названию,\n",
    "#результат (объект Series) сохраните в переменную fruit_quantity.\n",
    "\n",
    "#4.\tПосчитайте среднюю цену (колонка P) лимонов, результат (объект Series)\n",
    "#сохраните в переменную lemon_average_price.\n",
    "\n",
    "print(type(lemon_average_price))"
   ]
  },
  {
   "cell_type": "code",
   "execution_count": 93,
   "metadata": {},
   "outputs": [
    {
     "name": "stderr",
     "output_type": "stream",
     "text": [
      "C:\\Users\\Наташа\\AppData\\Local\\Temp\\ipykernel_9104\\3260740641.py:27: FutureWarning: The provided callable <function sum at 0x000001F335B17310> is currently using DataFrameGroupBy.sum. In a future version of pandas, the provided callable will be used directly. To keep current behavior pass the string \"sum\" instead.\n",
      "  pivot = pd.pivot_table(df,values='total',index=['shop'], columns = ['pl'], aggfunc=np.sum)\n",
      "C:\\Users\\Наташа\\AppData\\Local\\Temp\\ipykernel_9104\\3260740641.py:28: FutureWarning: Series.__getitem__ treating keys as positions is deprecated. In a future version, integer keys will always be treated as labels (consistent with DataFrame behavior). To access a value by position, use `ser.iloc[pos]`\n",
      "  pivot.iloc[1][1]\n"
     ]
    },
    {
     "data": {
      "text/plain": [
       "69"
      ]
     },
     "execution_count": 93,
     "metadata": {},
     "output_type": "execute_result"
    }
   ],
   "source": [
    "import pandas as pd\n",
    "import numpy as np\n",
    "\n",
    "fruit = np.array([\"lemons\", \"lemons\", \"lemons\", \"lemons\",\n",
    "                 \"apples\", \"apples\", \"apples\", \"apples\",\n",
    "                 \"apples\", \"apples\", \"apples\"],\n",
    "                dtype=object)\n",
    "\n",
    "shop = np.array([\"Shop A\", \"Shop A\", \"Shop A\", \"Shop B\",\n",
    "                 \"Shop A\", \"Shop A\", \"Shop A\", \"Shop B\",\n",
    "                 \"Shop B\", \"Shop B\", \"Shop A\"],\n",
    "                dtype=object)\n",
    "  \n",
    "pl = np.array([\"online\", \"online\", \"offline\",\n",
    "                 \"online\", \"online\", \"offline\",\n",
    "                 \"offline\", \"online\", \"offline\",\n",
    "                 \"offline\", \"offline\"],\n",
    "                dtype=object)\n",
    "\n",
    "\n",
    "\n",
    "df = pd.DataFrame({'fruit': fruit, 'shop': shop, 'pl': pl,\n",
    "                   \"Q\": [1, 2, 2, 3, 3, 4, 5, 6, 7, 4, 4],\n",
    "                   \"P\": [5, 4, 5, 5, 6, 6, 8, 9, 9, 3,3]})\n",
    "df['total'] = df['Q']*df['P']\n",
    "# далее запишите ваш код\n",
    "pivot = pd.pivot_table(df,values='total',index=['shop'], columns = ['pl'], aggfunc=np.sum)\n",
    "pivot.iloc[1][1]\n",
    "\n",
    "#1.\tСоздайте сводную таблицу датафрейма df, где будет выведено значение переменной total\n",
    "# с разбиением по строкам — категориям переменной shop и колонками по переменной pl. \n",
    "# Используйте сумму как метод сведения и сохраните таблицу в переменную pivot.\n",
    "\n",
    "#2.\tВыведите значение для второй колонки второй строки таблицы pivot."
   ]
  }
 ],
 "metadata": {
  "kernelspec": {
   "display_name": "Python 3",
   "language": "python",
   "name": "python3"
  },
  "language_info": {
   "codemirror_mode": {
    "name": "ipython",
    "version": 3
   },
   "file_extension": ".py",
   "mimetype": "text/x-python",
   "name": "python",
   "nbconvert_exporter": "python",
   "pygments_lexer": "ipython3",
   "version": "3.9.10"
  }
 },
 "nbformat": 4,
 "nbformat_minor": 2
}
