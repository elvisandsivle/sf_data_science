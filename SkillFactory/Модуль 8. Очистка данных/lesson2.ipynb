{
 "cells": [
  {
   "cell_type": "code",
   "execution_count": 32,
   "metadata": {},
   "outputs": [
    {
     "name": "stdout",
     "output_type": "stream",
     "text": [
      "Gender: 100.0% одинаковых значений\n",
      "778\n",
      "Результирующее число записей ДО: 771\n"
     ]
    }
   ],
   "source": [
    "import pandas as pd\n",
    "import numpy as np\n",
    "import matplotlib.pyplot as plt\n",
    "import seaborn as sns\n",
    "import plotly.express as px\n",
    "\n",
    "diabetes = pd.read_csv('data/diabetes_data.csv')\n",
    "#diabetes.info()\n",
    "\n",
    "dupl_columns = list(diabetes.columns)\n",
    "mask = diabetes.duplicated(subset=dupl_columns)\n",
    "sber_duplicates = diabetes[mask]\n",
    "#print(f'Число найденных дубликатов: {sber_duplicates.shape[0]}')\n",
    "sber_dedupped = diabetes.drop_duplicates(subset=dupl_columns)\n",
    "#print(f'Результирующее число записей: {sber_dedupped.shape[0]}')\n",
    "\n",
    "\n",
    "#список неинформативных признаков\n",
    "low_information_cols = [] \n",
    "\n",
    "#цикл по всем столбцам\n",
    "for col in diabetes.columns:\n",
    "    #наибольшая относительная частота в признаке\n",
    "    top_freq = diabetes[col].value_counts(normalize=True).max()\n",
    "    #доля уникальных значений от размера признака\n",
    "    nunique_ratio = diabetes[col].nunique() / diabetes[col].count()\n",
    "    # сравниваем наибольшую частоту с порогом\n",
    "    if top_freq > 0.95:\n",
    "        low_information_cols.append(col)\n",
    "        print(f'{col}: {round(top_freq*100, 2)}% одинаковых значений')\n",
    "    # сравниваем долю уникальных значений с порогом\n",
    "    if nunique_ratio > 0.95:\n",
    "        low_information_cols.append(col)\n",
    "        print(f'{col}: {round(nunique_ratio*100, 2)}% уникальных значений')\n",
    "\n",
    "information_diabetes = diabetes.drop(low_information_cols, axis=1)\n",
    "#print(f'Результирующее число признаков: {information_diabetes.shape[1]}')\n",
    "\n",
    "#ПРОПУСКИ\n",
    "\n",
    "cols = ['Glucose','BloodPressure','SkinThickness','Insulin','BMI']\n",
    "information_diabetes[cols] = information_diabetes[cols].replace({'0':np.nan, 0:np.nan})\n",
    "information_diabetes.isnull().mean()\n",
    "\n",
    "\n",
    "\n",
    "\n",
    "n = information_diabetes.shape[0] #число строк в таблице\n",
    "thresh = n*0.7\n",
    "combine_information_diabetes = information_diabetes.dropna(thresh=thresh, axis=1)\n",
    "\n",
    "#отбрасываем строки с числом пропусков более 2 в строке\n",
    "m = combine_information_diabetes.shape[1] #число признаков после удаления столбцов\n",
    "combine_information_diabetes = combine_information_diabetes.dropna(axis=0,thresh=m-2)\n",
    "print(information_diabetes.shape[0])\n",
    "print(f'Результирующее число записей ДО: {combine_information_diabetes.shape[0]}')\n"
   ]
  }
 ],
 "metadata": {
  "kernelspec": {
   "display_name": "Python 3",
   "language": "python",
   "name": "python3"
  },
  "language_info": {
   "codemirror_mode": {
    "name": "ipython",
    "version": 3
   },
   "file_extension": ".py",
   "mimetype": "text/x-python",
   "name": "python",
   "nbconvert_exporter": "python",
   "pygments_lexer": "ipython3",
   "version": "3.9.10"
  }
 },
 "nbformat": 4,
 "nbformat_minor": 2
}
