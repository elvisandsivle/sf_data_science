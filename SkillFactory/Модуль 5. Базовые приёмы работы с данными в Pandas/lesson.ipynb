{
 "cells": [
  {
   "cell_type": "code",
   "execution_count": 21,
   "metadata": {},
   "outputs": [
    {
     "name": "stdout",
     "output_type": "stream",
     "text": [
      "12822\n"
     ]
    }
   ],
   "source": [
    "import pandas as pd\n",
    "\n",
    "melb_data = pd.read_csv('data/melb_data_ps.csv', sep=',')\n",
    "melb_data.head()\n",
    "\n",
    "melb_df = melb_data.copy()\n",
    "melb_df.head()\n",
    "\n",
    "melb_df = melb_df.drop(['index', 'Coordinates'], axis=1)\n",
    "melb_df.head()\n",
    "\n",
    "total_rooms = melb_df['Rooms'] + melb_df['Bedroom'] + melb_df['Bathroom']\n",
    "#display(total_rooms)\n",
    "\n",
    "melb_df['MeanRoomsSquare'] = melb_df['BuildingArea'] / total_rooms\n",
    "#display(melb_df['MeanRoomsSquare'])\n",
    "\n",
    "diff_area = melb_df['BuildingArea'] - melb_df['Landsize']\n",
    "sum_area = melb_df['BuildingArea'] + melb_df['Landsize']\n",
    "melb_df['AreaRatio'] = diff_area/sum_area\n",
    "#display(melb_df['AreaRatio'])\n",
    "#display(melb_df['Date'])\n",
    "melb_df['Date'] = pd.to_datetime(melb_df['Date'], dayfirst=True)\n",
    "#display(melb_df['Date'])\n",
    "years_sold = melb_df['Date'].dt.year\n",
    "#print(years_sold)\n",
    "#print('Min year sold:', years_sold.min())\n",
    "#print('Max year sold:', years_sold.max())\n",
    "#print('Mode year sold:', years_sold.mode()[0])\n",
    "melb_df['MonthSale'] = melb_df['Date'].dt.month\n",
    "melb_df['MonthSale'].value_counts(normalize=True)\n",
    "delta_days = melb_df['Date'] - pd.to_datetime('2016-01-01') \n",
    "#display(delta_days)\n",
    "#display(delta_days.dt.days)\n",
    "melb_df['AgeBuilding'] = melb_df['Date'].dt.year - melb_df['YearBuilt']\n",
    "#display(melb_df['AgeBuilding'])\n",
    "melb_df = melb_df.drop('YearBuilt', axis=1)\n",
    "melb_df['WeekdaySale'] = melb_df['Date'].dt.dayofweek\n",
    "weekend_count = melb_df[(melb_df['WeekdaySale'] == 5) | (melb_df['WeekdaySale'] == 6)].shape[0]\n",
    "print(weekend_count)\n",
    "\n"
   ]
  },
  {
   "cell_type": "markdown",
   "metadata": {},
   "source": [
    "data_ufo"
   ]
  },
  {
   "cell_type": "code",
   "execution_count": 40,
   "metadata": {},
   "outputs": [
    {
     "name": "stdout",
     "output_type": "stream",
     "text": [
      "68.92932862190813\n"
     ]
    }
   ],
   "source": [
    "import pandas as pd\n",
    "\n",
    "data_ufo = pd.read_csv('data/data_ufo.csv', sep=',')\n",
    "data_ufo['Time'] = pd.to_datetime(data_ufo['Time'])\n",
    "#display(data_ufo)\n",
    "data_ufo_year = data_ufo['Time'].dt.year\n",
    "#print('max:', data_ufo_year.mode()[0])\n",
    "data_ufo['Date'] = data_ufo['Time'].dt.date\n",
    "print(data_ufo[data_ufo['State']=='NV']['Date'].diff().dt.days.mean())\n"
   ]
  }
 ],
 "metadata": {
  "kernelspec": {
   "display_name": "Python 3",
   "language": "python",
   "name": "python3"
  },
  "language_info": {
   "codemirror_mode": {
    "name": "ipython",
    "version": 3
   },
   "file_extension": ".py",
   "mimetype": "text/x-python",
   "name": "python",
   "nbconvert_exporter": "python",
   "pygments_lexer": "ipython3",
   "version": "3.9.10"
  }
 },
 "nbformat": 4,
 "nbformat_minor": 2
}
